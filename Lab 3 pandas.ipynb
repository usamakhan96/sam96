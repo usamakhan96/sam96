{
 "cells": [
  {
   "cell_type": "markdown",
   "id": "56668603",
   "metadata": {},
   "source": [
    "### Introduction To Pandas Module\n",
    "Here, we are learning data analysis. Pandas is a software library written for the Python programming language that helps with data manipulation and analysis. It offers various data structures which help in the manipulation of data. <br>\n",
    "One of the data structures used is DataFrame.<br>\n",
    "DataFrame is used as a way to store data in a rectangular grid.<br>\n",
    "Similar to how data is stored in Microsoft Excel.\n",
    "### Installation\n",
    "We can easily install this library using the terminal. Follow the steps given below to install Pandas:<br>\n",
    "Step 1: Go to the Windows PowerShell.<br>\n",
    "Step 2: We can install pandas with the help of pip easily. Head over to the directory where you want to install the pandas and fire the below command:<br>\n",
    "__pip install pandas__<br>\n",
    "This is very simple to install. "
   ]
  },
  {
   "cell_type": "code",
   "execution_count": null,
   "id": "9d7597cd",
   "metadata": {},
   "outputs": [],
   "source": [
    "# !pip install pandas"
   ]
  },
  {
   "cell_type": "markdown",
   "id": "c0604699",
   "metadata": {},
   "source": [
    "### Other way to install\n",
    "If the above steps do not work for you, here is another way to install:<br>\n",
    "Step 1: Go to your browser. Search for __python unofficial binaries__, or click <br>\n",
    "https://www.lfd.uci.edu/~gohlke/pythonlibs/<br> \n",
    "and you will be redirected to the binary page.<br>\n",
    "Step 2: To download the library, search for pandas – Ctrl + F will help you. Download pandas library based on your python version. <br>\n",
    "Step 3: After the installation, head over to the directory where you've downloaded the pandas. <br>\n",
    "Step 4: Right-click to open Windows PowerShell. Pip can help us with the installation. Just go to that location in your terminal and run the following command: <br>\n",
    "__pip install pandas__ <br>\n",
    "Complete this command by the TAB button so that the location of your folder is mentioned."
   ]
  },
  {
   "cell_type": "markdown",
   "id": "800f769b",
   "metadata": {},
   "source": [
    "### import pandas\n",
    "Once Pandas is installed, import it in your applications by adding the import keyword:<br>\n",
    "__import pandas as pd__<br>\n",
    "Now Pandas is imported and ready to use."
   ]
  },
  {
   "cell_type": "code",
   "execution_count": 1,
   "id": "74e4e20e",
   "metadata": {},
   "outputs": [],
   "source": [
    "import pandas"
   ]
  },
  {
   "cell_type": "code",
   "execution_count": 2,
   "id": "0785aeae",
   "metadata": {},
   "outputs": [],
   "source": [
    "dict1 = {\n",
    "    'Name': [\"Muhammad Ayub\", \"Ibraheem khan\", \"Muhammad Abid\", \"Shumail Khan\",\"Qasim Ali\"],\n",
    "    'Marks': [80, 72, 77, 65, 15],\n",
    "    'Class':[\"1st Year\", \"2nd Year\", \"1st Year\", \"3rd Year\", \"2nd Year\"]\n",
    "}"
   ]
  },
  {
   "cell_type": "code",
   "execution_count": 5,
   "id": "c4957475",
   "metadata": {},
   "outputs": [],
   "source": [
    "df = pandas.DataFrame(dict1)"
   ]
  },
  {
   "cell_type": "code",
   "execution_count": 7,
   "id": "62ab3cef",
   "metadata": {},
   "outputs": [],
   "source": [
    "df = pandas.DataFrame(dict1)"
   ]
  },
  {
   "cell_type": "code",
   "execution_count": 9,
   "id": "418d12ca",
   "metadata": {},
   "outputs": [
    {
     "data": {
      "text/html": [
       "<div>\n",
       "<style scoped>\n",
       "    .dataframe tbody tr th:only-of-type {\n",
       "        vertical-align: middle;\n",
       "    }\n",
       "\n",
       "    .dataframe tbody tr th {\n",
       "        vertical-align: top;\n",
       "    }\n",
       "\n",
       "    .dataframe thead th {\n",
       "        text-align: right;\n",
       "    }\n",
       "</style>\n",
       "<table border=\"1\" class=\"dataframe\">\n",
       "  <thead>\n",
       "    <tr style=\"text-align: right;\">\n",
       "      <th></th>\n",
       "      <th>Name</th>\n",
       "      <th>Marks</th>\n",
       "      <th>Class</th>\n",
       "    </tr>\n",
       "  </thead>\n",
       "  <tbody>\n",
       "    <tr>\n",
       "      <th>0</th>\n",
       "      <td>Muhammad Ayub</td>\n",
       "      <td>80</td>\n",
       "      <td>1st Year</td>\n",
       "    </tr>\n",
       "    <tr>\n",
       "      <th>1</th>\n",
       "      <td>Ibraheem khan</td>\n",
       "      <td>72</td>\n",
       "      <td>2nd Year</td>\n",
       "    </tr>\n",
       "    <tr>\n",
       "      <th>2</th>\n",
       "      <td>Muhammad Abid</td>\n",
       "      <td>77</td>\n",
       "      <td>1st Year</td>\n",
       "    </tr>\n",
       "    <tr>\n",
       "      <th>3</th>\n",
       "      <td>Shumail Khan</td>\n",
       "      <td>65</td>\n",
       "      <td>3rd Year</td>\n",
       "    </tr>\n",
       "    <tr>\n",
       "      <th>4</th>\n",
       "      <td>Qasim Ali</td>\n",
       "      <td>15</td>\n",
       "      <td>2nd Year</td>\n",
       "    </tr>\n",
       "  </tbody>\n",
       "</table>\n",
       "</div>"
      ],
      "text/plain": [
       "            Name  Marks     Class\n",
       "0  Muhammad Ayub     80  1st Year\n",
       "1  Ibraheem khan     72  2nd Year\n",
       "2  Muhammad Abid     77  1st Year\n",
       "3   Shumail Khan     65  3rd Year\n",
       "4      Qasim Ali     15  2nd Year"
      ]
     },
     "execution_count": 9,
     "metadata": {},
     "output_type": "execute_result"
    }
   ],
   "source": [
    "df"
   ]
  },
  {
   "cell_type": "markdown",
   "id": "cf6a5e3b",
   "metadata": {},
   "source": [
    "### Pandas as pd\n",
    "Pandas is usually imported under the pd alias.\n",
    "#### alias: \n",
    "In Python alias are an alternate name for referring to the same thing.<br>\n",
    "Create an alias with the as keyword while importing:<br>\n",
    "__import pandas as pd__<br>\n",
    "Now the Pandas package can be referred to as pd instead of pandas."
   ]
  },
  {
   "cell_type": "code",
   "execution_count": 11,
   "id": "8d2d715b",
   "metadata": {},
   "outputs": [],
   "source": [
    "import pandas as pd"
   ]
  },
  {
   "cell_type": "code",
   "execution_count": 13,
   "id": "6efcbfa5",
   "metadata": {},
   "outputs": [],
   "source": [
    "df = pd.DataFrame(dict1)"
   ]
  },
  {
   "cell_type": "code",
   "execution_count": 15,
   "id": "3d64ad00",
   "metadata": {},
   "outputs": [
    {
     "data": {
      "text/html": [
       "<div>\n",
       "<style scoped>\n",
       "    .dataframe tbody tr th:only-of-type {\n",
       "        vertical-align: middle;\n",
       "    }\n",
       "\n",
       "    .dataframe tbody tr th {\n",
       "        vertical-align: top;\n",
       "    }\n",
       "\n",
       "    .dataframe thead th {\n",
       "        text-align: right;\n",
       "    }\n",
       "</style>\n",
       "<table border=\"1\" class=\"dataframe\">\n",
       "  <thead>\n",
       "    <tr style=\"text-align: right;\">\n",
       "      <th></th>\n",
       "      <th>Name</th>\n",
       "      <th>Marks</th>\n",
       "      <th>Class</th>\n",
       "    </tr>\n",
       "  </thead>\n",
       "  <tbody>\n",
       "    <tr>\n",
       "      <th>0</th>\n",
       "      <td>Muhammad Ayub</td>\n",
       "      <td>80</td>\n",
       "      <td>1st Year</td>\n",
       "    </tr>\n",
       "    <tr>\n",
       "      <th>1</th>\n",
       "      <td>Ibraheem khan</td>\n",
       "      <td>72</td>\n",
       "      <td>2nd Year</td>\n",
       "    </tr>\n",
       "    <tr>\n",
       "      <th>2</th>\n",
       "      <td>Muhammad Abid</td>\n",
       "      <td>77</td>\n",
       "      <td>1st Year</td>\n",
       "    </tr>\n",
       "    <tr>\n",
       "      <th>3</th>\n",
       "      <td>Shumail Khan</td>\n",
       "      <td>65</td>\n",
       "      <td>3rd Year</td>\n",
       "    </tr>\n",
       "    <tr>\n",
       "      <th>4</th>\n",
       "      <td>Qasim Ali</td>\n",
       "      <td>15</td>\n",
       "      <td>2nd Year</td>\n",
       "    </tr>\n",
       "  </tbody>\n",
       "</table>\n",
       "</div>"
      ],
      "text/plain": [
       "            Name  Marks     Class\n",
       "0  Muhammad Ayub     80  1st Year\n",
       "1  Ibraheem khan     72  2nd Year\n",
       "2  Muhammad Abid     77  1st Year\n",
       "3   Shumail Khan     65  3rd Year\n",
       "4      Qasim Ali     15  2nd Year"
      ]
     },
     "execution_count": 15,
     "metadata": {},
     "output_type": "execute_result"
    }
   ],
   "source": [
    "df"
   ]
  },
  {
   "cell_type": "markdown",
   "id": "bbd5858a",
   "metadata": {},
   "source": [
    "### Checking Pandas Version\n",
    "The version string is stored under __version__ attribute."
   ]
  },
  {
   "cell_type": "code",
   "execution_count": 17,
   "id": "1b1f0bc2",
   "metadata": {},
   "outputs": [
    {
     "data": {
      "text/plain": [
       "'2.2.2'"
      ]
     },
     "execution_count": 17,
     "metadata": {},
     "output_type": "execute_result"
    }
   ],
   "source": [
    "pd.__version__"
   ]
  },
  {
   "cell_type": "markdown",
   "id": "be883ee5",
   "metadata": {},
   "source": [
    "## Import to CSV"
   ]
  },
  {
   "cell_type": "code",
   "execution_count": 19,
   "id": "f91b48d9",
   "metadata": {},
   "outputs": [],
   "source": [
    "df.to_csv('pythonMonday.csv')"
   ]
  },
  {
   "cell_type": "markdown",
   "id": "97375b17",
   "metadata": {},
   "source": [
    "## Remove Index"
   ]
  },
  {
   "cell_type": "code",
   "execution_count": 21,
   "id": "97ba78c5",
   "metadata": {},
   "outputs": [],
   "source": [
    "df.to_csv('pythonMondayRemoveIndex.csv', index=False)"
   ]
  },
  {
   "cell_type": "markdown",
   "id": "be14b569",
   "metadata": {},
   "source": [
    "## Show some rows from the Start"
   ]
  },
  {
   "cell_type": "code",
   "execution_count": 23,
   "id": "01615a53",
   "metadata": {
    "scrolled": true
   },
   "outputs": [
    {
     "data": {
      "text/html": [
       "<div>\n",
       "<style scoped>\n",
       "    .dataframe tbody tr th:only-of-type {\n",
       "        vertical-align: middle;\n",
       "    }\n",
       "\n",
       "    .dataframe tbody tr th {\n",
       "        vertical-align: top;\n",
       "    }\n",
       "\n",
       "    .dataframe thead th {\n",
       "        text-align: right;\n",
       "    }\n",
       "</style>\n",
       "<table border=\"1\" class=\"dataframe\">\n",
       "  <thead>\n",
       "    <tr style=\"text-align: right;\">\n",
       "      <th></th>\n",
       "      <th>Name</th>\n",
       "      <th>Marks</th>\n",
       "      <th>Class</th>\n",
       "    </tr>\n",
       "  </thead>\n",
       "  <tbody>\n",
       "    <tr>\n",
       "      <th>0</th>\n",
       "      <td>Muhammad Ayub</td>\n",
       "      <td>80</td>\n",
       "      <td>1st Year</td>\n",
       "    </tr>\n",
       "    <tr>\n",
       "      <th>1</th>\n",
       "      <td>Ibraheem khan</td>\n",
       "      <td>72</td>\n",
       "      <td>2nd Year</td>\n",
       "    </tr>\n",
       "    <tr>\n",
       "      <th>2</th>\n",
       "      <td>Muhammad Abid</td>\n",
       "      <td>77</td>\n",
       "      <td>1st Year</td>\n",
       "    </tr>\n",
       "    <tr>\n",
       "      <th>3</th>\n",
       "      <td>Shumail Khan</td>\n",
       "      <td>65</td>\n",
       "      <td>3rd Year</td>\n",
       "    </tr>\n",
       "    <tr>\n",
       "      <th>4</th>\n",
       "      <td>Qasim Ali</td>\n",
       "      <td>15</td>\n",
       "      <td>2nd Year</td>\n",
       "    </tr>\n",
       "  </tbody>\n",
       "</table>\n",
       "</div>"
      ],
      "text/plain": [
       "            Name  Marks     Class\n",
       "0  Muhammad Ayub     80  1st Year\n",
       "1  Ibraheem khan     72  2nd Year\n",
       "2  Muhammad Abid     77  1st Year\n",
       "3   Shumail Khan     65  3rd Year\n",
       "4      Qasim Ali     15  2nd Year"
      ]
     },
     "execution_count": 23,
     "metadata": {},
     "output_type": "execute_result"
    }
   ],
   "source": [
    "df.head()"
   ]
  },
  {
   "cell_type": "code",
   "execution_count": 25,
   "id": "22951ef2",
   "metadata": {},
   "outputs": [
    {
     "data": {
      "text/html": [
       "<div>\n",
       "<style scoped>\n",
       "    .dataframe tbody tr th:only-of-type {\n",
       "        vertical-align: middle;\n",
       "    }\n",
       "\n",
       "    .dataframe tbody tr th {\n",
       "        vertical-align: top;\n",
       "    }\n",
       "\n",
       "    .dataframe thead th {\n",
       "        text-align: right;\n",
       "    }\n",
       "</style>\n",
       "<table border=\"1\" class=\"dataframe\">\n",
       "  <thead>\n",
       "    <tr style=\"text-align: right;\">\n",
       "      <th></th>\n",
       "      <th>Name</th>\n",
       "      <th>Marks</th>\n",
       "      <th>Class</th>\n",
       "    </tr>\n",
       "  </thead>\n",
       "  <tbody>\n",
       "    <tr>\n",
       "      <th>0</th>\n",
       "      <td>Muhammad Ayub</td>\n",
       "      <td>80</td>\n",
       "      <td>1st Year</td>\n",
       "    </tr>\n",
       "    <tr>\n",
       "      <th>1</th>\n",
       "      <td>Ibraheem khan</td>\n",
       "      <td>72</td>\n",
       "      <td>2nd Year</td>\n",
       "    </tr>\n",
       "    <tr>\n",
       "      <th>2</th>\n",
       "      <td>Muhammad Abid</td>\n",
       "      <td>77</td>\n",
       "      <td>1st Year</td>\n",
       "    </tr>\n",
       "    <tr>\n",
       "      <th>3</th>\n",
       "      <td>Shumail Khan</td>\n",
       "      <td>65</td>\n",
       "      <td>3rd Year</td>\n",
       "    </tr>\n",
       "    <tr>\n",
       "      <th>4</th>\n",
       "      <td>Qasim Ali</td>\n",
       "      <td>15</td>\n",
       "      <td>2nd Year</td>\n",
       "    </tr>\n",
       "  </tbody>\n",
       "</table>\n",
       "</div>"
      ],
      "text/plain": [
       "            Name  Marks     Class\n",
       "0  Muhammad Ayub     80  1st Year\n",
       "1  Ibraheem khan     72  2nd Year\n",
       "2  Muhammad Abid     77  1st Year\n",
       "3   Shumail Khan     65  3rd Year\n",
       "4      Qasim Ali     15  2nd Year"
      ]
     },
     "execution_count": 25,
     "metadata": {},
     "output_type": "execute_result"
    }
   ],
   "source": [
    "df.head()"
   ]
  },
  {
   "cell_type": "code",
   "execution_count": 27,
   "id": "36e7a4a2",
   "metadata": {},
   "outputs": [
    {
     "data": {
      "text/html": [
       "<div>\n",
       "<style scoped>\n",
       "    .dataframe tbody tr th:only-of-type {\n",
       "        vertical-align: middle;\n",
       "    }\n",
       "\n",
       "    .dataframe tbody tr th {\n",
       "        vertical-align: top;\n",
       "    }\n",
       "\n",
       "    .dataframe thead th {\n",
       "        text-align: right;\n",
       "    }\n",
       "</style>\n",
       "<table border=\"1\" class=\"dataframe\">\n",
       "  <thead>\n",
       "    <tr style=\"text-align: right;\">\n",
       "      <th></th>\n",
       "      <th>Name</th>\n",
       "      <th>Marks</th>\n",
       "      <th>Class</th>\n",
       "    </tr>\n",
       "  </thead>\n",
       "  <tbody>\n",
       "    <tr>\n",
       "      <th>2</th>\n",
       "      <td>Muhammad Abid</td>\n",
       "      <td>77</td>\n",
       "      <td>1st Year</td>\n",
       "    </tr>\n",
       "    <tr>\n",
       "      <th>3</th>\n",
       "      <td>Shumail Khan</td>\n",
       "      <td>65</td>\n",
       "      <td>3rd Year</td>\n",
       "    </tr>\n",
       "    <tr>\n",
       "      <th>4</th>\n",
       "      <td>Qasim Ali</td>\n",
       "      <td>15</td>\n",
       "      <td>2nd Year</td>\n",
       "    </tr>\n",
       "  </tbody>\n",
       "</table>\n",
       "</div>"
      ],
      "text/plain": [
       "            Name  Marks     Class\n",
       "2  Muhammad Abid     77  1st Year\n",
       "3   Shumail Khan     65  3rd Year\n",
       "4      Qasim Ali     15  2nd Year"
      ]
     },
     "execution_count": 27,
     "metadata": {},
     "output_type": "execute_result"
    }
   ],
   "source": [
    "df.tail(3)"
   ]
  },
  {
   "cell_type": "code",
   "execution_count": 29,
   "id": "59b61b63",
   "metadata": {},
   "outputs": [
    {
     "data": {
      "text/html": [
       "<div>\n",
       "<style scoped>\n",
       "    .dataframe tbody tr th:only-of-type {\n",
       "        vertical-align: middle;\n",
       "    }\n",
       "\n",
       "    .dataframe tbody tr th {\n",
       "        vertical-align: top;\n",
       "    }\n",
       "\n",
       "    .dataframe thead th {\n",
       "        text-align: right;\n",
       "    }\n",
       "</style>\n",
       "<table border=\"1\" class=\"dataframe\">\n",
       "  <thead>\n",
       "    <tr style=\"text-align: right;\">\n",
       "      <th></th>\n",
       "      <th>Name</th>\n",
       "      <th>Marks</th>\n",
       "      <th>Class</th>\n",
       "    </tr>\n",
       "  </thead>\n",
       "  <tbody>\n",
       "    <tr>\n",
       "      <th>0</th>\n",
       "      <td>Muhammad Ayub</td>\n",
       "      <td>80</td>\n",
       "      <td>1st Year</td>\n",
       "    </tr>\n",
       "    <tr>\n",
       "      <th>1</th>\n",
       "      <td>Ibraheem khan</td>\n",
       "      <td>72</td>\n",
       "      <td>2nd Year</td>\n",
       "    </tr>\n",
       "    <tr>\n",
       "      <th>2</th>\n",
       "      <td>Muhammad Abid</td>\n",
       "      <td>77</td>\n",
       "      <td>1st Year</td>\n",
       "    </tr>\n",
       "    <tr>\n",
       "      <th>3</th>\n",
       "      <td>Shumail Khan</td>\n",
       "      <td>65</td>\n",
       "      <td>3rd Year</td>\n",
       "    </tr>\n",
       "    <tr>\n",
       "      <th>4</th>\n",
       "      <td>Qasim Ali</td>\n",
       "      <td>15</td>\n",
       "      <td>2nd Year</td>\n",
       "    </tr>\n",
       "  </tbody>\n",
       "</table>\n",
       "</div>"
      ],
      "text/plain": [
       "            Name  Marks     Class\n",
       "0  Muhammad Ayub     80  1st Year\n",
       "1  Ibraheem khan     72  2nd Year\n",
       "2  Muhammad Abid     77  1st Year\n",
       "3   Shumail Khan     65  3rd Year\n",
       "4      Qasim Ali     15  2nd Year"
      ]
     },
     "execution_count": 29,
     "metadata": {},
     "output_type": "execute_result"
    }
   ],
   "source": [
    "df.tail()"
   ]
  },
  {
   "cell_type": "code",
   "execution_count": 31,
   "id": "d4e52c58",
   "metadata": {},
   "outputs": [
    {
     "data": {
      "text/html": [
       "<div>\n",
       "<style scoped>\n",
       "    .dataframe tbody tr th:only-of-type {\n",
       "        vertical-align: middle;\n",
       "    }\n",
       "\n",
       "    .dataframe tbody tr th {\n",
       "        vertical-align: top;\n",
       "    }\n",
       "\n",
       "    .dataframe thead th {\n",
       "        text-align: right;\n",
       "    }\n",
       "</style>\n",
       "<table border=\"1\" class=\"dataframe\">\n",
       "  <thead>\n",
       "    <tr style=\"text-align: right;\">\n",
       "      <th></th>\n",
       "      <th>Marks</th>\n",
       "    </tr>\n",
       "  </thead>\n",
       "  <tbody>\n",
       "    <tr>\n",
       "      <th>count</th>\n",
       "      <td>5.000000</td>\n",
       "    </tr>\n",
       "    <tr>\n",
       "      <th>mean</th>\n",
       "      <td>61.800000</td>\n",
       "    </tr>\n",
       "    <tr>\n",
       "      <th>std</th>\n",
       "      <td>26.771253</td>\n",
       "    </tr>\n",
       "    <tr>\n",
       "      <th>min</th>\n",
       "      <td>15.000000</td>\n",
       "    </tr>\n",
       "    <tr>\n",
       "      <th>25%</th>\n",
       "      <td>65.000000</td>\n",
       "    </tr>\n",
       "    <tr>\n",
       "      <th>50%</th>\n",
       "      <td>72.000000</td>\n",
       "    </tr>\n",
       "    <tr>\n",
       "      <th>75%</th>\n",
       "      <td>77.000000</td>\n",
       "    </tr>\n",
       "    <tr>\n",
       "      <th>max</th>\n",
       "      <td>80.000000</td>\n",
       "    </tr>\n",
       "  </tbody>\n",
       "</table>\n",
       "</div>"
      ],
      "text/plain": [
       "           Marks\n",
       "count   5.000000\n",
       "mean   61.800000\n",
       "std    26.771253\n",
       "min    15.000000\n",
       "25%    65.000000\n",
       "50%    72.000000\n",
       "75%    77.000000\n",
       "max    80.000000"
      ]
     },
     "execution_count": 31,
     "metadata": {},
     "output_type": "execute_result"
    }
   ],
   "source": [
    "df.describe()"
   ]
  },
  {
   "cell_type": "code",
   "execution_count": 36,
   "id": "cef41eeb",
   "metadata": {},
   "outputs": [],
   "source": [
    "classData= pd.read_csv(\"pythonMonday.csv\")"
   ]
  },
  {
   "cell_type": "code",
   "execution_count": 38,
   "id": "68ab1c5b",
   "metadata": {
    "scrolled": true
   },
   "outputs": [
    {
     "data": {
      "text/html": [
       "<div>\n",
       "<style scoped>\n",
       "    .dataframe tbody tr th:only-of-type {\n",
       "        vertical-align: middle;\n",
       "    }\n",
       "\n",
       "    .dataframe tbody tr th {\n",
       "        vertical-align: top;\n",
       "    }\n",
       "\n",
       "    .dataframe thead th {\n",
       "        text-align: right;\n",
       "    }\n",
       "</style>\n",
       "<table border=\"1\" class=\"dataframe\">\n",
       "  <thead>\n",
       "    <tr style=\"text-align: right;\">\n",
       "      <th></th>\n",
       "      <th>Unnamed: 0</th>\n",
       "      <th>Name</th>\n",
       "      <th>Marks</th>\n",
       "      <th>Class</th>\n",
       "    </tr>\n",
       "  </thead>\n",
       "  <tbody>\n",
       "    <tr>\n",
       "      <th>0</th>\n",
       "      <td>0</td>\n",
       "      <td>Muhammad Ayub</td>\n",
       "      <td>80</td>\n",
       "      <td>1st Year</td>\n",
       "    </tr>\n",
       "    <tr>\n",
       "      <th>1</th>\n",
       "      <td>1</td>\n",
       "      <td>Ibraheem khan</td>\n",
       "      <td>72</td>\n",
       "      <td>2nd Year</td>\n",
       "    </tr>\n",
       "    <tr>\n",
       "      <th>2</th>\n",
       "      <td>2</td>\n",
       "      <td>Muhammad Abid</td>\n",
       "      <td>77</td>\n",
       "      <td>1st Year</td>\n",
       "    </tr>\n",
       "    <tr>\n",
       "      <th>3</th>\n",
       "      <td>3</td>\n",
       "      <td>Shumail Khan</td>\n",
       "      <td>65</td>\n",
       "      <td>3rd Year</td>\n",
       "    </tr>\n",
       "    <tr>\n",
       "      <th>4</th>\n",
       "      <td>4</td>\n",
       "      <td>Qasim Ali</td>\n",
       "      <td>15</td>\n",
       "      <td>2nd Year</td>\n",
       "    </tr>\n",
       "  </tbody>\n",
       "</table>\n",
       "</div>"
      ],
      "text/plain": [
       "   Unnamed: 0           Name  Marks     Class\n",
       "0           0  Muhammad Ayub     80  1st Year\n",
       "1           1  Ibraheem khan     72  2nd Year\n",
       "2           2  Muhammad Abid     77  1st Year\n",
       "3           3   Shumail Khan     65  3rd Year\n",
       "4           4      Qasim Ali     15  2nd Year"
      ]
     },
     "execution_count": 38,
     "metadata": {},
     "output_type": "execute_result"
    }
   ],
   "source": [
    "classData"
   ]
  },
  {
   "cell_type": "code",
   "execution_count": 134,
   "id": "830bb23b",
   "metadata": {},
   "outputs": [
    {
     "ename": "KeyError",
     "evalue": "'[0] not found in axis'",
     "output_type": "error",
     "traceback": [
      "\u001b[1;31m---------------------------------------------------------------------------\u001b[0m",
      "\u001b[1;31mKeyError\u001b[0m                                  Traceback (most recent call last)",
      "Cell \u001b[1;32mIn[134], line 1\u001b[0m\n\u001b[1;32m----> 1\u001b[0m classData\u001b[38;5;241m.\u001b[39mdrop(\u001b[38;5;241m0\u001b[39m, axis\u001b[38;5;241m=\u001b[39m\u001b[38;5;241m0\u001b[39m)\n",
      "File \u001b[1;32mD:\\anconda\\Lib\\site-packages\\pandas\\core\\frame.py:5581\u001b[0m, in \u001b[0;36mDataFrame.drop\u001b[1;34m(self, labels, axis, index, columns, level, inplace, errors)\u001b[0m\n\u001b[0;32m   5433\u001b[0m \u001b[38;5;28;01mdef\u001b[39;00m \u001b[38;5;21mdrop\u001b[39m(\n\u001b[0;32m   5434\u001b[0m     \u001b[38;5;28mself\u001b[39m,\n\u001b[0;32m   5435\u001b[0m     labels: IndexLabel \u001b[38;5;241m|\u001b[39m \u001b[38;5;28;01mNone\u001b[39;00m \u001b[38;5;241m=\u001b[39m \u001b[38;5;28;01mNone\u001b[39;00m,\n\u001b[1;32m   (...)\u001b[0m\n\u001b[0;32m   5442\u001b[0m     errors: IgnoreRaise \u001b[38;5;241m=\u001b[39m \u001b[38;5;124m\"\u001b[39m\u001b[38;5;124mraise\u001b[39m\u001b[38;5;124m\"\u001b[39m,\n\u001b[0;32m   5443\u001b[0m ) \u001b[38;5;241m-\u001b[39m\u001b[38;5;241m>\u001b[39m DataFrame \u001b[38;5;241m|\u001b[39m \u001b[38;5;28;01mNone\u001b[39;00m:\n\u001b[0;32m   5444\u001b[0m \u001b[38;5;250m    \u001b[39m\u001b[38;5;124;03m\"\"\"\u001b[39;00m\n\u001b[0;32m   5445\u001b[0m \u001b[38;5;124;03m    Drop specified labels from rows or columns.\u001b[39;00m\n\u001b[0;32m   5446\u001b[0m \n\u001b[1;32m   (...)\u001b[0m\n\u001b[0;32m   5579\u001b[0m \u001b[38;5;124;03m            weight  1.0     0.8\u001b[39;00m\n\u001b[0;32m   5580\u001b[0m \u001b[38;5;124;03m    \"\"\"\u001b[39;00m\n\u001b[1;32m-> 5581\u001b[0m     \u001b[38;5;28;01mreturn\u001b[39;00m \u001b[38;5;28msuper\u001b[39m()\u001b[38;5;241m.\u001b[39mdrop(\n\u001b[0;32m   5582\u001b[0m         labels\u001b[38;5;241m=\u001b[39mlabels,\n\u001b[0;32m   5583\u001b[0m         axis\u001b[38;5;241m=\u001b[39maxis,\n\u001b[0;32m   5584\u001b[0m         index\u001b[38;5;241m=\u001b[39mindex,\n\u001b[0;32m   5585\u001b[0m         columns\u001b[38;5;241m=\u001b[39mcolumns,\n\u001b[0;32m   5586\u001b[0m         level\u001b[38;5;241m=\u001b[39mlevel,\n\u001b[0;32m   5587\u001b[0m         inplace\u001b[38;5;241m=\u001b[39minplace,\n\u001b[0;32m   5588\u001b[0m         errors\u001b[38;5;241m=\u001b[39merrors,\n\u001b[0;32m   5589\u001b[0m     )\n",
      "File \u001b[1;32mD:\\anconda\\Lib\\site-packages\\pandas\\core\\generic.py:4788\u001b[0m, in \u001b[0;36mNDFrame.drop\u001b[1;34m(self, labels, axis, index, columns, level, inplace, errors)\u001b[0m\n\u001b[0;32m   4786\u001b[0m \u001b[38;5;28;01mfor\u001b[39;00m axis, labels \u001b[38;5;129;01min\u001b[39;00m axes\u001b[38;5;241m.\u001b[39mitems():\n\u001b[0;32m   4787\u001b[0m     \u001b[38;5;28;01mif\u001b[39;00m labels \u001b[38;5;129;01mis\u001b[39;00m \u001b[38;5;129;01mnot\u001b[39;00m \u001b[38;5;28;01mNone\u001b[39;00m:\n\u001b[1;32m-> 4788\u001b[0m         obj \u001b[38;5;241m=\u001b[39m obj\u001b[38;5;241m.\u001b[39m_drop_axis(labels, axis, level\u001b[38;5;241m=\u001b[39mlevel, errors\u001b[38;5;241m=\u001b[39merrors)\n\u001b[0;32m   4790\u001b[0m \u001b[38;5;28;01mif\u001b[39;00m inplace:\n\u001b[0;32m   4791\u001b[0m     \u001b[38;5;28mself\u001b[39m\u001b[38;5;241m.\u001b[39m_update_inplace(obj)\n",
      "File \u001b[1;32mD:\\anconda\\Lib\\site-packages\\pandas\\core\\generic.py:4830\u001b[0m, in \u001b[0;36mNDFrame._drop_axis\u001b[1;34m(self, labels, axis, level, errors, only_slice)\u001b[0m\n\u001b[0;32m   4828\u001b[0m         new_axis \u001b[38;5;241m=\u001b[39m axis\u001b[38;5;241m.\u001b[39mdrop(labels, level\u001b[38;5;241m=\u001b[39mlevel, errors\u001b[38;5;241m=\u001b[39merrors)\n\u001b[0;32m   4829\u001b[0m     \u001b[38;5;28;01melse\u001b[39;00m:\n\u001b[1;32m-> 4830\u001b[0m         new_axis \u001b[38;5;241m=\u001b[39m axis\u001b[38;5;241m.\u001b[39mdrop(labels, errors\u001b[38;5;241m=\u001b[39merrors)\n\u001b[0;32m   4831\u001b[0m     indexer \u001b[38;5;241m=\u001b[39m axis\u001b[38;5;241m.\u001b[39mget_indexer(new_axis)\n\u001b[0;32m   4833\u001b[0m \u001b[38;5;66;03m# Case for non-unique axis\u001b[39;00m\n\u001b[0;32m   4834\u001b[0m \u001b[38;5;28;01melse\u001b[39;00m:\n",
      "File \u001b[1;32mD:\\anconda\\Lib\\site-packages\\pandas\\core\\indexes\\base.py:7070\u001b[0m, in \u001b[0;36mIndex.drop\u001b[1;34m(self, labels, errors)\u001b[0m\n\u001b[0;32m   7068\u001b[0m \u001b[38;5;28;01mif\u001b[39;00m mask\u001b[38;5;241m.\u001b[39many():\n\u001b[0;32m   7069\u001b[0m     \u001b[38;5;28;01mif\u001b[39;00m errors \u001b[38;5;241m!=\u001b[39m \u001b[38;5;124m\"\u001b[39m\u001b[38;5;124mignore\u001b[39m\u001b[38;5;124m\"\u001b[39m:\n\u001b[1;32m-> 7070\u001b[0m         \u001b[38;5;28;01mraise\u001b[39;00m \u001b[38;5;167;01mKeyError\u001b[39;00m(\u001b[38;5;124mf\u001b[39m\u001b[38;5;124m\"\u001b[39m\u001b[38;5;132;01m{\u001b[39;00mlabels[mask]\u001b[38;5;241m.\u001b[39mtolist()\u001b[38;5;132;01m}\u001b[39;00m\u001b[38;5;124m not found in axis\u001b[39m\u001b[38;5;124m\"\u001b[39m)\n\u001b[0;32m   7071\u001b[0m     indexer \u001b[38;5;241m=\u001b[39m indexer[\u001b[38;5;241m~\u001b[39mmask]\n\u001b[0;32m   7072\u001b[0m \u001b[38;5;28;01mreturn\u001b[39;00m \u001b[38;5;28mself\u001b[39m\u001b[38;5;241m.\u001b[39mdelete(indexer)\n",
      "\u001b[1;31mKeyError\u001b[0m: '[0] not found in axis'"
     ]
    }
   ],
   "source": [
    "classData.drop(0, axis=0)"
   ]
  },
  {
   "cell_type": "code",
   "execution_count": null,
   "id": "2a995fd3",
   "metadata": {},
   "outputs": [],
   "source": [
    "classData"
   ]
  },
  {
   "cell_type": "code",
   "execution_count": 46,
   "id": "2c7214e7",
   "metadata": {},
   "outputs": [
    {
     "data": {
      "text/plain": [
       "0    Muhammad Ayub\n",
       "1    Ibraheem khan\n",
       "2    Muhammad Abid\n",
       "3     Shumail Khan\n",
       "4        Qasim Ali\n",
       "Name: Name, dtype: object"
      ]
     },
     "execution_count": 46,
     "metadata": {},
     "output_type": "execute_result"
    }
   ],
   "source": [
    "classData['Name']"
   ]
  },
  {
   "cell_type": "code",
   "execution_count": 52,
   "id": "a8ed245d",
   "metadata": {},
   "outputs": [
    {
     "data": {
      "text/plain": [
       "0    1st Year\n",
       "1    2nd Year\n",
       "2    1st Year\n",
       "3    3rd Year\n",
       "4    2nd Year\n",
       "Name: Class, dtype: object"
      ]
     },
     "execution_count": 52,
     "metadata": {},
     "output_type": "execute_result"
    }
   ],
   "source": [
    "classData['Class']"
   ]
  },
  {
   "cell_type": "code",
   "execution_count": 62,
   "id": "59bf8806",
   "metadata": {},
   "outputs": [
    {
     "data": {
      "text/plain": [
       "0    1st Year\n",
       "1    2nd Year\n",
       "2    1st Year\n",
       "3    3rd Year\n",
       "4    2nd Year\n",
       "Name: Class, dtype: object"
      ]
     },
     "execution_count": 62,
     "metadata": {},
     "output_type": "execute_result"
    }
   ],
   "source": [
    "classData['Class']"
   ]
  },
  {
   "cell_type": "code",
   "execution_count": 64,
   "id": "99c76ae8",
   "metadata": {},
   "outputs": [
    {
     "data": {
      "text/plain": [
       "0    Muhammad Ayub\n",
       "1    Ibraheem khan\n",
       "2    Muhammad Abid\n",
       "3     Shumail Khan\n",
       "4        Qasim Ali\n",
       "Name: Name, dtype: object"
      ]
     },
     "execution_count": 64,
     "metadata": {},
     "output_type": "execute_result"
    }
   ],
   "source": [
    "classData['Name']"
   ]
  },
  {
   "cell_type": "code",
   "execution_count": 72,
   "id": "5b926cfa",
   "metadata": {},
   "outputs": [
    {
     "data": {
      "text/plain": [
       "0    Muhammad Ayub\n",
       "1    Ibraheem khan\n",
       "2    Muhammad Abid\n",
       "3     Shumail Khan\n",
       "4        Qasim Ali\n",
       "Name: Name, dtype: object"
      ]
     },
     "execution_count": 72,
     "metadata": {},
     "output_type": "execute_result"
    }
   ],
   "source": [
    "classData['Name']"
   ]
  },
  {
   "cell_type": "code",
   "execution_count": 74,
   "id": "377b2115",
   "metadata": {},
   "outputs": [
    {
     "data": {
      "text/plain": [
       "pandas.core.series.Series"
      ]
     },
     "execution_count": 74,
     "metadata": {},
     "output_type": "execute_result"
    }
   ],
   "source": [
    "type(classData['Name'])"
   ]
  },
  {
   "cell_type": "code",
   "execution_count": 84,
   "id": "c87b914f",
   "metadata": {},
   "outputs": [
    {
     "data": {
      "text/plain": [
       "0    80\n",
       "1    72\n",
       "2    77\n",
       "3    65\n",
       "4    15\n",
       "Name: Marks, dtype: int64"
      ]
     },
     "execution_count": 84,
     "metadata": {},
     "output_type": "execute_result"
    }
   ],
   "source": [
    "classData['Marks']"
   ]
  },
  {
   "cell_type": "code",
   "execution_count": 86,
   "id": "c40e2744",
   "metadata": {},
   "outputs": [
    {
     "data": {
      "text/plain": [
       "80"
      ]
     },
     "execution_count": 86,
     "metadata": {},
     "output_type": "execute_result"
    }
   ],
   "source": [
    "classData['Marks'][0]"
   ]
  },
  {
   "cell_type": "code",
   "execution_count": 90,
   "id": "4b39e3e9",
   "metadata": {},
   "outputs": [
    {
     "name": "stderr",
     "output_type": "stream",
     "text": [
      "C:\\Users\\USAMA\\AppData\\Local\\Temp\\ipykernel_6780\\3766287785.py:1: SettingWithCopyWarning: \n",
      "A value is trying to be set on a copy of a slice from a DataFrame\n",
      "\n",
      "See the caveats in the documentation: https://pandas.pydata.org/pandas-docs/stable/user_guide/indexing.html#returning-a-view-versus-a-copy\n",
      "  classData['Marks'][0]=90\n"
     ]
    }
   ],
   "source": [
    "classData['Marks'][0]=90"
   ]
  },
  {
   "cell_type": "code",
   "execution_count": 92,
   "id": "4f1aaee2",
   "metadata": {},
   "outputs": [
    {
     "data": {
      "text/html": [
       "<div>\n",
       "<style scoped>\n",
       "    .dataframe tbody tr th:only-of-type {\n",
       "        vertical-align: middle;\n",
       "    }\n",
       "\n",
       "    .dataframe tbody tr th {\n",
       "        vertical-align: top;\n",
       "    }\n",
       "\n",
       "    .dataframe thead th {\n",
       "        text-align: right;\n",
       "    }\n",
       "</style>\n",
       "<table border=\"1\" class=\"dataframe\">\n",
       "  <thead>\n",
       "    <tr style=\"text-align: right;\">\n",
       "      <th></th>\n",
       "      <th>Unnamed: 0</th>\n",
       "      <th>Name</th>\n",
       "      <th>Marks</th>\n",
       "      <th>Class</th>\n",
       "    </tr>\n",
       "  </thead>\n",
       "  <tbody>\n",
       "    <tr>\n",
       "      <th>0</th>\n",
       "      <td>0</td>\n",
       "      <td>Muhammad Ayub</td>\n",
       "      <td>90</td>\n",
       "      <td>1st Year</td>\n",
       "    </tr>\n",
       "    <tr>\n",
       "      <th>1</th>\n",
       "      <td>1</td>\n",
       "      <td>Ibraheem khan</td>\n",
       "      <td>72</td>\n",
       "      <td>2nd Year</td>\n",
       "    </tr>\n",
       "    <tr>\n",
       "      <th>2</th>\n",
       "      <td>2</td>\n",
       "      <td>Muhammad Abid</td>\n",
       "      <td>77</td>\n",
       "      <td>1st Year</td>\n",
       "    </tr>\n",
       "    <tr>\n",
       "      <th>3</th>\n",
       "      <td>3</td>\n",
       "      <td>Shumail Khan</td>\n",
       "      <td>65</td>\n",
       "      <td>3rd Year</td>\n",
       "    </tr>\n",
       "    <tr>\n",
       "      <th>4</th>\n",
       "      <td>4</td>\n",
       "      <td>Qasim Ali</td>\n",
       "      <td>15</td>\n",
       "      <td>2nd Year</td>\n",
       "    </tr>\n",
       "  </tbody>\n",
       "</table>\n",
       "</div>"
      ],
      "text/plain": [
       "   Unnamed: 0           Name  Marks     Class\n",
       "0           0  Muhammad Ayub     90  1st Year\n",
       "1           1  Ibraheem khan     72  2nd Year\n",
       "2           2  Muhammad Abid     77  1st Year\n",
       "3           3   Shumail Khan     65  3rd Year\n",
       "4           4      Qasim Ali     15  2nd Year"
      ]
     },
     "execution_count": 92,
     "metadata": {},
     "output_type": "execute_result"
    }
   ],
   "source": [
    "classData"
   ]
  },
  {
   "cell_type": "code",
   "execution_count": 96,
   "id": "564f6ae3",
   "metadata": {},
   "outputs": [
    {
     "data": {
      "text/plain": [
       "15"
      ]
     },
     "execution_count": 96,
     "metadata": {},
     "output_type": "execute_result"
    }
   ],
   "source": [
    "classData['Marks'][4]"
   ]
  },
  {
   "cell_type": "code",
   "execution_count": 98,
   "id": "b8ce8235",
   "metadata": {},
   "outputs": [
    {
     "name": "stderr",
     "output_type": "stream",
     "text": [
      "C:\\Users\\USAMA\\AppData\\Local\\Temp\\ipykernel_6780\\305642868.py:1: SettingWithCopyWarning: \n",
      "A value is trying to be set on a copy of a slice from a DataFrame\n",
      "\n",
      "See the caveats in the documentation: https://pandas.pydata.org/pandas-docs/stable/user_guide/indexing.html#returning-a-view-versus-a-copy\n",
      "  classData['Marks'][4]=5\n"
     ]
    }
   ],
   "source": [
    "classData['Marks'][4]=5"
   ]
  },
  {
   "cell_type": "code",
   "execution_count": 102,
   "id": "6be8fba8",
   "metadata": {},
   "outputs": [
    {
     "name": "stderr",
     "output_type": "stream",
     "text": [
      "C:\\Users\\USAMA\\AppData\\Local\\Temp\\ipykernel_6780\\3056981296.py:1: SettingWithCopyWarning: \n",
      "A value is trying to be set on a copy of a slice from a DataFrame\n",
      "\n",
      "See the caveats in the documentation: https://pandas.pydata.org/pandas-docs/stable/user_guide/indexing.html#returning-a-view-versus-a-copy\n",
      "  classData[\"Class\"][4]=\"Second Year\"\n"
     ]
    }
   ],
   "source": [
    "classData[\"Class\"][4]=\"Second Year\""
   ]
  },
  {
   "cell_type": "code",
   "execution_count": 104,
   "id": "da1ae981",
   "metadata": {},
   "outputs": [
    {
     "data": {
      "text/html": [
       "<div>\n",
       "<style scoped>\n",
       "    .dataframe tbody tr th:only-of-type {\n",
       "        vertical-align: middle;\n",
       "    }\n",
       "\n",
       "    .dataframe tbody tr th {\n",
       "        vertical-align: top;\n",
       "    }\n",
       "\n",
       "    .dataframe thead th {\n",
       "        text-align: right;\n",
       "    }\n",
       "</style>\n",
       "<table border=\"1\" class=\"dataframe\">\n",
       "  <thead>\n",
       "    <tr style=\"text-align: right;\">\n",
       "      <th></th>\n",
       "      <th>Unnamed: 0</th>\n",
       "      <th>Name</th>\n",
       "      <th>Marks</th>\n",
       "      <th>Class</th>\n",
       "    </tr>\n",
       "  </thead>\n",
       "  <tbody>\n",
       "    <tr>\n",
       "      <th>0</th>\n",
       "      <td>0</td>\n",
       "      <td>Muhammad Ayub</td>\n",
       "      <td>90</td>\n",
       "      <td>1st Year</td>\n",
       "    </tr>\n",
       "    <tr>\n",
       "      <th>1</th>\n",
       "      <td>1</td>\n",
       "      <td>Ibraheem khan</td>\n",
       "      <td>72</td>\n",
       "      <td>2nd Year</td>\n",
       "    </tr>\n",
       "    <tr>\n",
       "      <th>2</th>\n",
       "      <td>2</td>\n",
       "      <td>Muhammad Abid</td>\n",
       "      <td>77</td>\n",
       "      <td>1st Year</td>\n",
       "    </tr>\n",
       "    <tr>\n",
       "      <th>3</th>\n",
       "      <td>3</td>\n",
       "      <td>Shumail Khan</td>\n",
       "      <td>65</td>\n",
       "      <td>3rd Year</td>\n",
       "    </tr>\n",
       "    <tr>\n",
       "      <th>4</th>\n",
       "      <td>4</td>\n",
       "      <td>Qasim Ali</td>\n",
       "      <td>5</td>\n",
       "      <td>Second Year</td>\n",
       "    </tr>\n",
       "  </tbody>\n",
       "</table>\n",
       "</div>"
      ],
      "text/plain": [
       "   Unnamed: 0           Name  Marks        Class\n",
       "0           0  Muhammad Ayub     90     1st Year\n",
       "1           1  Ibraheem khan     72     2nd Year\n",
       "2           2  Muhammad Abid     77     1st Year\n",
       "3           3   Shumail Khan     65     3rd Year\n",
       "4           4      Qasim Ali      5  Second Year"
      ]
     },
     "execution_count": 104,
     "metadata": {},
     "output_type": "execute_result"
    }
   ],
   "source": [
    "classData"
   ]
  },
  {
   "cell_type": "code",
   "execution_count": 106,
   "id": "ac6a64b7",
   "metadata": {},
   "outputs": [
    {
     "data": {
      "text/plain": [
       "'Qasim Ali'"
      ]
     },
     "execution_count": 106,
     "metadata": {},
     "output_type": "execute_result"
    }
   ],
   "source": [
    "classData[\"Name\"][4]"
   ]
  },
  {
   "cell_type": "code",
   "execution_count": 108,
   "id": "5f4a0ec1",
   "metadata": {},
   "outputs": [
    {
     "data": {
      "text/html": [
       "<div>\n",
       "<style scoped>\n",
       "    .dataframe tbody tr th:only-of-type {\n",
       "        vertical-align: middle;\n",
       "    }\n",
       "\n",
       "    .dataframe tbody tr th {\n",
       "        vertical-align: top;\n",
       "    }\n",
       "\n",
       "    .dataframe thead th {\n",
       "        text-align: right;\n",
       "    }\n",
       "</style>\n",
       "<table border=\"1\" class=\"dataframe\">\n",
       "  <thead>\n",
       "    <tr style=\"text-align: right;\">\n",
       "      <th></th>\n",
       "      <th>Unnamed: 0</th>\n",
       "      <th>Name</th>\n",
       "      <th>Marks</th>\n",
       "      <th>Class</th>\n",
       "    </tr>\n",
       "  </thead>\n",
       "  <tbody>\n",
       "    <tr>\n",
       "      <th>0</th>\n",
       "      <td>0</td>\n",
       "      <td>Muhammad Ayub</td>\n",
       "      <td>90</td>\n",
       "      <td>1st Year</td>\n",
       "    </tr>\n",
       "    <tr>\n",
       "      <th>1</th>\n",
       "      <td>1</td>\n",
       "      <td>Ibraheem khan</td>\n",
       "      <td>72</td>\n",
       "      <td>2nd Year</td>\n",
       "    </tr>\n",
       "    <tr>\n",
       "      <th>2</th>\n",
       "      <td>2</td>\n",
       "      <td>Muhammad Abid</td>\n",
       "      <td>77</td>\n",
       "      <td>1st Year</td>\n",
       "    </tr>\n",
       "    <tr>\n",
       "      <th>3</th>\n",
       "      <td>3</td>\n",
       "      <td>Shumail Khan</td>\n",
       "      <td>65</td>\n",
       "      <td>3rd Year</td>\n",
       "    </tr>\n",
       "    <tr>\n",
       "      <th>4</th>\n",
       "      <td>4</td>\n",
       "      <td>Qasim Ali</td>\n",
       "      <td>5</td>\n",
       "      <td>Second Year</td>\n",
       "    </tr>\n",
       "  </tbody>\n",
       "</table>\n",
       "</div>"
      ],
      "text/plain": [
       "   Unnamed: 0           Name  Marks        Class\n",
       "0           0  Muhammad Ayub     90     1st Year\n",
       "1           1  Ibraheem khan     72     2nd Year\n",
       "2           2  Muhammad Abid     77     1st Year\n",
       "3           3   Shumail Khan     65     3rd Year\n",
       "4           4      Qasim Ali      5  Second Year"
      ]
     },
     "execution_count": 108,
     "metadata": {},
     "output_type": "execute_result"
    }
   ],
   "source": [
    "classData"
   ]
  },
  {
   "cell_type": "code",
   "execution_count": 110,
   "id": "76de56ae",
   "metadata": {},
   "outputs": [],
   "source": [
    "classData.to_csv('pythonMondayNew.csv')"
   ]
  },
  {
   "cell_type": "code",
   "execution_count": 128,
   "id": "5c113b0a",
   "metadata": {},
   "outputs": [],
   "source": [
    "classData.to_csv('pythonMondayNewRemoveIndex.csv', index=False)"
   ]
  },
  {
   "cell_type": "markdown",
   "id": "8598ddd4",
   "metadata": {},
   "source": [
    "## Create Labels\n",
    "With the index argument, you can name your own labels."
   ]
  },
  {
   "cell_type": "code",
   "execution_count": 130,
   "id": "6068ca8d",
   "metadata": {},
   "outputs": [],
   "source": [
    "classData.index = [\"First\",\"Second\", \"Third\", \"Fourth\", \"Fifth\"]"
   ]
  },
  {
   "cell_type": "code",
   "execution_count": 132,
   "id": "11941c16",
   "metadata": {},
   "outputs": [
    {
     "data": {
      "text/html": [
       "<div>\n",
       "<style scoped>\n",
       "    .dataframe tbody tr th:only-of-type {\n",
       "        vertical-align: middle;\n",
       "    }\n",
       "\n",
       "    .dataframe tbody tr th {\n",
       "        vertical-align: top;\n",
       "    }\n",
       "\n",
       "    .dataframe thead th {\n",
       "        text-align: right;\n",
       "    }\n",
       "</style>\n",
       "<table border=\"1\" class=\"dataframe\">\n",
       "  <thead>\n",
       "    <tr style=\"text-align: right;\">\n",
       "      <th></th>\n",
       "      <th>Unnamed: 0</th>\n",
       "      <th>Name</th>\n",
       "      <th>Marks</th>\n",
       "      <th>Class</th>\n",
       "    </tr>\n",
       "  </thead>\n",
       "  <tbody>\n",
       "    <tr>\n",
       "      <th>First</th>\n",
       "      <td>0</td>\n",
       "      <td>Muhammad Ayub</td>\n",
       "      <td>90</td>\n",
       "      <td>1st Year</td>\n",
       "    </tr>\n",
       "    <tr>\n",
       "      <th>Second</th>\n",
       "      <td>1</td>\n",
       "      <td>Ibraheem khan</td>\n",
       "      <td>72</td>\n",
       "      <td>2nd Year</td>\n",
       "    </tr>\n",
       "    <tr>\n",
       "      <th>Third</th>\n",
       "      <td>2</td>\n",
       "      <td>Muhammad Abid</td>\n",
       "      <td>77</td>\n",
       "      <td>1st Year</td>\n",
       "    </tr>\n",
       "    <tr>\n",
       "      <th>Fourth</th>\n",
       "      <td>3</td>\n",
       "      <td>Shumail Khan</td>\n",
       "      <td>65</td>\n",
       "      <td>3rd Year</td>\n",
       "    </tr>\n",
       "    <tr>\n",
       "      <th>Fifth</th>\n",
       "      <td>4</td>\n",
       "      <td>Qasim Ali</td>\n",
       "      <td>5</td>\n",
       "      <td>Second Year</td>\n",
       "    </tr>\n",
       "  </tbody>\n",
       "</table>\n",
       "</div>"
      ],
      "text/plain": [
       "        Unnamed: 0           Name  Marks        Class\n",
       "First            0  Muhammad Ayub     90     1st Year\n",
       "Second           1  Ibraheem khan     72     2nd Year\n",
       "Third            2  Muhammad Abid     77     1st Year\n",
       "Fourth           3   Shumail Khan     65     3rd Year\n",
       "Fifth            4      Qasim Ali      5  Second Year"
      ]
     },
     "execution_count": 132,
     "metadata": {},
     "output_type": "execute_result"
    }
   ],
   "source": [
    "classData"
   ]
  },
  {
   "cell_type": "code",
   "execution_count": 118,
   "id": "8c7dc4ab",
   "metadata": {},
   "outputs": [
    {
     "data": {
      "text/plain": [
       "'Qasim Ali'"
      ]
     },
     "execution_count": 118,
     "metadata": {},
     "output_type": "execute_result"
    }
   ],
   "source": [
    "classData[\"Name\"][\"Fifth\"]"
   ]
  },
  {
   "cell_type": "markdown",
   "id": "ef732464",
   "metadata": {},
   "source": [
    "## Pandas \n",
    "Pandas is an open source data analysis library written in Python.<br>\n",
    "It uses the power and speed of numpy to make data analysis and preprocessing easy for data scientists.<br>\n",
    "__Pandas__ is used to analyze data.<br>\n",
    "Python data analysis using pandas is a great start to Exploratory Data Analysis (EDA) for a data scientist."
   ]
  },
  {
   "cell_type": "markdown",
   "id": "67c0937b",
   "metadata": {},
   "source": [
    "## Pandas Data Structure\n",
    "Panda has two types of Data Structure:<br> \n",
    "    a) Series<br>\n",
    "    b) Dataframe\n",
    "### Series\n",
    "It is a one dimentional array with indexes. It stores a single column or row of data in a Dataframe.<br>\n",
    "It is a one dimensional array capable of holding any type of data.\n",
    "### Dataframe\n",
    "It is a tabular spreadsheet like structure representing rows each of which contains one or more columns.<br>\n",
    "It is a multi dimensional array capable of holding any type of data.<br>\n",
    "__Series__ is like a column, a __DataFrame__ is the whole table."
   ]
  },
  {
   "cell_type": "code",
   "execution_count": 120,
   "id": "036c76bb",
   "metadata": {},
   "outputs": [
    {
     "ename": "KeyError",
     "evalue": "'gpa'",
     "output_type": "error",
     "traceback": [
      "\u001b[1;31m---------------------------------------------------------------------------\u001b[0m",
      "\u001b[1;31mKeyError\u001b[0m                                  Traceback (most recent call last)",
      "File \u001b[1;32mD:\\anconda\\Lib\\site-packages\\pandas\\core\\indexes\\base.py:3805\u001b[0m, in \u001b[0;36mIndex.get_loc\u001b[1;34m(self, key)\u001b[0m\n\u001b[0;32m   3804\u001b[0m \u001b[38;5;28;01mtry\u001b[39;00m:\n\u001b[1;32m-> 3805\u001b[0m     \u001b[38;5;28;01mreturn\u001b[39;00m \u001b[38;5;28mself\u001b[39m\u001b[38;5;241m.\u001b[39m_engine\u001b[38;5;241m.\u001b[39mget_loc(casted_key)\n\u001b[0;32m   3806\u001b[0m \u001b[38;5;28;01mexcept\u001b[39;00m \u001b[38;5;167;01mKeyError\u001b[39;00m \u001b[38;5;28;01mas\u001b[39;00m err:\n",
      "File \u001b[1;32mindex.pyx:167\u001b[0m, in \u001b[0;36mpandas._libs.index.IndexEngine.get_loc\u001b[1;34m()\u001b[0m\n",
      "File \u001b[1;32mindex.pyx:196\u001b[0m, in \u001b[0;36mpandas._libs.index.IndexEngine.get_loc\u001b[1;34m()\u001b[0m\n",
      "File \u001b[1;32mpandas\\\\_libs\\\\hashtable_class_helper.pxi:7081\u001b[0m, in \u001b[0;36mpandas._libs.hashtable.PyObjectHashTable.get_item\u001b[1;34m()\u001b[0m\n",
      "File \u001b[1;32mpandas\\\\_libs\\\\hashtable_class_helper.pxi:7089\u001b[0m, in \u001b[0;36mpandas._libs.hashtable.PyObjectHashTable.get_item\u001b[1;34m()\u001b[0m\n",
      "\u001b[1;31mKeyError\u001b[0m: 'gpa'",
      "\nThe above exception was the direct cause of the following exception:\n",
      "\u001b[1;31mKeyError\u001b[0m                                  Traceback (most recent call last)",
      "Cell \u001b[1;32mIn[120], line 1\u001b[0m\n\u001b[1;32m----> 1\u001b[0m classData[\u001b[38;5;124m'\u001b[39m\u001b[38;5;124mgpa\u001b[39m\u001b[38;5;124m'\u001b[39m]\n",
      "File \u001b[1;32mD:\\anconda\\Lib\\site-packages\\pandas\\core\\frame.py:4102\u001b[0m, in \u001b[0;36mDataFrame.__getitem__\u001b[1;34m(self, key)\u001b[0m\n\u001b[0;32m   4100\u001b[0m \u001b[38;5;28;01mif\u001b[39;00m \u001b[38;5;28mself\u001b[39m\u001b[38;5;241m.\u001b[39mcolumns\u001b[38;5;241m.\u001b[39mnlevels \u001b[38;5;241m>\u001b[39m \u001b[38;5;241m1\u001b[39m:\n\u001b[0;32m   4101\u001b[0m     \u001b[38;5;28;01mreturn\u001b[39;00m \u001b[38;5;28mself\u001b[39m\u001b[38;5;241m.\u001b[39m_getitem_multilevel(key)\n\u001b[1;32m-> 4102\u001b[0m indexer \u001b[38;5;241m=\u001b[39m \u001b[38;5;28mself\u001b[39m\u001b[38;5;241m.\u001b[39mcolumns\u001b[38;5;241m.\u001b[39mget_loc(key)\n\u001b[0;32m   4103\u001b[0m \u001b[38;5;28;01mif\u001b[39;00m is_integer(indexer):\n\u001b[0;32m   4104\u001b[0m     indexer \u001b[38;5;241m=\u001b[39m [indexer]\n",
      "File \u001b[1;32mD:\\anconda\\Lib\\site-packages\\pandas\\core\\indexes\\base.py:3812\u001b[0m, in \u001b[0;36mIndex.get_loc\u001b[1;34m(self, key)\u001b[0m\n\u001b[0;32m   3807\u001b[0m     \u001b[38;5;28;01mif\u001b[39;00m \u001b[38;5;28misinstance\u001b[39m(casted_key, \u001b[38;5;28mslice\u001b[39m) \u001b[38;5;129;01mor\u001b[39;00m (\n\u001b[0;32m   3808\u001b[0m         \u001b[38;5;28misinstance\u001b[39m(casted_key, abc\u001b[38;5;241m.\u001b[39mIterable)\n\u001b[0;32m   3809\u001b[0m         \u001b[38;5;129;01mand\u001b[39;00m \u001b[38;5;28many\u001b[39m(\u001b[38;5;28misinstance\u001b[39m(x, \u001b[38;5;28mslice\u001b[39m) \u001b[38;5;28;01mfor\u001b[39;00m x \u001b[38;5;129;01min\u001b[39;00m casted_key)\n\u001b[0;32m   3810\u001b[0m     ):\n\u001b[0;32m   3811\u001b[0m         \u001b[38;5;28;01mraise\u001b[39;00m InvalidIndexError(key)\n\u001b[1;32m-> 3812\u001b[0m     \u001b[38;5;28;01mraise\u001b[39;00m \u001b[38;5;167;01mKeyError\u001b[39;00m(key) \u001b[38;5;28;01mfrom\u001b[39;00m \u001b[38;5;21;01merr\u001b[39;00m\n\u001b[0;32m   3813\u001b[0m \u001b[38;5;28;01mexcept\u001b[39;00m \u001b[38;5;167;01mTypeError\u001b[39;00m:\n\u001b[0;32m   3814\u001b[0m     \u001b[38;5;66;03m# If we have a listlike key, _check_indexing_error will raise\u001b[39;00m\n\u001b[0;32m   3815\u001b[0m     \u001b[38;5;66;03m#  InvalidIndexError. Otherwise we fall through and re-raise\u001b[39;00m\n\u001b[0;32m   3816\u001b[0m     \u001b[38;5;66;03m#  the TypeError.\u001b[39;00m\n\u001b[0;32m   3817\u001b[0m     \u001b[38;5;28mself\u001b[39m\u001b[38;5;241m.\u001b[39m_check_indexing_error(key)\n",
      "\u001b[1;31mKeyError\u001b[0m: 'gpa'"
     ]
    }
   ],
   "source": [
    "classData['gpa']"
   ]
  },
  {
   "cell_type": "code",
   "execution_count": 84,
   "id": "2513c566",
   "metadata": {},
   "outputs": [
    {
     "data": {
      "text/plain": [
       "pandas.core.series.Series"
      ]
     },
     "execution_count": 84,
     "metadata": {},
     "output_type": "execute_result"
    }
   ],
   "source": [
    " type(classData['gpa'])"
   ]
  },
  {
   "cell_type": "code",
   "execution_count": 85,
   "id": "322c0ff8",
   "metadata": {},
   "outputs": [
    {
     "data": {
      "text/html": [
       "<div>\n",
       "<style scoped>\n",
       "    .dataframe tbody tr th:only-of-type {\n",
       "        vertical-align: middle;\n",
       "    }\n",
       "\n",
       "    .dataframe tbody tr th {\n",
       "        vertical-align: top;\n",
       "    }\n",
       "\n",
       "    .dataframe thead th {\n",
       "        text-align: right;\n",
       "    }\n",
       "</style>\n",
       "<table border=\"1\" class=\"dataframe\">\n",
       "  <thead>\n",
       "    <tr style=\"text-align: right;\">\n",
       "      <th></th>\n",
       "      <th>name</th>\n",
       "      <th>gpa</th>\n",
       "      <th>class</th>\n",
       "    </tr>\n",
       "  </thead>\n",
       "  <tbody>\n",
       "    <tr>\n",
       "      <th>First</th>\n",
       "      <td>ibraheem khan</td>\n",
       "      <td>90.00</td>\n",
       "      <td>3rd</td>\n",
       "    </tr>\n",
       "    <tr>\n",
       "      <th>Second</th>\n",
       "      <td>tayyab khan</td>\n",
       "      <td>3.45</td>\n",
       "      <td>4th</td>\n",
       "    </tr>\n",
       "    <tr>\n",
       "      <th>Third</th>\n",
       "      <td>abbas khan</td>\n",
       "      <td>2.90</td>\n",
       "      <td>5th</td>\n",
       "    </tr>\n",
       "    <tr>\n",
       "      <th>Fourth</th>\n",
       "      <td>ayub khan</td>\n",
       "      <td>3.84</td>\n",
       "      <td>6th</td>\n",
       "    </tr>\n",
       "    <tr>\n",
       "      <th>Fifth</th>\n",
       "      <td>mobeen khan</td>\n",
       "      <td>5.00</td>\n",
       "      <td>7th</td>\n",
       "    </tr>\n",
       "  </tbody>\n",
       "</table>\n",
       "</div>"
      ],
      "text/plain": [
       "                 name     gpa class \n",
       "First   ibraheem khan   90.00    3rd\n",
       "Second     tayyab khan   3.45    4th\n",
       "Third       abbas khan   2.90    5th\n",
       "Fourth      ayub khan    3.84    6th\n",
       "Fifth     mobeen khan    5.00    7th"
      ]
     },
     "execution_count": 85,
     "metadata": {},
     "output_type": "execute_result"
    }
   ],
   "source": [
    "classData"
   ]
  },
  {
   "cell_type": "code",
   "execution_count": 86,
   "id": "5a3ab22e",
   "metadata": {},
   "outputs": [
    {
     "data": {
      "text/plain": [
       "pandas.core.frame.DataFrame"
      ]
     },
     "execution_count": 86,
     "metadata": {},
     "output_type": "execute_result"
    }
   ],
   "source": [
    "type(classData)"
   ]
  },
  {
   "cell_type": "code",
   "execution_count": 87,
   "id": "5268b0a9",
   "metadata": {},
   "outputs": [],
   "source": [
    "import numpy as np"
   ]
  },
  {
   "cell_type": "code",
   "execution_count": 88,
   "id": "54345486",
   "metadata": {},
   "outputs": [],
   "source": [
    "series1= pd.Series(np.random.rand())"
   ]
  },
  {
   "cell_type": "code",
   "execution_count": 89,
   "id": "c19c0a18",
   "metadata": {},
   "outputs": [
    {
     "data": {
      "text/plain": [
       "0    0.522558\n",
       "dtype: float64"
      ]
     },
     "execution_count": 89,
     "metadata": {},
     "output_type": "execute_result"
    }
   ],
   "source": [
    "series1"
   ]
  },
  {
   "cell_type": "code",
   "execution_count": 90,
   "id": "3962ba6d",
   "metadata": {},
   "outputs": [],
   "source": [
    "series1= pd.Series(np.random.rand(30))"
   ]
  },
  {
   "cell_type": "code",
   "execution_count": 91,
   "id": "0f576808",
   "metadata": {},
   "outputs": [
    {
     "data": {
      "text/plain": [
       "0     0.088123\n",
       "1     0.376990\n",
       "2     0.638937\n",
       "3     0.412943\n",
       "4     0.827577\n",
       "5     0.183428\n",
       "6     0.190390\n",
       "7     0.116920\n",
       "8     0.640907\n",
       "9     0.704741\n",
       "10    0.635727\n",
       "11    0.460189\n",
       "12    0.171821\n",
       "13    0.984857\n",
       "14    0.143071\n",
       "15    0.481433\n",
       "16    0.912185\n",
       "17    0.250469\n",
       "18    0.516642\n",
       "19    0.471406\n",
       "20    0.054552\n",
       "21    0.145239\n",
       "22    0.452192\n",
       "23    0.542660\n",
       "24    0.659164\n",
       "25    0.513258\n",
       "26    0.169134\n",
       "27    0.589750\n",
       "28    0.057434\n",
       "29    0.566694\n",
       "dtype: float64"
      ]
     },
     "execution_count": 91,
     "metadata": {},
     "output_type": "execute_result"
    }
   ],
   "source": [
    "series1"
   ]
  },
  {
   "cell_type": "code",
   "execution_count": 92,
   "id": "e5e9ce8d",
   "metadata": {},
   "outputs": [
    {
     "data": {
      "text/plain": [
       "pandas.core.series.Series"
      ]
     },
     "execution_count": 92,
     "metadata": {},
     "output_type": "execute_result"
    }
   ],
   "source": [
    "type(series1)"
   ]
  },
  {
   "cell_type": "code",
   "execution_count": 93,
   "id": "79f949f5",
   "metadata": {},
   "outputs": [],
   "source": [
    "newDf = pd.DataFrame(np.random.rand(330,5))\n",
    "# newDf = pd.DataFrame(np.random.rand(330,5), index=np.arange(330))"
   ]
  },
  {
   "cell_type": "code",
   "execution_count": 94,
   "id": "444b2e6a",
   "metadata": {},
   "outputs": [
    {
     "data": {
      "text/plain": [
       "pandas.core.frame.DataFrame"
      ]
     },
     "execution_count": 94,
     "metadata": {},
     "output_type": "execute_result"
    }
   ],
   "source": [
    "type(newDf)"
   ]
  },
  {
   "cell_type": "code",
   "execution_count": 95,
   "id": "55b8ed35",
   "metadata": {},
   "outputs": [
    {
     "data": {
      "text/html": [
       "<div>\n",
       "<style scoped>\n",
       "    .dataframe tbody tr th:only-of-type {\n",
       "        vertical-align: middle;\n",
       "    }\n",
       "\n",
       "    .dataframe tbody tr th {\n",
       "        vertical-align: top;\n",
       "    }\n",
       "\n",
       "    .dataframe thead th {\n",
       "        text-align: right;\n",
       "    }\n",
       "</style>\n",
       "<table border=\"1\" class=\"dataframe\">\n",
       "  <thead>\n",
       "    <tr style=\"text-align: right;\">\n",
       "      <th></th>\n",
       "      <th>0</th>\n",
       "      <th>1</th>\n",
       "      <th>2</th>\n",
       "      <th>3</th>\n",
       "      <th>4</th>\n",
       "    </tr>\n",
       "  </thead>\n",
       "  <tbody>\n",
       "    <tr>\n",
       "      <th>0</th>\n",
       "      <td>0.839502</td>\n",
       "      <td>0.992326</td>\n",
       "      <td>0.029421</td>\n",
       "      <td>0.405688</td>\n",
       "      <td>0.591369</td>\n",
       "    </tr>\n",
       "    <tr>\n",
       "      <th>1</th>\n",
       "      <td>0.472891</td>\n",
       "      <td>0.937942</td>\n",
       "      <td>0.159810</td>\n",
       "      <td>0.810685</td>\n",
       "      <td>0.054391</td>\n",
       "    </tr>\n",
       "    <tr>\n",
       "      <th>2</th>\n",
       "      <td>0.152944</td>\n",
       "      <td>0.616511</td>\n",
       "      <td>0.396288</td>\n",
       "      <td>0.438617</td>\n",
       "      <td>0.898269</td>\n",
       "    </tr>\n",
       "    <tr>\n",
       "      <th>3</th>\n",
       "      <td>0.165207</td>\n",
       "      <td>0.528965</td>\n",
       "      <td>0.438421</td>\n",
       "      <td>0.608056</td>\n",
       "      <td>0.621835</td>\n",
       "    </tr>\n",
       "    <tr>\n",
       "      <th>4</th>\n",
       "      <td>0.929314</td>\n",
       "      <td>0.993836</td>\n",
       "      <td>0.748688</td>\n",
       "      <td>0.414415</td>\n",
       "      <td>0.318291</td>\n",
       "    </tr>\n",
       "    <tr>\n",
       "      <th>...</th>\n",
       "      <td>...</td>\n",
       "      <td>...</td>\n",
       "      <td>...</td>\n",
       "      <td>...</td>\n",
       "      <td>...</td>\n",
       "    </tr>\n",
       "    <tr>\n",
       "      <th>325</th>\n",
       "      <td>0.195125</td>\n",
       "      <td>0.170877</td>\n",
       "      <td>0.510583</td>\n",
       "      <td>0.102239</td>\n",
       "      <td>0.375501</td>\n",
       "    </tr>\n",
       "    <tr>\n",
       "      <th>326</th>\n",
       "      <td>0.633482</td>\n",
       "      <td>0.396583</td>\n",
       "      <td>0.922017</td>\n",
       "      <td>0.109421</td>\n",
       "      <td>0.275757</td>\n",
       "    </tr>\n",
       "    <tr>\n",
       "      <th>327</th>\n",
       "      <td>0.771799</td>\n",
       "      <td>0.690224</td>\n",
       "      <td>0.872122</td>\n",
       "      <td>0.080016</td>\n",
       "      <td>0.124429</td>\n",
       "    </tr>\n",
       "    <tr>\n",
       "      <th>328</th>\n",
       "      <td>0.095871</td>\n",
       "      <td>0.423014</td>\n",
       "      <td>0.886492</td>\n",
       "      <td>0.942696</td>\n",
       "      <td>0.302288</td>\n",
       "    </tr>\n",
       "    <tr>\n",
       "      <th>329</th>\n",
       "      <td>0.155751</td>\n",
       "      <td>0.098887</td>\n",
       "      <td>0.133443</td>\n",
       "      <td>0.873607</td>\n",
       "      <td>0.342575</td>\n",
       "    </tr>\n",
       "  </tbody>\n",
       "</table>\n",
       "<p>330 rows × 5 columns</p>\n",
       "</div>"
      ],
      "text/plain": [
       "            0         1         2         3         4\n",
       "0    0.839502  0.992326  0.029421  0.405688  0.591369\n",
       "1    0.472891  0.937942  0.159810  0.810685  0.054391\n",
       "2    0.152944  0.616511  0.396288  0.438617  0.898269\n",
       "3    0.165207  0.528965  0.438421  0.608056  0.621835\n",
       "4    0.929314  0.993836  0.748688  0.414415  0.318291\n",
       "..        ...       ...       ...       ...       ...\n",
       "325  0.195125  0.170877  0.510583  0.102239  0.375501\n",
       "326  0.633482  0.396583  0.922017  0.109421  0.275757\n",
       "327  0.771799  0.690224  0.872122  0.080016  0.124429\n",
       "328  0.095871  0.423014  0.886492  0.942696  0.302288\n",
       "329  0.155751  0.098887  0.133443  0.873607  0.342575\n",
       "\n",
       "[330 rows x 5 columns]"
      ]
     },
     "execution_count": 95,
     "metadata": {},
     "output_type": "execute_result"
    }
   ],
   "source": [
    "newDf"
   ]
  },
  {
   "cell_type": "code",
   "execution_count": 96,
   "id": "28b371fe",
   "metadata": {},
   "outputs": [
    {
     "data": {
      "text/html": [
       "<div>\n",
       "<style scoped>\n",
       "    .dataframe tbody tr th:only-of-type {\n",
       "        vertical-align: middle;\n",
       "    }\n",
       "\n",
       "    .dataframe tbody tr th {\n",
       "        vertical-align: top;\n",
       "    }\n",
       "\n",
       "    .dataframe thead th {\n",
       "        text-align: right;\n",
       "    }\n",
       "</style>\n",
       "<table border=\"1\" class=\"dataframe\">\n",
       "  <thead>\n",
       "    <tr style=\"text-align: right;\">\n",
       "      <th></th>\n",
       "      <th>0</th>\n",
       "      <th>1</th>\n",
       "      <th>2</th>\n",
       "      <th>3</th>\n",
       "      <th>4</th>\n",
       "    </tr>\n",
       "  </thead>\n",
       "  <tbody>\n",
       "    <tr>\n",
       "      <th>0</th>\n",
       "      <td>0.839502</td>\n",
       "      <td>0.992326</td>\n",
       "      <td>0.029421</td>\n",
       "      <td>0.405688</td>\n",
       "      <td>0.591369</td>\n",
       "    </tr>\n",
       "    <tr>\n",
       "      <th>1</th>\n",
       "      <td>0.472891</td>\n",
       "      <td>0.937942</td>\n",
       "      <td>0.159810</td>\n",
       "      <td>0.810685</td>\n",
       "      <td>0.054391</td>\n",
       "    </tr>\n",
       "  </tbody>\n",
       "</table>\n",
       "</div>"
      ],
      "text/plain": [
       "          0         1         2         3         4\n",
       "0  0.839502  0.992326  0.029421  0.405688  0.591369\n",
       "1  0.472891  0.937942  0.159810  0.810685  0.054391"
      ]
     },
     "execution_count": 96,
     "metadata": {},
     "output_type": "execute_result"
    }
   ],
   "source": [
    "newDf.head(2)"
   ]
  },
  {
   "cell_type": "code",
   "execution_count": 97,
   "id": "50d431a7",
   "metadata": {},
   "outputs": [
    {
     "data": {
      "text/plain": [
       "0    float64\n",
       "1    float64\n",
       "2    float64\n",
       "3    float64\n",
       "4    float64\n",
       "dtype: object"
      ]
     },
     "execution_count": 97,
     "metadata": {},
     "output_type": "execute_result"
    }
   ],
   "source": [
    "newDf.dtypes"
   ]
  },
  {
   "cell_type": "code",
   "execution_count": 98,
   "id": "7eb41a2e",
   "metadata": {},
   "outputs": [
    {
     "data": {
      "text/html": [
       "<div>\n",
       "<style scoped>\n",
       "    .dataframe tbody tr th:only-of-type {\n",
       "        vertical-align: middle;\n",
       "    }\n",
       "\n",
       "    .dataframe tbody tr th {\n",
       "        vertical-align: top;\n",
       "    }\n",
       "\n",
       "    .dataframe thead th {\n",
       "        text-align: right;\n",
       "    }\n",
       "</style>\n",
       "<table border=\"1\" class=\"dataframe\">\n",
       "  <thead>\n",
       "    <tr style=\"text-align: right;\">\n",
       "      <th></th>\n",
       "      <th>0</th>\n",
       "      <th>1</th>\n",
       "      <th>2</th>\n",
       "      <th>3</th>\n",
       "      <th>4</th>\n",
       "    </tr>\n",
       "  </thead>\n",
       "  <tbody>\n",
       "    <tr>\n",
       "      <th>328</th>\n",
       "      <td>0.095871</td>\n",
       "      <td>0.423014</td>\n",
       "      <td>0.886492</td>\n",
       "      <td>0.942696</td>\n",
       "      <td>0.302288</td>\n",
       "    </tr>\n",
       "    <tr>\n",
       "      <th>329</th>\n",
       "      <td>0.155751</td>\n",
       "      <td>0.098887</td>\n",
       "      <td>0.133443</td>\n",
       "      <td>0.873607</td>\n",
       "      <td>0.342575</td>\n",
       "    </tr>\n",
       "  </tbody>\n",
       "</table>\n",
       "</div>"
      ],
      "text/plain": [
       "            0         1         2         3         4\n",
       "328  0.095871  0.423014  0.886492  0.942696  0.302288\n",
       "329  0.155751  0.098887  0.133443  0.873607  0.342575"
      ]
     },
     "execution_count": 98,
     "metadata": {},
     "output_type": "execute_result"
    }
   ],
   "source": [
    "newDf.tail(2)"
   ]
  },
  {
   "cell_type": "code",
   "execution_count": 99,
   "id": "76d60e8e",
   "metadata": {},
   "outputs": [
    {
     "name": "stdout",
     "output_type": "stream",
     "text": [
      "<class 'pandas.core.frame.DataFrame'>\n",
      "RangeIndex: 330 entries, 0 to 329\n",
      "Data columns (total 5 columns):\n",
      " #   Column  Non-Null Count  Dtype  \n",
      "---  ------  --------------  -----  \n",
      " 0   0       330 non-null    float64\n",
      " 1   1       330 non-null    float64\n",
      " 2   2       330 non-null    float64\n",
      " 3   3       330 non-null    float64\n",
      " 4   4       330 non-null    float64\n",
      "dtypes: float64(5)\n",
      "memory usage: 13.0 KB\n"
     ]
    }
   ],
   "source": [
    "newDf.info()"
   ]
  },
  {
   "cell_type": "code",
   "execution_count": 100,
   "id": "223d5cec",
   "metadata": {},
   "outputs": [
    {
     "data": {
      "text/html": [
       "<div>\n",
       "<style scoped>\n",
       "    .dataframe tbody tr th:only-of-type {\n",
       "        vertical-align: middle;\n",
       "    }\n",
       "\n",
       "    .dataframe tbody tr th {\n",
       "        vertical-align: top;\n",
       "    }\n",
       "\n",
       "    .dataframe thead th {\n",
       "        text-align: right;\n",
       "    }\n",
       "</style>\n",
       "<table border=\"1\" class=\"dataframe\">\n",
       "  <thead>\n",
       "    <tr style=\"text-align: right;\">\n",
       "      <th></th>\n",
       "      <th>0</th>\n",
       "      <th>1</th>\n",
       "      <th>2</th>\n",
       "      <th>3</th>\n",
       "      <th>4</th>\n",
       "    </tr>\n",
       "  </thead>\n",
       "  <tbody>\n",
       "    <tr>\n",
       "      <th>count</th>\n",
       "      <td>330.000000</td>\n",
       "      <td>330.000000</td>\n",
       "      <td>330.000000</td>\n",
       "      <td>330.000000</td>\n",
       "      <td>330.000000</td>\n",
       "    </tr>\n",
       "    <tr>\n",
       "      <th>mean</th>\n",
       "      <td>0.474401</td>\n",
       "      <td>0.491051</td>\n",
       "      <td>0.504055</td>\n",
       "      <td>0.510265</td>\n",
       "      <td>0.519285</td>\n",
       "    </tr>\n",
       "    <tr>\n",
       "      <th>std</th>\n",
       "      <td>0.287771</td>\n",
       "      <td>0.292819</td>\n",
       "      <td>0.284399</td>\n",
       "      <td>0.289879</td>\n",
       "      <td>0.273796</td>\n",
       "    </tr>\n",
       "    <tr>\n",
       "      <th>min</th>\n",
       "      <td>0.002309</td>\n",
       "      <td>0.005395</td>\n",
       "      <td>0.002276</td>\n",
       "      <td>0.004599</td>\n",
       "      <td>0.004748</td>\n",
       "    </tr>\n",
       "    <tr>\n",
       "      <th>25%</th>\n",
       "      <td>0.222892</td>\n",
       "      <td>0.225936</td>\n",
       "      <td>0.252049</td>\n",
       "      <td>0.261651</td>\n",
       "      <td>0.298324</td>\n",
       "    </tr>\n",
       "    <tr>\n",
       "      <th>50%</th>\n",
       "      <td>0.466234</td>\n",
       "      <td>0.487035</td>\n",
       "      <td>0.539522</td>\n",
       "      <td>0.510311</td>\n",
       "      <td>0.514840</td>\n",
       "    </tr>\n",
       "    <tr>\n",
       "      <th>75%</th>\n",
       "      <td>0.708121</td>\n",
       "      <td>0.719371</td>\n",
       "      <td>0.742840</td>\n",
       "      <td>0.763619</td>\n",
       "      <td>0.750048</td>\n",
       "    </tr>\n",
       "    <tr>\n",
       "      <th>max</th>\n",
       "      <td>0.998524</td>\n",
       "      <td>0.994093</td>\n",
       "      <td>0.997982</td>\n",
       "      <td>0.997387</td>\n",
       "      <td>0.999260</td>\n",
       "    </tr>\n",
       "  </tbody>\n",
       "</table>\n",
       "</div>"
      ],
      "text/plain": [
       "                0           1           2           3           4\n",
       "count  330.000000  330.000000  330.000000  330.000000  330.000000\n",
       "mean     0.474401    0.491051    0.504055    0.510265    0.519285\n",
       "std      0.287771    0.292819    0.284399    0.289879    0.273796\n",
       "min      0.002309    0.005395    0.002276    0.004599    0.004748\n",
       "25%      0.222892    0.225936    0.252049    0.261651    0.298324\n",
       "50%      0.466234    0.487035    0.539522    0.510311    0.514840\n",
       "75%      0.708121    0.719371    0.742840    0.763619    0.750048\n",
       "max      0.998524    0.994093    0.997982    0.997387    0.999260"
      ]
     },
     "execution_count": 100,
     "metadata": {},
     "output_type": "execute_result"
    }
   ],
   "source": [
    "newDf.describe()"
   ]
  },
  {
   "cell_type": "code",
   "execution_count": 101,
   "id": "e61e795c",
   "metadata": {},
   "outputs": [
    {
     "data": {
      "text/plain": [
       "0    float64\n",
       "1    float64\n",
       "2    float64\n",
       "3    float64\n",
       "4    float64\n",
       "dtype: object"
      ]
     },
     "execution_count": 101,
     "metadata": {},
     "output_type": "execute_result"
    }
   ],
   "source": [
    "newDf.dtypes"
   ]
  },
  {
   "cell_type": "code",
   "execution_count": 102,
   "id": "2e3fd75d",
   "metadata": {},
   "outputs": [],
   "source": [
    "newDf[0][0]= \"Maaz Khan\""
   ]
  },
  {
   "cell_type": "code",
   "execution_count": 103,
   "id": "ed64eec9",
   "metadata": {},
   "outputs": [
    {
     "data": {
      "text/plain": [
       "0     object\n",
       "1    float64\n",
       "2    float64\n",
       "3    float64\n",
       "4    float64\n",
       "dtype: object"
      ]
     },
     "execution_count": 103,
     "metadata": {},
     "output_type": "execute_result"
    }
   ],
   "source": [
    "newDf.dtypes"
   ]
  },
  {
   "cell_type": "code",
   "execution_count": 104,
   "id": "d7d21566",
   "metadata": {},
   "outputs": [
    {
     "data": {
      "text/html": [
       "<div>\n",
       "<style scoped>\n",
       "    .dataframe tbody tr th:only-of-type {\n",
       "        vertical-align: middle;\n",
       "    }\n",
       "\n",
       "    .dataframe tbody tr th {\n",
       "        vertical-align: top;\n",
       "    }\n",
       "\n",
       "    .dataframe thead th {\n",
       "        text-align: right;\n",
       "    }\n",
       "</style>\n",
       "<table border=\"1\" class=\"dataframe\">\n",
       "  <thead>\n",
       "    <tr style=\"text-align: right;\">\n",
       "      <th></th>\n",
       "      <th>0</th>\n",
       "      <th>1</th>\n",
       "      <th>2</th>\n",
       "      <th>3</th>\n",
       "      <th>4</th>\n",
       "    </tr>\n",
       "  </thead>\n",
       "  <tbody>\n",
       "    <tr>\n",
       "      <th>0</th>\n",
       "      <td>Maaz Khan</td>\n",
       "      <td>0.992326</td>\n",
       "      <td>0.029421</td>\n",
       "      <td>0.405688</td>\n",
       "      <td>0.591369</td>\n",
       "    </tr>\n",
       "    <tr>\n",
       "      <th>1</th>\n",
       "      <td>0.472891</td>\n",
       "      <td>0.937942</td>\n",
       "      <td>0.159810</td>\n",
       "      <td>0.810685</td>\n",
       "      <td>0.054391</td>\n",
       "    </tr>\n",
       "    <tr>\n",
       "      <th>2</th>\n",
       "      <td>0.152944</td>\n",
       "      <td>0.616511</td>\n",
       "      <td>0.396288</td>\n",
       "      <td>0.438617</td>\n",
       "      <td>0.898269</td>\n",
       "    </tr>\n",
       "    <tr>\n",
       "      <th>3</th>\n",
       "      <td>0.165207</td>\n",
       "      <td>0.528965</td>\n",
       "      <td>0.438421</td>\n",
       "      <td>0.608056</td>\n",
       "      <td>0.621835</td>\n",
       "    </tr>\n",
       "    <tr>\n",
       "      <th>4</th>\n",
       "      <td>0.929314</td>\n",
       "      <td>0.993836</td>\n",
       "      <td>0.748688</td>\n",
       "      <td>0.414415</td>\n",
       "      <td>0.318291</td>\n",
       "    </tr>\n",
       "    <tr>\n",
       "      <th>...</th>\n",
       "      <td>...</td>\n",
       "      <td>...</td>\n",
       "      <td>...</td>\n",
       "      <td>...</td>\n",
       "      <td>...</td>\n",
       "    </tr>\n",
       "    <tr>\n",
       "      <th>325</th>\n",
       "      <td>0.195125</td>\n",
       "      <td>0.170877</td>\n",
       "      <td>0.510583</td>\n",
       "      <td>0.102239</td>\n",
       "      <td>0.375501</td>\n",
       "    </tr>\n",
       "    <tr>\n",
       "      <th>326</th>\n",
       "      <td>0.633482</td>\n",
       "      <td>0.396583</td>\n",
       "      <td>0.922017</td>\n",
       "      <td>0.109421</td>\n",
       "      <td>0.275757</td>\n",
       "    </tr>\n",
       "    <tr>\n",
       "      <th>327</th>\n",
       "      <td>0.771799</td>\n",
       "      <td>0.690224</td>\n",
       "      <td>0.872122</td>\n",
       "      <td>0.080016</td>\n",
       "      <td>0.124429</td>\n",
       "    </tr>\n",
       "    <tr>\n",
       "      <th>328</th>\n",
       "      <td>0.095871</td>\n",
       "      <td>0.423014</td>\n",
       "      <td>0.886492</td>\n",
       "      <td>0.942696</td>\n",
       "      <td>0.302288</td>\n",
       "    </tr>\n",
       "    <tr>\n",
       "      <th>329</th>\n",
       "      <td>0.155751</td>\n",
       "      <td>0.098887</td>\n",
       "      <td>0.133443</td>\n",
       "      <td>0.873607</td>\n",
       "      <td>0.342575</td>\n",
       "    </tr>\n",
       "  </tbody>\n",
       "</table>\n",
       "<p>330 rows × 5 columns</p>\n",
       "</div>"
      ],
      "text/plain": [
       "             0         1         2         3         4\n",
       "0    Maaz Khan  0.992326  0.029421  0.405688  0.591369\n",
       "1     0.472891  0.937942  0.159810  0.810685  0.054391\n",
       "2     0.152944  0.616511  0.396288  0.438617  0.898269\n",
       "3     0.165207  0.528965  0.438421  0.608056  0.621835\n",
       "4     0.929314  0.993836  0.748688  0.414415  0.318291\n",
       "..         ...       ...       ...       ...       ...\n",
       "325   0.195125  0.170877  0.510583  0.102239  0.375501\n",
       "326   0.633482  0.396583  0.922017  0.109421  0.275757\n",
       "327   0.771799  0.690224  0.872122  0.080016  0.124429\n",
       "328   0.095871  0.423014  0.886492  0.942696  0.302288\n",
       "329   0.155751  0.098887  0.133443  0.873607  0.342575\n",
       "\n",
       "[330 rows x 5 columns]"
      ]
     },
     "execution_count": 104,
     "metadata": {},
     "output_type": "execute_result"
    }
   ],
   "source": [
    "newDf"
   ]
  },
  {
   "cell_type": "code",
   "execution_count": 105,
   "id": "c1c649c6",
   "metadata": {},
   "outputs": [
    {
     "data": {
      "text/plain": [
       "RangeIndex(start=0, stop=330, step=1)"
      ]
     },
     "execution_count": 105,
     "metadata": {},
     "output_type": "execute_result"
    }
   ],
   "source": [
    "newDf.index"
   ]
  },
  {
   "cell_type": "code",
   "execution_count": 106,
   "id": "2a6a01a0",
   "metadata": {},
   "outputs": [
    {
     "data": {
      "text/plain": [
       "RangeIndex(start=0, stop=5, step=1)"
      ]
     },
     "execution_count": 106,
     "metadata": {},
     "output_type": "execute_result"
    }
   ],
   "source": [
    "newDf.columns"
   ]
  },
  {
   "cell_type": "code",
   "execution_count": 107,
   "id": "0d0bbcdd",
   "metadata": {},
   "outputs": [
    {
     "data": {
      "text/plain": [
       "array([['Maaz Khan', 0.992325669505626, 0.02942072116575767,\n",
       "        0.40568774174610434, 0.5913694342372785],\n",
       "       [0.47289050282962286, 0.9379421199965852, 0.1598100841183442,\n",
       "        0.8106849450302147, 0.05439072966821579],\n",
       "       [0.15294353189257015, 0.616511140943471, 0.39628846441091503,\n",
       "        0.43861741638857854, 0.8982693882049784],\n",
       "       ...,\n",
       "       [0.7717990088136402, 0.6902240700421501, 0.8721221200459571,\n",
       "        0.08001563758755792, 0.1244289084731578],\n",
       "       [0.09587133710755702, 0.4230140062107982, 0.8864918585477216,\n",
       "        0.9426963950561333, 0.3022878617993371],\n",
       "       [0.15575075886502399, 0.09888748894642307, 0.13344316537580603,\n",
       "        0.8736071830613868, 0.3425754388000314]], dtype=object)"
      ]
     },
     "execution_count": 107,
     "metadata": {},
     "output_type": "execute_result"
    }
   ],
   "source": [
    "newDf.to_numpy()"
   ]
  },
  {
   "cell_type": "code",
   "execution_count": 108,
   "id": "29e43e86",
   "metadata": {},
   "outputs": [],
   "source": [
    "newDf[0][0]=0.30"
   ]
  },
  {
   "cell_type": "code",
   "execution_count": 109,
   "id": "81c060ad",
   "metadata": {},
   "outputs": [
    {
     "data": {
      "text/html": [
       "<div>\n",
       "<style scoped>\n",
       "    .dataframe tbody tr th:only-of-type {\n",
       "        vertical-align: middle;\n",
       "    }\n",
       "\n",
       "    .dataframe tbody tr th {\n",
       "        vertical-align: top;\n",
       "    }\n",
       "\n",
       "    .dataframe thead th {\n",
       "        text-align: right;\n",
       "    }\n",
       "</style>\n",
       "<table border=\"1\" class=\"dataframe\">\n",
       "  <thead>\n",
       "    <tr style=\"text-align: right;\">\n",
       "      <th></th>\n",
       "      <th>0</th>\n",
       "      <th>1</th>\n",
       "      <th>2</th>\n",
       "      <th>3</th>\n",
       "      <th>4</th>\n",
       "    </tr>\n",
       "  </thead>\n",
       "  <tbody>\n",
       "    <tr>\n",
       "      <th>0</th>\n",
       "      <td>0.3</td>\n",
       "      <td>0.992326</td>\n",
       "      <td>0.029421</td>\n",
       "      <td>0.405688</td>\n",
       "      <td>0.591369</td>\n",
       "    </tr>\n",
       "    <tr>\n",
       "      <th>1</th>\n",
       "      <td>0.472891</td>\n",
       "      <td>0.937942</td>\n",
       "      <td>0.159810</td>\n",
       "      <td>0.810685</td>\n",
       "      <td>0.054391</td>\n",
       "    </tr>\n",
       "    <tr>\n",
       "      <th>2</th>\n",
       "      <td>0.152944</td>\n",
       "      <td>0.616511</td>\n",
       "      <td>0.396288</td>\n",
       "      <td>0.438617</td>\n",
       "      <td>0.898269</td>\n",
       "    </tr>\n",
       "    <tr>\n",
       "      <th>3</th>\n",
       "      <td>0.165207</td>\n",
       "      <td>0.528965</td>\n",
       "      <td>0.438421</td>\n",
       "      <td>0.608056</td>\n",
       "      <td>0.621835</td>\n",
       "    </tr>\n",
       "    <tr>\n",
       "      <th>4</th>\n",
       "      <td>0.929314</td>\n",
       "      <td>0.993836</td>\n",
       "      <td>0.748688</td>\n",
       "      <td>0.414415</td>\n",
       "      <td>0.318291</td>\n",
       "    </tr>\n",
       "  </tbody>\n",
       "</table>\n",
       "</div>"
      ],
      "text/plain": [
       "          0         1         2         3         4\n",
       "0       0.3  0.992326  0.029421  0.405688  0.591369\n",
       "1  0.472891  0.937942  0.159810  0.810685  0.054391\n",
       "2  0.152944  0.616511  0.396288  0.438617  0.898269\n",
       "3  0.165207  0.528965  0.438421  0.608056  0.621835\n",
       "4  0.929314  0.993836  0.748688  0.414415  0.318291"
      ]
     },
     "execution_count": 109,
     "metadata": {},
     "output_type": "execute_result"
    }
   ],
   "source": [
    "newDf.head()"
   ]
  },
  {
   "cell_type": "code",
   "execution_count": 110,
   "id": "c6b68242",
   "metadata": {},
   "outputs": [
    {
     "data": {
      "text/html": [
       "<div>\n",
       "<style scoped>\n",
       "    .dataframe tbody tr th:only-of-type {\n",
       "        vertical-align: middle;\n",
       "    }\n",
       "\n",
       "    .dataframe tbody tr th {\n",
       "        vertical-align: top;\n",
       "    }\n",
       "\n",
       "    .dataframe thead th {\n",
       "        text-align: right;\n",
       "    }\n",
       "</style>\n",
       "<table border=\"1\" class=\"dataframe\">\n",
       "  <thead>\n",
       "    <tr style=\"text-align: right;\">\n",
       "      <th></th>\n",
       "      <th>0</th>\n",
       "      <th>1</th>\n",
       "      <th>2</th>\n",
       "      <th>3</th>\n",
       "      <th>4</th>\n",
       "      <th>5</th>\n",
       "      <th>6</th>\n",
       "      <th>7</th>\n",
       "      <th>8</th>\n",
       "      <th>9</th>\n",
       "      <th>...</th>\n",
       "      <th>320</th>\n",
       "      <th>321</th>\n",
       "      <th>322</th>\n",
       "      <th>323</th>\n",
       "      <th>324</th>\n",
       "      <th>325</th>\n",
       "      <th>326</th>\n",
       "      <th>327</th>\n",
       "      <th>328</th>\n",
       "      <th>329</th>\n",
       "    </tr>\n",
       "  </thead>\n",
       "  <tbody>\n",
       "    <tr>\n",
       "      <th>0</th>\n",
       "      <td>0.3</td>\n",
       "      <td>0.472891</td>\n",
       "      <td>0.152944</td>\n",
       "      <td>0.165207</td>\n",
       "      <td>0.929314</td>\n",
       "      <td>0.439132</td>\n",
       "      <td>0.81581</td>\n",
       "      <td>0.966619</td>\n",
       "      <td>0.891189</td>\n",
       "      <td>0.56634</td>\n",
       "      <td>...</td>\n",
       "      <td>0.092996</td>\n",
       "      <td>0.845014</td>\n",
       "      <td>0.064294</td>\n",
       "      <td>0.273708</td>\n",
       "      <td>0.176336</td>\n",
       "      <td>0.195125</td>\n",
       "      <td>0.633482</td>\n",
       "      <td>0.771799</td>\n",
       "      <td>0.095871</td>\n",
       "      <td>0.155751</td>\n",
       "    </tr>\n",
       "    <tr>\n",
       "      <th>1</th>\n",
       "      <td>0.992326</td>\n",
       "      <td>0.937942</td>\n",
       "      <td>0.616511</td>\n",
       "      <td>0.528965</td>\n",
       "      <td>0.993836</td>\n",
       "      <td>0.226901</td>\n",
       "      <td>0.298088</td>\n",
       "      <td>0.185523</td>\n",
       "      <td>0.103625</td>\n",
       "      <td>0.101683</td>\n",
       "      <td>...</td>\n",
       "      <td>0.885138</td>\n",
       "      <td>0.163032</td>\n",
       "      <td>0.727409</td>\n",
       "      <td>0.889973</td>\n",
       "      <td>0.01775</td>\n",
       "      <td>0.170877</td>\n",
       "      <td>0.396583</td>\n",
       "      <td>0.690224</td>\n",
       "      <td>0.423014</td>\n",
       "      <td>0.098887</td>\n",
       "    </tr>\n",
       "    <tr>\n",
       "      <th>2</th>\n",
       "      <td>0.029421</td>\n",
       "      <td>0.15981</td>\n",
       "      <td>0.396288</td>\n",
       "      <td>0.438421</td>\n",
       "      <td>0.748688</td>\n",
       "      <td>0.585854</td>\n",
       "      <td>0.808357</td>\n",
       "      <td>0.776844</td>\n",
       "      <td>0.185792</td>\n",
       "      <td>0.787454</td>\n",
       "      <td>...</td>\n",
       "      <td>0.503796</td>\n",
       "      <td>0.590114</td>\n",
       "      <td>0.302077</td>\n",
       "      <td>0.287452</td>\n",
       "      <td>0.819989</td>\n",
       "      <td>0.510583</td>\n",
       "      <td>0.922017</td>\n",
       "      <td>0.872122</td>\n",
       "      <td>0.886492</td>\n",
       "      <td>0.133443</td>\n",
       "    </tr>\n",
       "    <tr>\n",
       "      <th>3</th>\n",
       "      <td>0.405688</td>\n",
       "      <td>0.810685</td>\n",
       "      <td>0.438617</td>\n",
       "      <td>0.608056</td>\n",
       "      <td>0.414415</td>\n",
       "      <td>0.375922</td>\n",
       "      <td>0.612956</td>\n",
       "      <td>0.625154</td>\n",
       "      <td>0.370414</td>\n",
       "      <td>0.005102</td>\n",
       "      <td>...</td>\n",
       "      <td>0.990901</td>\n",
       "      <td>0.022772</td>\n",
       "      <td>0.510478</td>\n",
       "      <td>0.445699</td>\n",
       "      <td>0.418852</td>\n",
       "      <td>0.102239</td>\n",
       "      <td>0.109421</td>\n",
       "      <td>0.080016</td>\n",
       "      <td>0.942696</td>\n",
       "      <td>0.873607</td>\n",
       "    </tr>\n",
       "    <tr>\n",
       "      <th>4</th>\n",
       "      <td>0.591369</td>\n",
       "      <td>0.054391</td>\n",
       "      <td>0.898269</td>\n",
       "      <td>0.621835</td>\n",
       "      <td>0.318291</td>\n",
       "      <td>0.855481</td>\n",
       "      <td>0.292066</td>\n",
       "      <td>0.281869</td>\n",
       "      <td>0.289675</td>\n",
       "      <td>0.871137</td>\n",
       "      <td>...</td>\n",
       "      <td>0.412267</td>\n",
       "      <td>0.620229</td>\n",
       "      <td>0.587636</td>\n",
       "      <td>0.287449</td>\n",
       "      <td>0.466498</td>\n",
       "      <td>0.375501</td>\n",
       "      <td>0.275757</td>\n",
       "      <td>0.124429</td>\n",
       "      <td>0.302288</td>\n",
       "      <td>0.342575</td>\n",
       "    </tr>\n",
       "  </tbody>\n",
       "</table>\n",
       "<p>5 rows × 330 columns</p>\n",
       "</div>"
      ],
      "text/plain": [
       "        0         1         2         3         4         5         6    \\\n",
       "0       0.3  0.472891  0.152944  0.165207  0.929314  0.439132   0.81581   \n",
       "1  0.992326  0.937942  0.616511  0.528965  0.993836  0.226901  0.298088   \n",
       "2  0.029421   0.15981  0.396288  0.438421  0.748688  0.585854  0.808357   \n",
       "3  0.405688  0.810685  0.438617  0.608056  0.414415  0.375922  0.612956   \n",
       "4  0.591369  0.054391  0.898269  0.621835  0.318291  0.855481  0.292066   \n",
       "\n",
       "        7         8         9    ...       320       321       322       323  \\\n",
       "0  0.966619  0.891189   0.56634  ...  0.092996  0.845014  0.064294  0.273708   \n",
       "1  0.185523  0.103625  0.101683  ...  0.885138  0.163032  0.727409  0.889973   \n",
       "2  0.776844  0.185792  0.787454  ...  0.503796  0.590114  0.302077  0.287452   \n",
       "3  0.625154  0.370414  0.005102  ...  0.990901  0.022772  0.510478  0.445699   \n",
       "4  0.281869  0.289675  0.871137  ...  0.412267  0.620229  0.587636  0.287449   \n",
       "\n",
       "        324       325       326       327       328       329  \n",
       "0  0.176336  0.195125  0.633482  0.771799  0.095871  0.155751  \n",
       "1   0.01775  0.170877  0.396583  0.690224  0.423014  0.098887  \n",
       "2  0.819989  0.510583  0.922017  0.872122  0.886492  0.133443  \n",
       "3  0.418852  0.102239  0.109421  0.080016  0.942696  0.873607  \n",
       "4  0.466498  0.375501  0.275757  0.124429  0.302288  0.342575  \n",
       "\n",
       "[5 rows x 330 columns]"
      ]
     },
     "execution_count": 110,
     "metadata": {},
     "output_type": "execute_result"
    }
   ],
   "source": [
    "newDf.T"
   ]
  },
  {
   "cell_type": "code",
   "execution_count": 111,
   "id": "4dc1d324",
   "metadata": {},
   "outputs": [
    {
     "data": {
      "text/html": [
       "<div>\n",
       "<style scoped>\n",
       "    .dataframe tbody tr th:only-of-type {\n",
       "        vertical-align: middle;\n",
       "    }\n",
       "\n",
       "    .dataframe tbody tr th {\n",
       "        vertical-align: top;\n",
       "    }\n",
       "\n",
       "    .dataframe thead th {\n",
       "        text-align: right;\n",
       "    }\n",
       "</style>\n",
       "<table border=\"1\" class=\"dataframe\">\n",
       "  <thead>\n",
       "    <tr style=\"text-align: right;\">\n",
       "      <th></th>\n",
       "      <th>0</th>\n",
       "      <th>1</th>\n",
       "      <th>2</th>\n",
       "      <th>3</th>\n",
       "      <th>4</th>\n",
       "    </tr>\n",
       "  </thead>\n",
       "  <tbody>\n",
       "    <tr>\n",
       "      <th>0</th>\n",
       "      <td>0.3</td>\n",
       "      <td>0.992326</td>\n",
       "      <td>0.029421</td>\n",
       "      <td>0.405688</td>\n",
       "      <td>0.591369</td>\n",
       "    </tr>\n",
       "    <tr>\n",
       "      <th>1</th>\n",
       "      <td>0.472891</td>\n",
       "      <td>0.937942</td>\n",
       "      <td>0.159810</td>\n",
       "      <td>0.810685</td>\n",
       "      <td>0.054391</td>\n",
       "    </tr>\n",
       "    <tr>\n",
       "      <th>2</th>\n",
       "      <td>0.152944</td>\n",
       "      <td>0.616511</td>\n",
       "      <td>0.396288</td>\n",
       "      <td>0.438617</td>\n",
       "      <td>0.898269</td>\n",
       "    </tr>\n",
       "    <tr>\n",
       "      <th>3</th>\n",
       "      <td>0.165207</td>\n",
       "      <td>0.528965</td>\n",
       "      <td>0.438421</td>\n",
       "      <td>0.608056</td>\n",
       "      <td>0.621835</td>\n",
       "    </tr>\n",
       "    <tr>\n",
       "      <th>4</th>\n",
       "      <td>0.929314</td>\n",
       "      <td>0.993836</td>\n",
       "      <td>0.748688</td>\n",
       "      <td>0.414415</td>\n",
       "      <td>0.318291</td>\n",
       "    </tr>\n",
       "    <tr>\n",
       "      <th>...</th>\n",
       "      <td>...</td>\n",
       "      <td>...</td>\n",
       "      <td>...</td>\n",
       "      <td>...</td>\n",
       "      <td>...</td>\n",
       "    </tr>\n",
       "    <tr>\n",
       "      <th>325</th>\n",
       "      <td>0.195125</td>\n",
       "      <td>0.170877</td>\n",
       "      <td>0.510583</td>\n",
       "      <td>0.102239</td>\n",
       "      <td>0.375501</td>\n",
       "    </tr>\n",
       "    <tr>\n",
       "      <th>326</th>\n",
       "      <td>0.633482</td>\n",
       "      <td>0.396583</td>\n",
       "      <td>0.922017</td>\n",
       "      <td>0.109421</td>\n",
       "      <td>0.275757</td>\n",
       "    </tr>\n",
       "    <tr>\n",
       "      <th>327</th>\n",
       "      <td>0.771799</td>\n",
       "      <td>0.690224</td>\n",
       "      <td>0.872122</td>\n",
       "      <td>0.080016</td>\n",
       "      <td>0.124429</td>\n",
       "    </tr>\n",
       "    <tr>\n",
       "      <th>328</th>\n",
       "      <td>0.095871</td>\n",
       "      <td>0.423014</td>\n",
       "      <td>0.886492</td>\n",
       "      <td>0.942696</td>\n",
       "      <td>0.302288</td>\n",
       "    </tr>\n",
       "    <tr>\n",
       "      <th>329</th>\n",
       "      <td>0.155751</td>\n",
       "      <td>0.098887</td>\n",
       "      <td>0.133443</td>\n",
       "      <td>0.873607</td>\n",
       "      <td>0.342575</td>\n",
       "    </tr>\n",
       "  </tbody>\n",
       "</table>\n",
       "<p>330 rows × 5 columns</p>\n",
       "</div>"
      ],
      "text/plain": [
       "            0         1         2         3         4\n",
       "0         0.3  0.992326  0.029421  0.405688  0.591369\n",
       "1    0.472891  0.937942  0.159810  0.810685  0.054391\n",
       "2    0.152944  0.616511  0.396288  0.438617  0.898269\n",
       "3    0.165207  0.528965  0.438421  0.608056  0.621835\n",
       "4    0.929314  0.993836  0.748688  0.414415  0.318291\n",
       "..        ...       ...       ...       ...       ...\n",
       "325  0.195125  0.170877  0.510583  0.102239  0.375501\n",
       "326  0.633482  0.396583  0.922017  0.109421  0.275757\n",
       "327  0.771799  0.690224  0.872122  0.080016  0.124429\n",
       "328  0.095871  0.423014  0.886492  0.942696  0.302288\n",
       "329  0.155751  0.098887  0.133443  0.873607  0.342575\n",
       "\n",
       "[330 rows x 5 columns]"
      ]
     },
     "execution_count": 111,
     "metadata": {},
     "output_type": "execute_result"
    }
   ],
   "source": [
    "newDf.sort_index(axis=0)"
   ]
  },
  {
   "cell_type": "code",
   "execution_count": 112,
   "id": "1c9c5df9",
   "metadata": {},
   "outputs": [
    {
     "data": {
      "text/html": [
       "<div>\n",
       "<style scoped>\n",
       "    .dataframe tbody tr th:only-of-type {\n",
       "        vertical-align: middle;\n",
       "    }\n",
       "\n",
       "    .dataframe tbody tr th {\n",
       "        vertical-align: top;\n",
       "    }\n",
       "\n",
       "    .dataframe thead th {\n",
       "        text-align: right;\n",
       "    }\n",
       "</style>\n",
       "<table border=\"1\" class=\"dataframe\">\n",
       "  <thead>\n",
       "    <tr style=\"text-align: right;\">\n",
       "      <th></th>\n",
       "      <th>0</th>\n",
       "      <th>1</th>\n",
       "      <th>2</th>\n",
       "      <th>3</th>\n",
       "      <th>4</th>\n",
       "    </tr>\n",
       "  </thead>\n",
       "  <tbody>\n",
       "    <tr>\n",
       "      <th>329</th>\n",
       "      <td>0.155751</td>\n",
       "      <td>0.098887</td>\n",
       "      <td>0.133443</td>\n",
       "      <td>0.873607</td>\n",
       "      <td>0.342575</td>\n",
       "    </tr>\n",
       "    <tr>\n",
       "      <th>328</th>\n",
       "      <td>0.095871</td>\n",
       "      <td>0.423014</td>\n",
       "      <td>0.886492</td>\n",
       "      <td>0.942696</td>\n",
       "      <td>0.302288</td>\n",
       "    </tr>\n",
       "    <tr>\n",
       "      <th>327</th>\n",
       "      <td>0.771799</td>\n",
       "      <td>0.690224</td>\n",
       "      <td>0.872122</td>\n",
       "      <td>0.080016</td>\n",
       "      <td>0.124429</td>\n",
       "    </tr>\n",
       "    <tr>\n",
       "      <th>326</th>\n",
       "      <td>0.633482</td>\n",
       "      <td>0.396583</td>\n",
       "      <td>0.922017</td>\n",
       "      <td>0.109421</td>\n",
       "      <td>0.275757</td>\n",
       "    </tr>\n",
       "    <tr>\n",
       "      <th>325</th>\n",
       "      <td>0.195125</td>\n",
       "      <td>0.170877</td>\n",
       "      <td>0.510583</td>\n",
       "      <td>0.102239</td>\n",
       "      <td>0.375501</td>\n",
       "    </tr>\n",
       "    <tr>\n",
       "      <th>...</th>\n",
       "      <td>...</td>\n",
       "      <td>...</td>\n",
       "      <td>...</td>\n",
       "      <td>...</td>\n",
       "      <td>...</td>\n",
       "    </tr>\n",
       "    <tr>\n",
       "      <th>4</th>\n",
       "      <td>0.929314</td>\n",
       "      <td>0.993836</td>\n",
       "      <td>0.748688</td>\n",
       "      <td>0.414415</td>\n",
       "      <td>0.318291</td>\n",
       "    </tr>\n",
       "    <tr>\n",
       "      <th>3</th>\n",
       "      <td>0.165207</td>\n",
       "      <td>0.528965</td>\n",
       "      <td>0.438421</td>\n",
       "      <td>0.608056</td>\n",
       "      <td>0.621835</td>\n",
       "    </tr>\n",
       "    <tr>\n",
       "      <th>2</th>\n",
       "      <td>0.152944</td>\n",
       "      <td>0.616511</td>\n",
       "      <td>0.396288</td>\n",
       "      <td>0.438617</td>\n",
       "      <td>0.898269</td>\n",
       "    </tr>\n",
       "    <tr>\n",
       "      <th>1</th>\n",
       "      <td>0.472891</td>\n",
       "      <td>0.937942</td>\n",
       "      <td>0.159810</td>\n",
       "      <td>0.810685</td>\n",
       "      <td>0.054391</td>\n",
       "    </tr>\n",
       "    <tr>\n",
       "      <th>0</th>\n",
       "      <td>0.3</td>\n",
       "      <td>0.992326</td>\n",
       "      <td>0.029421</td>\n",
       "      <td>0.405688</td>\n",
       "      <td>0.591369</td>\n",
       "    </tr>\n",
       "  </tbody>\n",
       "</table>\n",
       "<p>330 rows × 5 columns</p>\n",
       "</div>"
      ],
      "text/plain": [
       "            0         1         2         3         4\n",
       "329  0.155751  0.098887  0.133443  0.873607  0.342575\n",
       "328  0.095871  0.423014  0.886492  0.942696  0.302288\n",
       "327  0.771799  0.690224  0.872122  0.080016  0.124429\n",
       "326  0.633482  0.396583  0.922017  0.109421  0.275757\n",
       "325  0.195125  0.170877  0.510583  0.102239  0.375501\n",
       "..        ...       ...       ...       ...       ...\n",
       "4    0.929314  0.993836  0.748688  0.414415  0.318291\n",
       "3    0.165207  0.528965  0.438421  0.608056  0.621835\n",
       "2    0.152944  0.616511  0.396288  0.438617  0.898269\n",
       "1    0.472891  0.937942  0.159810  0.810685  0.054391\n",
       "0         0.3  0.992326  0.029421  0.405688  0.591369\n",
       "\n",
       "[330 rows x 5 columns]"
      ]
     },
     "execution_count": 112,
     "metadata": {},
     "output_type": "execute_result"
    }
   ],
   "source": [
    "newDf.sort_index(axis=0, ascending=False)"
   ]
  },
  {
   "cell_type": "code",
   "execution_count": 113,
   "id": "e0d9a5c5",
   "metadata": {},
   "outputs": [
    {
     "data": {
      "text/html": [
       "<div>\n",
       "<style scoped>\n",
       "    .dataframe tbody tr th:only-of-type {\n",
       "        vertical-align: middle;\n",
       "    }\n",
       "\n",
       "    .dataframe tbody tr th {\n",
       "        vertical-align: top;\n",
       "    }\n",
       "\n",
       "    .dataframe thead th {\n",
       "        text-align: right;\n",
       "    }\n",
       "</style>\n",
       "<table border=\"1\" class=\"dataframe\">\n",
       "  <thead>\n",
       "    <tr style=\"text-align: right;\">\n",
       "      <th></th>\n",
       "      <th>0</th>\n",
       "      <th>1</th>\n",
       "      <th>2</th>\n",
       "      <th>3</th>\n",
       "      <th>4</th>\n",
       "    </tr>\n",
       "  </thead>\n",
       "  <tbody>\n",
       "    <tr>\n",
       "      <th>0</th>\n",
       "      <td>0.3</td>\n",
       "      <td>0.992326</td>\n",
       "      <td>0.029421</td>\n",
       "      <td>0.405688</td>\n",
       "      <td>0.591369</td>\n",
       "    </tr>\n",
       "    <tr>\n",
       "      <th>1</th>\n",
       "      <td>0.472891</td>\n",
       "      <td>0.937942</td>\n",
       "      <td>0.159810</td>\n",
       "      <td>0.810685</td>\n",
       "      <td>0.054391</td>\n",
       "    </tr>\n",
       "    <tr>\n",
       "      <th>2</th>\n",
       "      <td>0.152944</td>\n",
       "      <td>0.616511</td>\n",
       "      <td>0.396288</td>\n",
       "      <td>0.438617</td>\n",
       "      <td>0.898269</td>\n",
       "    </tr>\n",
       "    <tr>\n",
       "      <th>3</th>\n",
       "      <td>0.165207</td>\n",
       "      <td>0.528965</td>\n",
       "      <td>0.438421</td>\n",
       "      <td>0.608056</td>\n",
       "      <td>0.621835</td>\n",
       "    </tr>\n",
       "    <tr>\n",
       "      <th>4</th>\n",
       "      <td>0.929314</td>\n",
       "      <td>0.993836</td>\n",
       "      <td>0.748688</td>\n",
       "      <td>0.414415</td>\n",
       "      <td>0.318291</td>\n",
       "    </tr>\n",
       "    <tr>\n",
       "      <th>...</th>\n",
       "      <td>...</td>\n",
       "      <td>...</td>\n",
       "      <td>...</td>\n",
       "      <td>...</td>\n",
       "      <td>...</td>\n",
       "    </tr>\n",
       "    <tr>\n",
       "      <th>325</th>\n",
       "      <td>0.195125</td>\n",
       "      <td>0.170877</td>\n",
       "      <td>0.510583</td>\n",
       "      <td>0.102239</td>\n",
       "      <td>0.375501</td>\n",
       "    </tr>\n",
       "    <tr>\n",
       "      <th>326</th>\n",
       "      <td>0.633482</td>\n",
       "      <td>0.396583</td>\n",
       "      <td>0.922017</td>\n",
       "      <td>0.109421</td>\n",
       "      <td>0.275757</td>\n",
       "    </tr>\n",
       "    <tr>\n",
       "      <th>327</th>\n",
       "      <td>0.771799</td>\n",
       "      <td>0.690224</td>\n",
       "      <td>0.872122</td>\n",
       "      <td>0.080016</td>\n",
       "      <td>0.124429</td>\n",
       "    </tr>\n",
       "    <tr>\n",
       "      <th>328</th>\n",
       "      <td>0.095871</td>\n",
       "      <td>0.423014</td>\n",
       "      <td>0.886492</td>\n",
       "      <td>0.942696</td>\n",
       "      <td>0.302288</td>\n",
       "    </tr>\n",
       "    <tr>\n",
       "      <th>329</th>\n",
       "      <td>0.155751</td>\n",
       "      <td>0.098887</td>\n",
       "      <td>0.133443</td>\n",
       "      <td>0.873607</td>\n",
       "      <td>0.342575</td>\n",
       "    </tr>\n",
       "  </tbody>\n",
       "</table>\n",
       "<p>330 rows × 5 columns</p>\n",
       "</div>"
      ],
      "text/plain": [
       "            0         1         2         3         4\n",
       "0         0.3  0.992326  0.029421  0.405688  0.591369\n",
       "1    0.472891  0.937942  0.159810  0.810685  0.054391\n",
       "2    0.152944  0.616511  0.396288  0.438617  0.898269\n",
       "3    0.165207  0.528965  0.438421  0.608056  0.621835\n",
       "4    0.929314  0.993836  0.748688  0.414415  0.318291\n",
       "..        ...       ...       ...       ...       ...\n",
       "325  0.195125  0.170877  0.510583  0.102239  0.375501\n",
       "326  0.633482  0.396583  0.922017  0.109421  0.275757\n",
       "327  0.771799  0.690224  0.872122  0.080016  0.124429\n",
       "328  0.095871  0.423014  0.886492  0.942696  0.302288\n",
       "329  0.155751  0.098887  0.133443  0.873607  0.342575\n",
       "\n",
       "[330 rows x 5 columns]"
      ]
     },
     "execution_count": 113,
     "metadata": {},
     "output_type": "execute_result"
    }
   ],
   "source": [
    "newDf.sort_index(axis=1)"
   ]
  },
  {
   "cell_type": "code",
   "execution_count": 114,
   "id": "2b302bb5",
   "metadata": {},
   "outputs": [
    {
     "data": {
      "text/html": [
       "<div>\n",
       "<style scoped>\n",
       "    .dataframe tbody tr th:only-of-type {\n",
       "        vertical-align: middle;\n",
       "    }\n",
       "\n",
       "    .dataframe tbody tr th {\n",
       "        vertical-align: top;\n",
       "    }\n",
       "\n",
       "    .dataframe thead th {\n",
       "        text-align: right;\n",
       "    }\n",
       "</style>\n",
       "<table border=\"1\" class=\"dataframe\">\n",
       "  <thead>\n",
       "    <tr style=\"text-align: right;\">\n",
       "      <th></th>\n",
       "      <th>4</th>\n",
       "      <th>3</th>\n",
       "      <th>2</th>\n",
       "      <th>1</th>\n",
       "      <th>0</th>\n",
       "    </tr>\n",
       "  </thead>\n",
       "  <tbody>\n",
       "    <tr>\n",
       "      <th>0</th>\n",
       "      <td>0.591369</td>\n",
       "      <td>0.405688</td>\n",
       "      <td>0.029421</td>\n",
       "      <td>0.992326</td>\n",
       "      <td>0.3</td>\n",
       "    </tr>\n",
       "    <tr>\n",
       "      <th>1</th>\n",
       "      <td>0.054391</td>\n",
       "      <td>0.810685</td>\n",
       "      <td>0.159810</td>\n",
       "      <td>0.937942</td>\n",
       "      <td>0.472891</td>\n",
       "    </tr>\n",
       "    <tr>\n",
       "      <th>2</th>\n",
       "      <td>0.898269</td>\n",
       "      <td>0.438617</td>\n",
       "      <td>0.396288</td>\n",
       "      <td>0.616511</td>\n",
       "      <td>0.152944</td>\n",
       "    </tr>\n",
       "    <tr>\n",
       "      <th>3</th>\n",
       "      <td>0.621835</td>\n",
       "      <td>0.608056</td>\n",
       "      <td>0.438421</td>\n",
       "      <td>0.528965</td>\n",
       "      <td>0.165207</td>\n",
       "    </tr>\n",
       "    <tr>\n",
       "      <th>4</th>\n",
       "      <td>0.318291</td>\n",
       "      <td>0.414415</td>\n",
       "      <td>0.748688</td>\n",
       "      <td>0.993836</td>\n",
       "      <td>0.929314</td>\n",
       "    </tr>\n",
       "    <tr>\n",
       "      <th>...</th>\n",
       "      <td>...</td>\n",
       "      <td>...</td>\n",
       "      <td>...</td>\n",
       "      <td>...</td>\n",
       "      <td>...</td>\n",
       "    </tr>\n",
       "    <tr>\n",
       "      <th>325</th>\n",
       "      <td>0.375501</td>\n",
       "      <td>0.102239</td>\n",
       "      <td>0.510583</td>\n",
       "      <td>0.170877</td>\n",
       "      <td>0.195125</td>\n",
       "    </tr>\n",
       "    <tr>\n",
       "      <th>326</th>\n",
       "      <td>0.275757</td>\n",
       "      <td>0.109421</td>\n",
       "      <td>0.922017</td>\n",
       "      <td>0.396583</td>\n",
       "      <td>0.633482</td>\n",
       "    </tr>\n",
       "    <tr>\n",
       "      <th>327</th>\n",
       "      <td>0.124429</td>\n",
       "      <td>0.080016</td>\n",
       "      <td>0.872122</td>\n",
       "      <td>0.690224</td>\n",
       "      <td>0.771799</td>\n",
       "    </tr>\n",
       "    <tr>\n",
       "      <th>328</th>\n",
       "      <td>0.302288</td>\n",
       "      <td>0.942696</td>\n",
       "      <td>0.886492</td>\n",
       "      <td>0.423014</td>\n",
       "      <td>0.095871</td>\n",
       "    </tr>\n",
       "    <tr>\n",
       "      <th>329</th>\n",
       "      <td>0.342575</td>\n",
       "      <td>0.873607</td>\n",
       "      <td>0.133443</td>\n",
       "      <td>0.098887</td>\n",
       "      <td>0.155751</td>\n",
       "    </tr>\n",
       "  </tbody>\n",
       "</table>\n",
       "<p>330 rows × 5 columns</p>\n",
       "</div>"
      ],
      "text/plain": [
       "            4         3         2         1         0\n",
       "0    0.591369  0.405688  0.029421  0.992326       0.3\n",
       "1    0.054391  0.810685  0.159810  0.937942  0.472891\n",
       "2    0.898269  0.438617  0.396288  0.616511  0.152944\n",
       "3    0.621835  0.608056  0.438421  0.528965  0.165207\n",
       "4    0.318291  0.414415  0.748688  0.993836  0.929314\n",
       "..        ...       ...       ...       ...       ...\n",
       "325  0.375501  0.102239  0.510583  0.170877  0.195125\n",
       "326  0.275757  0.109421  0.922017  0.396583  0.633482\n",
       "327  0.124429  0.080016  0.872122  0.690224  0.771799\n",
       "328  0.302288  0.942696  0.886492  0.423014  0.095871\n",
       "329  0.342575  0.873607  0.133443  0.098887  0.155751\n",
       "\n",
       "[330 rows x 5 columns]"
      ]
     },
     "execution_count": 114,
     "metadata": {},
     "output_type": "execute_result"
    }
   ],
   "source": [
    "newDf.sort_index(axis=1, ascending=False)"
   ]
  },
  {
   "cell_type": "code",
   "execution_count": 115,
   "id": "e12a990f",
   "metadata": {},
   "outputs": [
    {
     "data": {
      "text/html": [
       "<div>\n",
       "<style scoped>\n",
       "    .dataframe tbody tr th:only-of-type {\n",
       "        vertical-align: middle;\n",
       "    }\n",
       "\n",
       "    .dataframe tbody tr th {\n",
       "        vertical-align: top;\n",
       "    }\n",
       "\n",
       "    .dataframe thead th {\n",
       "        text-align: right;\n",
       "    }\n",
       "</style>\n",
       "<table border=\"1\" class=\"dataframe\">\n",
       "  <thead>\n",
       "    <tr style=\"text-align: right;\">\n",
       "      <th></th>\n",
       "      <th>0</th>\n",
       "      <th>1</th>\n",
       "      <th>2</th>\n",
       "      <th>3</th>\n",
       "      <th>4</th>\n",
       "    </tr>\n",
       "  </thead>\n",
       "  <tbody>\n",
       "    <tr>\n",
       "      <th>0</th>\n",
       "      <td>0.3</td>\n",
       "      <td>0.992326</td>\n",
       "      <td>0.029421</td>\n",
       "      <td>0.405688</td>\n",
       "      <td>0.591369</td>\n",
       "    </tr>\n",
       "    <tr>\n",
       "      <th>1</th>\n",
       "      <td>0.472891</td>\n",
       "      <td>0.937942</td>\n",
       "      <td>0.159810</td>\n",
       "      <td>0.810685</td>\n",
       "      <td>0.054391</td>\n",
       "    </tr>\n",
       "    <tr>\n",
       "      <th>2</th>\n",
       "      <td>0.152944</td>\n",
       "      <td>0.616511</td>\n",
       "      <td>0.396288</td>\n",
       "      <td>0.438617</td>\n",
       "      <td>0.898269</td>\n",
       "    </tr>\n",
       "    <tr>\n",
       "      <th>3</th>\n",
       "      <td>0.165207</td>\n",
       "      <td>0.528965</td>\n",
       "      <td>0.438421</td>\n",
       "      <td>0.608056</td>\n",
       "      <td>0.621835</td>\n",
       "    </tr>\n",
       "    <tr>\n",
       "      <th>4</th>\n",
       "      <td>0.929314</td>\n",
       "      <td>0.993836</td>\n",
       "      <td>0.748688</td>\n",
       "      <td>0.414415</td>\n",
       "      <td>0.318291</td>\n",
       "    </tr>\n",
       "  </tbody>\n",
       "</table>\n",
       "</div>"
      ],
      "text/plain": [
       "          0         1         2         3         4\n",
       "0       0.3  0.992326  0.029421  0.405688  0.591369\n",
       "1  0.472891  0.937942  0.159810  0.810685  0.054391\n",
       "2  0.152944  0.616511  0.396288  0.438617  0.898269\n",
       "3  0.165207  0.528965  0.438421  0.608056  0.621835\n",
       "4  0.929314  0.993836  0.748688  0.414415  0.318291"
      ]
     },
     "execution_count": 115,
     "metadata": {},
     "output_type": "execute_result"
    }
   ],
   "source": [
    "newDf.head()"
   ]
  },
  {
   "cell_type": "code",
   "execution_count": 116,
   "id": "95d17814",
   "metadata": {},
   "outputs": [
    {
     "data": {
      "text/plain": [
       "0.47289050282962286"
      ]
     },
     "execution_count": 116,
     "metadata": {},
     "output_type": "execute_result"
    }
   ],
   "source": [
    "newDf[0][1]"
   ]
  },
  {
   "cell_type": "code",
   "execution_count": 117,
   "id": "b212755c",
   "metadata": {},
   "outputs": [
    {
     "data": {
      "text/plain": [
       "pandas.core.series.Series"
      ]
     },
     "execution_count": 117,
     "metadata": {},
     "output_type": "execute_result"
    }
   ],
   "source": [
    "type(newDf[0])"
   ]
  },
  {
   "cell_type": "code",
   "execution_count": 118,
   "id": "d3b1fb50",
   "metadata": {},
   "outputs": [
    {
     "data": {
      "text/html": [
       "<div>\n",
       "<style scoped>\n",
       "    .dataframe tbody tr th:only-of-type {\n",
       "        vertical-align: middle;\n",
       "    }\n",
       "\n",
       "    .dataframe tbody tr th {\n",
       "        vertical-align: top;\n",
       "    }\n",
       "\n",
       "    .dataframe thead th {\n",
       "        text-align: right;\n",
       "    }\n",
       "</style>\n",
       "<table border=\"1\" class=\"dataframe\">\n",
       "  <thead>\n",
       "    <tr style=\"text-align: right;\">\n",
       "      <th></th>\n",
       "      <th>0</th>\n",
       "      <th>1</th>\n",
       "      <th>2</th>\n",
       "      <th>3</th>\n",
       "      <th>4</th>\n",
       "    </tr>\n",
       "  </thead>\n",
       "  <tbody>\n",
       "    <tr>\n",
       "      <th>0</th>\n",
       "      <td>0.3</td>\n",
       "      <td>0.992326</td>\n",
       "      <td>0.029421</td>\n",
       "      <td>0.405688</td>\n",
       "      <td>0.591369</td>\n",
       "    </tr>\n",
       "    <tr>\n",
       "      <th>1</th>\n",
       "      <td>0.472891</td>\n",
       "      <td>0.937942</td>\n",
       "      <td>0.159810</td>\n",
       "      <td>0.810685</td>\n",
       "      <td>0.054391</td>\n",
       "    </tr>\n",
       "    <tr>\n",
       "      <th>2</th>\n",
       "      <td>0.152944</td>\n",
       "      <td>0.616511</td>\n",
       "      <td>0.396288</td>\n",
       "      <td>0.438617</td>\n",
       "      <td>0.898269</td>\n",
       "    </tr>\n",
       "    <tr>\n",
       "      <th>3</th>\n",
       "      <td>0.165207</td>\n",
       "      <td>0.528965</td>\n",
       "      <td>0.438421</td>\n",
       "      <td>0.608056</td>\n",
       "      <td>0.621835</td>\n",
       "    </tr>\n",
       "    <tr>\n",
       "      <th>4</th>\n",
       "      <td>0.929314</td>\n",
       "      <td>0.993836</td>\n",
       "      <td>0.748688</td>\n",
       "      <td>0.414415</td>\n",
       "      <td>0.318291</td>\n",
       "    </tr>\n",
       "    <tr>\n",
       "      <th>...</th>\n",
       "      <td>...</td>\n",
       "      <td>...</td>\n",
       "      <td>...</td>\n",
       "      <td>...</td>\n",
       "      <td>...</td>\n",
       "    </tr>\n",
       "    <tr>\n",
       "      <th>325</th>\n",
       "      <td>0.195125</td>\n",
       "      <td>0.170877</td>\n",
       "      <td>0.510583</td>\n",
       "      <td>0.102239</td>\n",
       "      <td>0.375501</td>\n",
       "    </tr>\n",
       "    <tr>\n",
       "      <th>326</th>\n",
       "      <td>0.633482</td>\n",
       "      <td>0.396583</td>\n",
       "      <td>0.922017</td>\n",
       "      <td>0.109421</td>\n",
       "      <td>0.275757</td>\n",
       "    </tr>\n",
       "    <tr>\n",
       "      <th>327</th>\n",
       "      <td>0.771799</td>\n",
       "      <td>0.690224</td>\n",
       "      <td>0.872122</td>\n",
       "      <td>0.080016</td>\n",
       "      <td>0.124429</td>\n",
       "    </tr>\n",
       "    <tr>\n",
       "      <th>328</th>\n",
       "      <td>0.095871</td>\n",
       "      <td>0.423014</td>\n",
       "      <td>0.886492</td>\n",
       "      <td>0.942696</td>\n",
       "      <td>0.302288</td>\n",
       "    </tr>\n",
       "    <tr>\n",
       "      <th>329</th>\n",
       "      <td>0.155751</td>\n",
       "      <td>0.098887</td>\n",
       "      <td>0.133443</td>\n",
       "      <td>0.873607</td>\n",
       "      <td>0.342575</td>\n",
       "    </tr>\n",
       "  </tbody>\n",
       "</table>\n",
       "<p>330 rows × 5 columns</p>\n",
       "</div>"
      ],
      "text/plain": [
       "            0         1         2         3         4\n",
       "0         0.3  0.992326  0.029421  0.405688  0.591369\n",
       "1    0.472891  0.937942  0.159810  0.810685  0.054391\n",
       "2    0.152944  0.616511  0.396288  0.438617  0.898269\n",
       "3    0.165207  0.528965  0.438421  0.608056  0.621835\n",
       "4    0.929314  0.993836  0.748688  0.414415  0.318291\n",
       "..        ...       ...       ...       ...       ...\n",
       "325  0.195125  0.170877  0.510583  0.102239  0.375501\n",
       "326  0.633482  0.396583  0.922017  0.109421  0.275757\n",
       "327  0.771799  0.690224  0.872122  0.080016  0.124429\n",
       "328  0.095871  0.423014  0.886492  0.942696  0.302288\n",
       "329  0.155751  0.098887  0.133443  0.873607  0.342575\n",
       "\n",
       "[330 rows x 5 columns]"
      ]
     },
     "execution_count": 118,
     "metadata": {},
     "output_type": "execute_result"
    }
   ],
   "source": [
    "newDf"
   ]
  },
  {
   "cell_type": "markdown",
   "id": "d3f3dc62",
   "metadata": {},
   "source": [
    "## view"
   ]
  },
  {
   "cell_type": "code",
   "execution_count": 119,
   "id": "c8a11492",
   "metadata": {},
   "outputs": [],
   "source": [
    "newDfView=newDf"
   ]
  },
  {
   "cell_type": "code",
   "execution_count": 120,
   "id": "afc8f72f",
   "metadata": {},
   "outputs": [
    {
     "data": {
      "text/html": [
       "<div>\n",
       "<style scoped>\n",
       "    .dataframe tbody tr th:only-of-type {\n",
       "        vertical-align: middle;\n",
       "    }\n",
       "\n",
       "    .dataframe tbody tr th {\n",
       "        vertical-align: top;\n",
       "    }\n",
       "\n",
       "    .dataframe thead th {\n",
       "        text-align: right;\n",
       "    }\n",
       "</style>\n",
       "<table border=\"1\" class=\"dataframe\">\n",
       "  <thead>\n",
       "    <tr style=\"text-align: right;\">\n",
       "      <th></th>\n",
       "      <th>0</th>\n",
       "      <th>1</th>\n",
       "      <th>2</th>\n",
       "      <th>3</th>\n",
       "      <th>4</th>\n",
       "    </tr>\n",
       "  </thead>\n",
       "  <tbody>\n",
       "    <tr>\n",
       "      <th>0</th>\n",
       "      <td>0.3</td>\n",
       "      <td>0.992326</td>\n",
       "      <td>0.029421</td>\n",
       "      <td>0.405688</td>\n",
       "      <td>0.591369</td>\n",
       "    </tr>\n",
       "    <tr>\n",
       "      <th>1</th>\n",
       "      <td>0.472891</td>\n",
       "      <td>0.937942</td>\n",
       "      <td>0.159810</td>\n",
       "      <td>0.810685</td>\n",
       "      <td>0.054391</td>\n",
       "    </tr>\n",
       "    <tr>\n",
       "      <th>2</th>\n",
       "      <td>0.152944</td>\n",
       "      <td>0.616511</td>\n",
       "      <td>0.396288</td>\n",
       "      <td>0.438617</td>\n",
       "      <td>0.898269</td>\n",
       "    </tr>\n",
       "    <tr>\n",
       "      <th>3</th>\n",
       "      <td>0.165207</td>\n",
       "      <td>0.528965</td>\n",
       "      <td>0.438421</td>\n",
       "      <td>0.608056</td>\n",
       "      <td>0.621835</td>\n",
       "    </tr>\n",
       "    <tr>\n",
       "      <th>4</th>\n",
       "      <td>0.929314</td>\n",
       "      <td>0.993836</td>\n",
       "      <td>0.748688</td>\n",
       "      <td>0.414415</td>\n",
       "      <td>0.318291</td>\n",
       "    </tr>\n",
       "    <tr>\n",
       "      <th>...</th>\n",
       "      <td>...</td>\n",
       "      <td>...</td>\n",
       "      <td>...</td>\n",
       "      <td>...</td>\n",
       "      <td>...</td>\n",
       "    </tr>\n",
       "    <tr>\n",
       "      <th>325</th>\n",
       "      <td>0.195125</td>\n",
       "      <td>0.170877</td>\n",
       "      <td>0.510583</td>\n",
       "      <td>0.102239</td>\n",
       "      <td>0.375501</td>\n",
       "    </tr>\n",
       "    <tr>\n",
       "      <th>326</th>\n",
       "      <td>0.633482</td>\n",
       "      <td>0.396583</td>\n",
       "      <td>0.922017</td>\n",
       "      <td>0.109421</td>\n",
       "      <td>0.275757</td>\n",
       "    </tr>\n",
       "    <tr>\n",
       "      <th>327</th>\n",
       "      <td>0.771799</td>\n",
       "      <td>0.690224</td>\n",
       "      <td>0.872122</td>\n",
       "      <td>0.080016</td>\n",
       "      <td>0.124429</td>\n",
       "    </tr>\n",
       "    <tr>\n",
       "      <th>328</th>\n",
       "      <td>0.095871</td>\n",
       "      <td>0.423014</td>\n",
       "      <td>0.886492</td>\n",
       "      <td>0.942696</td>\n",
       "      <td>0.302288</td>\n",
       "    </tr>\n",
       "    <tr>\n",
       "      <th>329</th>\n",
       "      <td>0.155751</td>\n",
       "      <td>0.098887</td>\n",
       "      <td>0.133443</td>\n",
       "      <td>0.873607</td>\n",
       "      <td>0.342575</td>\n",
       "    </tr>\n",
       "  </tbody>\n",
       "</table>\n",
       "<p>330 rows × 5 columns</p>\n",
       "</div>"
      ],
      "text/plain": [
       "            0         1         2         3         4\n",
       "0         0.3  0.992326  0.029421  0.405688  0.591369\n",
       "1    0.472891  0.937942  0.159810  0.810685  0.054391\n",
       "2    0.152944  0.616511  0.396288  0.438617  0.898269\n",
       "3    0.165207  0.528965  0.438421  0.608056  0.621835\n",
       "4    0.929314  0.993836  0.748688  0.414415  0.318291\n",
       "..        ...       ...       ...       ...       ...\n",
       "325  0.195125  0.170877  0.510583  0.102239  0.375501\n",
       "326  0.633482  0.396583  0.922017  0.109421  0.275757\n",
       "327  0.771799  0.690224  0.872122  0.080016  0.124429\n",
       "328  0.095871  0.423014  0.886492  0.942696  0.302288\n",
       "329  0.155751  0.098887  0.133443  0.873607  0.342575\n",
       "\n",
       "[330 rows x 5 columns]"
      ]
     },
     "execution_count": 120,
     "metadata": {},
     "output_type": "execute_result"
    }
   ],
   "source": [
    "newDfView"
   ]
  },
  {
   "cell_type": "code",
   "execution_count": 121,
   "id": "32a705a6",
   "metadata": {},
   "outputs": [
    {
     "name": "stderr",
     "output_type": "stream",
     "text": [
      "C:\\Users\\HP\\AppData\\Local\\Temp\\ipykernel_10892\\4063526219.py:1: SettingWithCopyWarning: \n",
      "A value is trying to be set on a copy of a slice from a DataFrame\n",
      "\n",
      "See the caveats in the documentation: https://pandas.pydata.org/pandas-docs/stable/user_guide/indexing.html#returning-a-view-versus-a-copy\n",
      "  newDfView[0][0]=765\n"
     ]
    }
   ],
   "source": [
    "newDfView[0][0]=765"
   ]
  },
  {
   "cell_type": "code",
   "execution_count": 122,
   "id": "984f3e06",
   "metadata": {},
   "outputs": [
    {
     "data": {
      "text/html": [
       "<div>\n",
       "<style scoped>\n",
       "    .dataframe tbody tr th:only-of-type {\n",
       "        vertical-align: middle;\n",
       "    }\n",
       "\n",
       "    .dataframe tbody tr th {\n",
       "        vertical-align: top;\n",
       "    }\n",
       "\n",
       "    .dataframe thead th {\n",
       "        text-align: right;\n",
       "    }\n",
       "</style>\n",
       "<table border=\"1\" class=\"dataframe\">\n",
       "  <thead>\n",
       "    <tr style=\"text-align: right;\">\n",
       "      <th></th>\n",
       "      <th>0</th>\n",
       "      <th>1</th>\n",
       "      <th>2</th>\n",
       "      <th>3</th>\n",
       "      <th>4</th>\n",
       "    </tr>\n",
       "  </thead>\n",
       "  <tbody>\n",
       "    <tr>\n",
       "      <th>0</th>\n",
       "      <td>765</td>\n",
       "      <td>0.992326</td>\n",
       "      <td>0.029421</td>\n",
       "      <td>0.405688</td>\n",
       "      <td>0.591369</td>\n",
       "    </tr>\n",
       "    <tr>\n",
       "      <th>1</th>\n",
       "      <td>0.472891</td>\n",
       "      <td>0.937942</td>\n",
       "      <td>0.159810</td>\n",
       "      <td>0.810685</td>\n",
       "      <td>0.054391</td>\n",
       "    </tr>\n",
       "    <tr>\n",
       "      <th>2</th>\n",
       "      <td>0.152944</td>\n",
       "      <td>0.616511</td>\n",
       "      <td>0.396288</td>\n",
       "      <td>0.438617</td>\n",
       "      <td>0.898269</td>\n",
       "    </tr>\n",
       "    <tr>\n",
       "      <th>3</th>\n",
       "      <td>0.165207</td>\n",
       "      <td>0.528965</td>\n",
       "      <td>0.438421</td>\n",
       "      <td>0.608056</td>\n",
       "      <td>0.621835</td>\n",
       "    </tr>\n",
       "    <tr>\n",
       "      <th>4</th>\n",
       "      <td>0.929314</td>\n",
       "      <td>0.993836</td>\n",
       "      <td>0.748688</td>\n",
       "      <td>0.414415</td>\n",
       "      <td>0.318291</td>\n",
       "    </tr>\n",
       "  </tbody>\n",
       "</table>\n",
       "</div>"
      ],
      "text/plain": [
       "          0         1         2         3         4\n",
       "0       765  0.992326  0.029421  0.405688  0.591369\n",
       "1  0.472891  0.937942  0.159810  0.810685  0.054391\n",
       "2  0.152944  0.616511  0.396288  0.438617  0.898269\n",
       "3  0.165207  0.528965  0.438421  0.608056  0.621835\n",
       "4  0.929314  0.993836  0.748688  0.414415  0.318291"
      ]
     },
     "execution_count": 122,
     "metadata": {},
     "output_type": "execute_result"
    }
   ],
   "source": [
    "newDf.head()"
   ]
  },
  {
   "cell_type": "code",
   "execution_count": 123,
   "id": "ed958ba1",
   "metadata": {},
   "outputs": [
    {
     "data": {
      "text/html": [
       "<div>\n",
       "<style scoped>\n",
       "    .dataframe tbody tr th:only-of-type {\n",
       "        vertical-align: middle;\n",
       "    }\n",
       "\n",
       "    .dataframe tbody tr th {\n",
       "        vertical-align: top;\n",
       "    }\n",
       "\n",
       "    .dataframe thead th {\n",
       "        text-align: right;\n",
       "    }\n",
       "</style>\n",
       "<table border=\"1\" class=\"dataframe\">\n",
       "  <thead>\n",
       "    <tr style=\"text-align: right;\">\n",
       "      <th></th>\n",
       "      <th>0</th>\n",
       "      <th>1</th>\n",
       "      <th>2</th>\n",
       "      <th>3</th>\n",
       "      <th>4</th>\n",
       "    </tr>\n",
       "  </thead>\n",
       "  <tbody>\n",
       "    <tr>\n",
       "      <th>0</th>\n",
       "      <td>765</td>\n",
       "      <td>0.992326</td>\n",
       "      <td>0.029421</td>\n",
       "      <td>0.405688</td>\n",
       "      <td>0.591369</td>\n",
       "    </tr>\n",
       "    <tr>\n",
       "      <th>1</th>\n",
       "      <td>0.472891</td>\n",
       "      <td>0.937942</td>\n",
       "      <td>0.159810</td>\n",
       "      <td>0.810685</td>\n",
       "      <td>0.054391</td>\n",
       "    </tr>\n",
       "    <tr>\n",
       "      <th>2</th>\n",
       "      <td>0.152944</td>\n",
       "      <td>0.616511</td>\n",
       "      <td>0.396288</td>\n",
       "      <td>0.438617</td>\n",
       "      <td>0.898269</td>\n",
       "    </tr>\n",
       "    <tr>\n",
       "      <th>3</th>\n",
       "      <td>0.165207</td>\n",
       "      <td>0.528965</td>\n",
       "      <td>0.438421</td>\n",
       "      <td>0.608056</td>\n",
       "      <td>0.621835</td>\n",
       "    </tr>\n",
       "    <tr>\n",
       "      <th>4</th>\n",
       "      <td>0.929314</td>\n",
       "      <td>0.993836</td>\n",
       "      <td>0.748688</td>\n",
       "      <td>0.414415</td>\n",
       "      <td>0.318291</td>\n",
       "    </tr>\n",
       "  </tbody>\n",
       "</table>\n",
       "</div>"
      ],
      "text/plain": [
       "          0         1         2         3         4\n",
       "0       765  0.992326  0.029421  0.405688  0.591369\n",
       "1  0.472891  0.937942  0.159810  0.810685  0.054391\n",
       "2  0.152944  0.616511  0.396288  0.438617  0.898269\n",
       "3  0.165207  0.528965  0.438421  0.608056  0.621835\n",
       "4  0.929314  0.993836  0.748688  0.414415  0.318291"
      ]
     },
     "execution_count": 123,
     "metadata": {},
     "output_type": "execute_result"
    }
   ],
   "source": [
    "newDfView.head()"
   ]
  },
  {
   "cell_type": "code",
   "execution_count": 124,
   "id": "8a4db7d6",
   "metadata": {},
   "outputs": [],
   "source": [
    "newDfCopy=newDf.copy()"
   ]
  },
  {
   "cell_type": "code",
   "execution_count": 125,
   "id": "3d02023a",
   "metadata": {},
   "outputs": [
    {
     "name": "stderr",
     "output_type": "stream",
     "text": [
      "C:\\Users\\HP\\AppData\\Local\\Temp\\ipykernel_10892\\2532441962.py:1: SettingWithCopyWarning: \n",
      "A value is trying to be set on a copy of a slice from a DataFrame\n",
      "\n",
      "See the caveats in the documentation: https://pandas.pydata.org/pandas-docs/stable/user_guide/indexing.html#returning-a-view-versus-a-copy\n",
      "  newDfCopy[0][0]=656\n"
     ]
    }
   ],
   "source": [
    "newDfCopy[0][0]=656"
   ]
  },
  {
   "cell_type": "code",
   "execution_count": 126,
   "id": "9f7309c6",
   "metadata": {},
   "outputs": [
    {
     "data": {
      "text/html": [
       "<div>\n",
       "<style scoped>\n",
       "    .dataframe tbody tr th:only-of-type {\n",
       "        vertical-align: middle;\n",
       "    }\n",
       "\n",
       "    .dataframe tbody tr th {\n",
       "        vertical-align: top;\n",
       "    }\n",
       "\n",
       "    .dataframe thead th {\n",
       "        text-align: right;\n",
       "    }\n",
       "</style>\n",
       "<table border=\"1\" class=\"dataframe\">\n",
       "  <thead>\n",
       "    <tr style=\"text-align: right;\">\n",
       "      <th></th>\n",
       "      <th>0</th>\n",
       "      <th>1</th>\n",
       "      <th>2</th>\n",
       "      <th>3</th>\n",
       "      <th>4</th>\n",
       "    </tr>\n",
       "  </thead>\n",
       "  <tbody>\n",
       "    <tr>\n",
       "      <th>0</th>\n",
       "      <td>765</td>\n",
       "      <td>0.992326</td>\n",
       "      <td>0.029421</td>\n",
       "      <td>0.405688</td>\n",
       "      <td>0.591369</td>\n",
       "    </tr>\n",
       "    <tr>\n",
       "      <th>1</th>\n",
       "      <td>0.472891</td>\n",
       "      <td>0.937942</td>\n",
       "      <td>0.159810</td>\n",
       "      <td>0.810685</td>\n",
       "      <td>0.054391</td>\n",
       "    </tr>\n",
       "    <tr>\n",
       "      <th>2</th>\n",
       "      <td>0.152944</td>\n",
       "      <td>0.616511</td>\n",
       "      <td>0.396288</td>\n",
       "      <td>0.438617</td>\n",
       "      <td>0.898269</td>\n",
       "    </tr>\n",
       "    <tr>\n",
       "      <th>3</th>\n",
       "      <td>0.165207</td>\n",
       "      <td>0.528965</td>\n",
       "      <td>0.438421</td>\n",
       "      <td>0.608056</td>\n",
       "      <td>0.621835</td>\n",
       "    </tr>\n",
       "    <tr>\n",
       "      <th>4</th>\n",
       "      <td>0.929314</td>\n",
       "      <td>0.993836</td>\n",
       "      <td>0.748688</td>\n",
       "      <td>0.414415</td>\n",
       "      <td>0.318291</td>\n",
       "    </tr>\n",
       "  </tbody>\n",
       "</table>\n",
       "</div>"
      ],
      "text/plain": [
       "          0         1         2         3         4\n",
       "0       765  0.992326  0.029421  0.405688  0.591369\n",
       "1  0.472891  0.937942  0.159810  0.810685  0.054391\n",
       "2  0.152944  0.616511  0.396288  0.438617  0.898269\n",
       "3  0.165207  0.528965  0.438421  0.608056  0.621835\n",
       "4  0.929314  0.993836  0.748688  0.414415  0.318291"
      ]
     },
     "execution_count": 126,
     "metadata": {},
     "output_type": "execute_result"
    }
   ],
   "source": [
    "newDf.head()"
   ]
  },
  {
   "cell_type": "code",
   "execution_count": 127,
   "id": "847240a3",
   "metadata": {},
   "outputs": [
    {
     "data": {
      "text/html": [
       "<div>\n",
       "<style scoped>\n",
       "    .dataframe tbody tr th:only-of-type {\n",
       "        vertical-align: middle;\n",
       "    }\n",
       "\n",
       "    .dataframe tbody tr th {\n",
       "        vertical-align: top;\n",
       "    }\n",
       "\n",
       "    .dataframe thead th {\n",
       "        text-align: right;\n",
       "    }\n",
       "</style>\n",
       "<table border=\"1\" class=\"dataframe\">\n",
       "  <thead>\n",
       "    <tr style=\"text-align: right;\">\n",
       "      <th></th>\n",
       "      <th>0</th>\n",
       "      <th>1</th>\n",
       "      <th>2</th>\n",
       "      <th>3</th>\n",
       "      <th>4</th>\n",
       "    </tr>\n",
       "  </thead>\n",
       "  <tbody>\n",
       "    <tr>\n",
       "      <th>0</th>\n",
       "      <td>656</td>\n",
       "      <td>0.992326</td>\n",
       "      <td>0.029421</td>\n",
       "      <td>0.405688</td>\n",
       "      <td>0.591369</td>\n",
       "    </tr>\n",
       "    <tr>\n",
       "      <th>1</th>\n",
       "      <td>0.472891</td>\n",
       "      <td>0.937942</td>\n",
       "      <td>0.159810</td>\n",
       "      <td>0.810685</td>\n",
       "      <td>0.054391</td>\n",
       "    </tr>\n",
       "    <tr>\n",
       "      <th>2</th>\n",
       "      <td>0.152944</td>\n",
       "      <td>0.616511</td>\n",
       "      <td>0.396288</td>\n",
       "      <td>0.438617</td>\n",
       "      <td>0.898269</td>\n",
       "    </tr>\n",
       "    <tr>\n",
       "      <th>3</th>\n",
       "      <td>0.165207</td>\n",
       "      <td>0.528965</td>\n",
       "      <td>0.438421</td>\n",
       "      <td>0.608056</td>\n",
       "      <td>0.621835</td>\n",
       "    </tr>\n",
       "    <tr>\n",
       "      <th>4</th>\n",
       "      <td>0.929314</td>\n",
       "      <td>0.993836</td>\n",
       "      <td>0.748688</td>\n",
       "      <td>0.414415</td>\n",
       "      <td>0.318291</td>\n",
       "    </tr>\n",
       "  </tbody>\n",
       "</table>\n",
       "</div>"
      ],
      "text/plain": [
       "          0         1         2         3         4\n",
       "0       656  0.992326  0.029421  0.405688  0.591369\n",
       "1  0.472891  0.937942  0.159810  0.810685  0.054391\n",
       "2  0.152944  0.616511  0.396288  0.438617  0.898269\n",
       "3  0.165207  0.528965  0.438421  0.608056  0.621835\n",
       "4  0.929314  0.993836  0.748688  0.414415  0.318291"
      ]
     },
     "execution_count": 127,
     "metadata": {},
     "output_type": "execute_result"
    }
   ],
   "source": [
    "newDfCopy.head()"
   ]
  },
  {
   "cell_type": "markdown",
   "id": "c4b27c61",
   "metadata": {},
   "source": [
    "## loc"
   ]
  },
  {
   "cell_type": "code",
   "execution_count": 128,
   "id": "d8e70dfb",
   "metadata": {},
   "outputs": [
    {
     "data": {
      "text/html": [
       "<div>\n",
       "<style scoped>\n",
       "    .dataframe tbody tr th:only-of-type {\n",
       "        vertical-align: middle;\n",
       "    }\n",
       "\n",
       "    .dataframe tbody tr th {\n",
       "        vertical-align: top;\n",
       "    }\n",
       "\n",
       "    .dataframe thead th {\n",
       "        text-align: right;\n",
       "    }\n",
       "</style>\n",
       "<table border=\"1\" class=\"dataframe\">\n",
       "  <thead>\n",
       "    <tr style=\"text-align: right;\">\n",
       "      <th></th>\n",
       "      <th>0</th>\n",
       "      <th>1</th>\n",
       "      <th>2</th>\n",
       "      <th>3</th>\n",
       "      <th>4</th>\n",
       "    </tr>\n",
       "  </thead>\n",
       "  <tbody>\n",
       "    <tr>\n",
       "      <th>0</th>\n",
       "      <td>765</td>\n",
       "      <td>0.992326</td>\n",
       "      <td>0.029421</td>\n",
       "      <td>0.405688</td>\n",
       "      <td>0.591369</td>\n",
       "    </tr>\n",
       "    <tr>\n",
       "      <th>1</th>\n",
       "      <td>0.472891</td>\n",
       "      <td>0.937942</td>\n",
       "      <td>0.159810</td>\n",
       "      <td>0.810685</td>\n",
       "      <td>0.054391</td>\n",
       "    </tr>\n",
       "  </tbody>\n",
       "</table>\n",
       "</div>"
      ],
      "text/plain": [
       "          0         1         2         3         4\n",
       "0       765  0.992326  0.029421  0.405688  0.591369\n",
       "1  0.472891  0.937942  0.159810  0.810685  0.054391"
      ]
     },
     "execution_count": 128,
     "metadata": {},
     "output_type": "execute_result"
    }
   ],
   "source": [
    "newDf.head(2)"
   ]
  },
  {
   "cell_type": "code",
   "execution_count": 129,
   "id": "d68dbaa6",
   "metadata": {},
   "outputs": [
    {
     "data": {
      "text/plain": [
       "765"
      ]
     },
     "execution_count": 129,
     "metadata": {},
     "output_type": "execute_result"
    }
   ],
   "source": [
    "newDf.loc[0,0]"
   ]
  },
  {
   "cell_type": "code",
   "execution_count": 130,
   "id": "ffdddeae",
   "metadata": {},
   "outputs": [],
   "source": [
    "newDf.loc[0,0]=5678"
   ]
  },
  {
   "cell_type": "code",
   "execution_count": 131,
   "id": "79abae20",
   "metadata": {},
   "outputs": [
    {
     "data": {
      "text/html": [
       "<div>\n",
       "<style scoped>\n",
       "    .dataframe tbody tr th:only-of-type {\n",
       "        vertical-align: middle;\n",
       "    }\n",
       "\n",
       "    .dataframe tbody tr th {\n",
       "        vertical-align: top;\n",
       "    }\n",
       "\n",
       "    .dataframe thead th {\n",
       "        text-align: right;\n",
       "    }\n",
       "</style>\n",
       "<table border=\"1\" class=\"dataframe\">\n",
       "  <thead>\n",
       "    <tr style=\"text-align: right;\">\n",
       "      <th></th>\n",
       "      <th>0</th>\n",
       "      <th>1</th>\n",
       "      <th>2</th>\n",
       "      <th>3</th>\n",
       "      <th>4</th>\n",
       "    </tr>\n",
       "  </thead>\n",
       "  <tbody>\n",
       "    <tr>\n",
       "      <th>0</th>\n",
       "      <td>5678</td>\n",
       "      <td>0.992326</td>\n",
       "      <td>0.029421</td>\n",
       "      <td>0.405688</td>\n",
       "      <td>0.591369</td>\n",
       "    </tr>\n",
       "    <tr>\n",
       "      <th>1</th>\n",
       "      <td>0.472891</td>\n",
       "      <td>0.937942</td>\n",
       "      <td>0.159810</td>\n",
       "      <td>0.810685</td>\n",
       "      <td>0.054391</td>\n",
       "    </tr>\n",
       "  </tbody>\n",
       "</table>\n",
       "</div>"
      ],
      "text/plain": [
       "          0         1         2         3         4\n",
       "0      5678  0.992326  0.029421  0.405688  0.591369\n",
       "1  0.472891  0.937942  0.159810  0.810685  0.054391"
      ]
     },
     "execution_count": 131,
     "metadata": {},
     "output_type": "execute_result"
    }
   ],
   "source": [
    "newDf.head(2)"
   ]
  },
  {
   "cell_type": "code",
   "execution_count": 132,
   "id": "365d11dd",
   "metadata": {},
   "outputs": [
    {
     "data": {
      "text/plain": [
       "0.5913694342372785"
      ]
     },
     "execution_count": 132,
     "metadata": {},
     "output_type": "execute_result"
    }
   ],
   "source": [
    "newDf.loc[0,4]"
   ]
  },
  {
   "cell_type": "code",
   "execution_count": 133,
   "id": "691e63fb",
   "metadata": {},
   "outputs": [
    {
     "data": {
      "text/plain": [
       "0.17087730222900788"
      ]
     },
     "execution_count": 133,
     "metadata": {},
     "output_type": "execute_result"
    }
   ],
   "source": [
    "newDf.loc[325,1]"
   ]
  },
  {
   "cell_type": "code",
   "execution_count": 134,
   "id": "59d5b12e",
   "metadata": {},
   "outputs": [],
   "source": [
    "newDf.loc[0,0]=9875"
   ]
  },
  {
   "cell_type": "code",
   "execution_count": 135,
   "id": "38793742",
   "metadata": {},
   "outputs": [
    {
     "data": {
      "text/html": [
       "<div>\n",
       "<style scoped>\n",
       "    .dataframe tbody tr th:only-of-type {\n",
       "        vertical-align: middle;\n",
       "    }\n",
       "\n",
       "    .dataframe tbody tr th {\n",
       "        vertical-align: top;\n",
       "    }\n",
       "\n",
       "    .dataframe thead th {\n",
       "        text-align: right;\n",
       "    }\n",
       "</style>\n",
       "<table border=\"1\" class=\"dataframe\">\n",
       "  <thead>\n",
       "    <tr style=\"text-align: right;\">\n",
       "      <th></th>\n",
       "      <th>0</th>\n",
       "      <th>1</th>\n",
       "      <th>2</th>\n",
       "      <th>3</th>\n",
       "      <th>4</th>\n",
       "    </tr>\n",
       "  </thead>\n",
       "  <tbody>\n",
       "    <tr>\n",
       "      <th>0</th>\n",
       "      <td>9875</td>\n",
       "      <td>0.992326</td>\n",
       "      <td>0.029421</td>\n",
       "      <td>0.405688</td>\n",
       "      <td>0.591369</td>\n",
       "    </tr>\n",
       "    <tr>\n",
       "      <th>1</th>\n",
       "      <td>0.472891</td>\n",
       "      <td>0.937942</td>\n",
       "      <td>0.159810</td>\n",
       "      <td>0.810685</td>\n",
       "      <td>0.054391</td>\n",
       "    </tr>\n",
       "  </tbody>\n",
       "</table>\n",
       "</div>"
      ],
      "text/plain": [
       "          0         1         2         3         4\n",
       "0      9875  0.992326  0.029421  0.405688  0.591369\n",
       "1  0.472891  0.937942  0.159810  0.810685  0.054391"
      ]
     },
     "execution_count": 135,
     "metadata": {},
     "output_type": "execute_result"
    }
   ],
   "source": [
    "newDf.head(2)"
   ]
  },
  {
   "cell_type": "code",
   "execution_count": 136,
   "id": "af9d496c",
   "metadata": {},
   "outputs": [],
   "source": [
    "newDf.columns=list(\"ABCDE\")"
   ]
  },
  {
   "cell_type": "code",
   "execution_count": 137,
   "id": "3108ef47",
   "metadata": {},
   "outputs": [
    {
     "data": {
      "text/html": [
       "<div>\n",
       "<style scoped>\n",
       "    .dataframe tbody tr th:only-of-type {\n",
       "        vertical-align: middle;\n",
       "    }\n",
       "\n",
       "    .dataframe tbody tr th {\n",
       "        vertical-align: top;\n",
       "    }\n",
       "\n",
       "    .dataframe thead th {\n",
       "        text-align: right;\n",
       "    }\n",
       "</style>\n",
       "<table border=\"1\" class=\"dataframe\">\n",
       "  <thead>\n",
       "    <tr style=\"text-align: right;\">\n",
       "      <th></th>\n",
       "      <th>A</th>\n",
       "      <th>B</th>\n",
       "      <th>C</th>\n",
       "      <th>D</th>\n",
       "      <th>E</th>\n",
       "    </tr>\n",
       "  </thead>\n",
       "  <tbody>\n",
       "    <tr>\n",
       "      <th>0</th>\n",
       "      <td>9875</td>\n",
       "      <td>0.992326</td>\n",
       "      <td>0.029421</td>\n",
       "      <td>0.405688</td>\n",
       "      <td>0.591369</td>\n",
       "    </tr>\n",
       "    <tr>\n",
       "      <th>1</th>\n",
       "      <td>0.472891</td>\n",
       "      <td>0.937942</td>\n",
       "      <td>0.159810</td>\n",
       "      <td>0.810685</td>\n",
       "      <td>0.054391</td>\n",
       "    </tr>\n",
       "    <tr>\n",
       "      <th>2</th>\n",
       "      <td>0.152944</td>\n",
       "      <td>0.616511</td>\n",
       "      <td>0.396288</td>\n",
       "      <td>0.438617</td>\n",
       "      <td>0.898269</td>\n",
       "    </tr>\n",
       "  </tbody>\n",
       "</table>\n",
       "</div>"
      ],
      "text/plain": [
       "          A         B         C         D         E\n",
       "0      9875  0.992326  0.029421  0.405688  0.591369\n",
       "1  0.472891  0.937942  0.159810  0.810685  0.054391\n",
       "2  0.152944  0.616511  0.396288  0.438617  0.898269"
      ]
     },
     "execution_count": 137,
     "metadata": {},
     "output_type": "execute_result"
    }
   ],
   "source": [
    "newDf.head(3)"
   ]
  },
  {
   "cell_type": "code",
   "execution_count": 138,
   "id": "e88d3c68",
   "metadata": {},
   "outputs": [
    {
     "data": {
      "text/plain": [
       "9875"
      ]
     },
     "execution_count": 138,
     "metadata": {},
     "output_type": "execute_result"
    }
   ],
   "source": [
    "newDf.loc[0, \"A\"]"
   ]
  },
  {
   "cell_type": "code",
   "execution_count": 139,
   "id": "b81116b9",
   "metadata": {},
   "outputs": [],
   "source": [
    "newDf.loc[0,\"A\"]=65"
   ]
  },
  {
   "cell_type": "code",
   "execution_count": 140,
   "id": "55f459c8",
   "metadata": {},
   "outputs": [
    {
     "data": {
      "text/html": [
       "<div>\n",
       "<style scoped>\n",
       "    .dataframe tbody tr th:only-of-type {\n",
       "        vertical-align: middle;\n",
       "    }\n",
       "\n",
       "    .dataframe tbody tr th {\n",
       "        vertical-align: top;\n",
       "    }\n",
       "\n",
       "    .dataframe thead th {\n",
       "        text-align: right;\n",
       "    }\n",
       "</style>\n",
       "<table border=\"1\" class=\"dataframe\">\n",
       "  <thead>\n",
       "    <tr style=\"text-align: right;\">\n",
       "      <th></th>\n",
       "      <th>A</th>\n",
       "      <th>B</th>\n",
       "      <th>C</th>\n",
       "      <th>D</th>\n",
       "      <th>E</th>\n",
       "    </tr>\n",
       "  </thead>\n",
       "  <tbody>\n",
       "    <tr>\n",
       "      <th>0</th>\n",
       "      <td>65</td>\n",
       "      <td>0.992326</td>\n",
       "      <td>0.029421</td>\n",
       "      <td>0.405688</td>\n",
       "      <td>0.591369</td>\n",
       "    </tr>\n",
       "    <tr>\n",
       "      <th>1</th>\n",
       "      <td>0.472891</td>\n",
       "      <td>0.937942</td>\n",
       "      <td>0.159810</td>\n",
       "      <td>0.810685</td>\n",
       "      <td>0.054391</td>\n",
       "    </tr>\n",
       "    <tr>\n",
       "      <th>2</th>\n",
       "      <td>0.152944</td>\n",
       "      <td>0.616511</td>\n",
       "      <td>0.396288</td>\n",
       "      <td>0.438617</td>\n",
       "      <td>0.898269</td>\n",
       "    </tr>\n",
       "  </tbody>\n",
       "</table>\n",
       "</div>"
      ],
      "text/plain": [
       "          A         B         C         D         E\n",
       "0        65  0.992326  0.029421  0.405688  0.591369\n",
       "1  0.472891  0.937942  0.159810  0.810685  0.054391\n",
       "2  0.152944  0.616511  0.396288  0.438617  0.898269"
      ]
     },
     "execution_count": 140,
     "metadata": {},
     "output_type": "execute_result"
    }
   ],
   "source": [
    "newDf.head(3)"
   ]
  },
  {
   "cell_type": "code",
   "execution_count": 141,
   "id": "ab8cb077",
   "metadata": {},
   "outputs": [
    {
     "data": {
      "text/plain": [
       "0.34404651840383504"
      ]
     },
     "execution_count": 141,
     "metadata": {},
     "output_type": "execute_result"
    }
   ],
   "source": [
    "newDf.loc[35,\"A\"]"
   ]
  },
  {
   "cell_type": "code",
   "execution_count": 142,
   "id": "2f5d394a",
   "metadata": {},
   "outputs": [
    {
     "data": {
      "text/html": [
       "<div>\n",
       "<style scoped>\n",
       "    .dataframe tbody tr th:only-of-type {\n",
       "        vertical-align: middle;\n",
       "    }\n",
       "\n",
       "    .dataframe tbody tr th {\n",
       "        vertical-align: top;\n",
       "    }\n",
       "\n",
       "    .dataframe thead th {\n",
       "        text-align: right;\n",
       "    }\n",
       "</style>\n",
       "<table border=\"1\" class=\"dataframe\">\n",
       "  <thead>\n",
       "    <tr style=\"text-align: right;\">\n",
       "      <th></th>\n",
       "      <th>A</th>\n",
       "      <th>B</th>\n",
       "      <th>C</th>\n",
       "      <th>D</th>\n",
       "      <th>E</th>\n",
       "    </tr>\n",
       "  </thead>\n",
       "  <tbody>\n",
       "    <tr>\n",
       "      <th>1</th>\n",
       "      <td>0.472891</td>\n",
       "      <td>0.937942</td>\n",
       "      <td>0.159810</td>\n",
       "      <td>0.810685</td>\n",
       "      <td>0.054391</td>\n",
       "    </tr>\n",
       "    <tr>\n",
       "      <th>2</th>\n",
       "      <td>0.152944</td>\n",
       "      <td>0.616511</td>\n",
       "      <td>0.396288</td>\n",
       "      <td>0.438617</td>\n",
       "      <td>0.898269</td>\n",
       "    </tr>\n",
       "    <tr>\n",
       "      <th>3</th>\n",
       "      <td>0.165207</td>\n",
       "      <td>0.528965</td>\n",
       "      <td>0.438421</td>\n",
       "      <td>0.608056</td>\n",
       "      <td>0.621835</td>\n",
       "    </tr>\n",
       "  </tbody>\n",
       "</table>\n",
       "</div>"
      ],
      "text/plain": [
       "          A         B         C         D         E\n",
       "1  0.472891  0.937942  0.159810  0.810685  0.054391\n",
       "2  0.152944  0.616511  0.396288  0.438617  0.898269\n",
       "3  0.165207  0.528965  0.438421  0.608056  0.621835"
      ]
     },
     "execution_count": 142,
     "metadata": {},
     "output_type": "execute_result"
    }
   ],
   "source": [
    "newDf.drop(0, axis=0).head(3)"
   ]
  },
  {
   "cell_type": "code",
   "execution_count": 143,
   "id": "70aaad33",
   "metadata": {},
   "outputs": [
    {
     "data": {
      "text/html": [
       "<div>\n",
       "<style scoped>\n",
       "    .dataframe tbody tr th:only-of-type {\n",
       "        vertical-align: middle;\n",
       "    }\n",
       "\n",
       "    .dataframe tbody tr th {\n",
       "        vertical-align: top;\n",
       "    }\n",
       "\n",
       "    .dataframe thead th {\n",
       "        text-align: right;\n",
       "    }\n",
       "</style>\n",
       "<table border=\"1\" class=\"dataframe\">\n",
       "  <thead>\n",
       "    <tr style=\"text-align: right;\">\n",
       "      <th></th>\n",
       "      <th>B</th>\n",
       "      <th>C</th>\n",
       "      <th>D</th>\n",
       "      <th>E</th>\n",
       "    </tr>\n",
       "  </thead>\n",
       "  <tbody>\n",
       "    <tr>\n",
       "      <th>0</th>\n",
       "      <td>0.992326</td>\n",
       "      <td>0.029421</td>\n",
       "      <td>0.405688</td>\n",
       "      <td>0.591369</td>\n",
       "    </tr>\n",
       "    <tr>\n",
       "      <th>1</th>\n",
       "      <td>0.937942</td>\n",
       "      <td>0.159810</td>\n",
       "      <td>0.810685</td>\n",
       "      <td>0.054391</td>\n",
       "    </tr>\n",
       "    <tr>\n",
       "      <th>2</th>\n",
       "      <td>0.616511</td>\n",
       "      <td>0.396288</td>\n",
       "      <td>0.438617</td>\n",
       "      <td>0.898269</td>\n",
       "    </tr>\n",
       "  </tbody>\n",
       "</table>\n",
       "</div>"
      ],
      "text/plain": [
       "          B         C         D         E\n",
       "0  0.992326  0.029421  0.405688  0.591369\n",
       "1  0.937942  0.159810  0.810685  0.054391\n",
       "2  0.616511  0.396288  0.438617  0.898269"
      ]
     },
     "execution_count": 143,
     "metadata": {},
     "output_type": "execute_result"
    }
   ],
   "source": [
    "newDf.drop(\"A\", axis=1).head(3)"
   ]
  },
  {
   "cell_type": "code",
   "execution_count": 144,
   "id": "32e550e5",
   "metadata": {},
   "outputs": [
    {
     "data": {
      "text/html": [
       "<div>\n",
       "<style scoped>\n",
       "    .dataframe tbody tr th:only-of-type {\n",
       "        vertical-align: middle;\n",
       "    }\n",
       "\n",
       "    .dataframe tbody tr th {\n",
       "        vertical-align: top;\n",
       "    }\n",
       "\n",
       "    .dataframe thead th {\n",
       "        text-align: right;\n",
       "    }\n",
       "</style>\n",
       "<table border=\"1\" class=\"dataframe\">\n",
       "  <thead>\n",
       "    <tr style=\"text-align: right;\">\n",
       "      <th></th>\n",
       "      <th>A</th>\n",
       "      <th>B</th>\n",
       "      <th>C</th>\n",
       "      <th>D</th>\n",
       "      <th>E</th>\n",
       "    </tr>\n",
       "  </thead>\n",
       "  <tbody>\n",
       "    <tr>\n",
       "      <th>0</th>\n",
       "      <td>65</td>\n",
       "      <td>0.992326</td>\n",
       "      <td>0.029421</td>\n",
       "      <td>0.405688</td>\n",
       "      <td>0.591369</td>\n",
       "    </tr>\n",
       "    <tr>\n",
       "      <th>1</th>\n",
       "      <td>0.472891</td>\n",
       "      <td>0.937942</td>\n",
       "      <td>0.159810</td>\n",
       "      <td>0.810685</td>\n",
       "      <td>0.054391</td>\n",
       "    </tr>\n",
       "    <tr>\n",
       "      <th>2</th>\n",
       "      <td>0.152944</td>\n",
       "      <td>0.616511</td>\n",
       "      <td>0.396288</td>\n",
       "      <td>0.438617</td>\n",
       "      <td>0.898269</td>\n",
       "    </tr>\n",
       "  </tbody>\n",
       "</table>\n",
       "</div>"
      ],
      "text/plain": [
       "          A         B         C         D         E\n",
       "0        65  0.992326  0.029421  0.405688  0.591369\n",
       "1  0.472891  0.937942  0.159810  0.810685  0.054391\n",
       "2  0.152944  0.616511  0.396288  0.438617  0.898269"
      ]
     },
     "execution_count": 144,
     "metadata": {},
     "output_type": "execute_result"
    }
   ],
   "source": [
    "newDf.head(3)"
   ]
  },
  {
   "cell_type": "code",
   "execution_count": 145,
   "id": "64c80c34",
   "metadata": {},
   "outputs": [],
   "source": [
    "newDf = newDf.drop(\"A\", axis=1)"
   ]
  },
  {
   "cell_type": "code",
   "execution_count": 146,
   "id": "a6da5d77",
   "metadata": {},
   "outputs": [
    {
     "data": {
      "text/html": [
       "<div>\n",
       "<style scoped>\n",
       "    .dataframe tbody tr th:only-of-type {\n",
       "        vertical-align: middle;\n",
       "    }\n",
       "\n",
       "    .dataframe tbody tr th {\n",
       "        vertical-align: top;\n",
       "    }\n",
       "\n",
       "    .dataframe thead th {\n",
       "        text-align: right;\n",
       "    }\n",
       "</style>\n",
       "<table border=\"1\" class=\"dataframe\">\n",
       "  <thead>\n",
       "    <tr style=\"text-align: right;\">\n",
       "      <th></th>\n",
       "      <th>B</th>\n",
       "      <th>C</th>\n",
       "      <th>D</th>\n",
       "      <th>E</th>\n",
       "    </tr>\n",
       "  </thead>\n",
       "  <tbody>\n",
       "    <tr>\n",
       "      <th>0</th>\n",
       "      <td>0.992326</td>\n",
       "      <td>0.029421</td>\n",
       "      <td>0.405688</td>\n",
       "      <td>0.591369</td>\n",
       "    </tr>\n",
       "    <tr>\n",
       "      <th>1</th>\n",
       "      <td>0.937942</td>\n",
       "      <td>0.159810</td>\n",
       "      <td>0.810685</td>\n",
       "      <td>0.054391</td>\n",
       "    </tr>\n",
       "    <tr>\n",
       "      <th>2</th>\n",
       "      <td>0.616511</td>\n",
       "      <td>0.396288</td>\n",
       "      <td>0.438617</td>\n",
       "      <td>0.898269</td>\n",
       "    </tr>\n",
       "  </tbody>\n",
       "</table>\n",
       "</div>"
      ],
      "text/plain": [
       "          B         C         D         E\n",
       "0  0.992326  0.029421  0.405688  0.591369\n",
       "1  0.937942  0.159810  0.810685  0.054391\n",
       "2  0.616511  0.396288  0.438617  0.898269"
      ]
     },
     "execution_count": 146,
     "metadata": {},
     "output_type": "execute_result"
    }
   ],
   "source": [
    "newDf.head(3)"
   ]
  },
  {
   "cell_type": "code",
   "execution_count": 147,
   "id": "c9e744c9",
   "metadata": {},
   "outputs": [
    {
     "data": {
      "text/html": [
       "<div>\n",
       "<style scoped>\n",
       "    .dataframe tbody tr th:only-of-type {\n",
       "        vertical-align: middle;\n",
       "    }\n",
       "\n",
       "    .dataframe tbody tr th {\n",
       "        vertical-align: top;\n",
       "    }\n",
       "\n",
       "    .dataframe thead th {\n",
       "        text-align: right;\n",
       "    }\n",
       "</style>\n",
       "<table border=\"1\" class=\"dataframe\">\n",
       "  <thead>\n",
       "    <tr style=\"text-align: right;\">\n",
       "      <th></th>\n",
       "      <th>C</th>\n",
       "      <th>D</th>\n",
       "    </tr>\n",
       "  </thead>\n",
       "  <tbody>\n",
       "    <tr>\n",
       "      <th>1</th>\n",
       "      <td>0.159810</td>\n",
       "      <td>0.810685</td>\n",
       "    </tr>\n",
       "    <tr>\n",
       "      <th>2</th>\n",
       "      <td>0.396288</td>\n",
       "      <td>0.438617</td>\n",
       "    </tr>\n",
       "  </tbody>\n",
       "</table>\n",
       "</div>"
      ],
      "text/plain": [
       "          C         D\n",
       "1  0.159810  0.810685\n",
       "2  0.396288  0.438617"
      ]
     },
     "execution_count": 147,
     "metadata": {},
     "output_type": "execute_result"
    }
   ],
   "source": [
    "newDf.loc[[1,2],[\"C\",\"D\"]]"
   ]
  },
  {
   "cell_type": "code",
   "execution_count": 148,
   "id": "271d2c5f",
   "metadata": {},
   "outputs": [
    {
     "data": {
      "text/html": [
       "<div>\n",
       "<style scoped>\n",
       "    .dataframe tbody tr th:only-of-type {\n",
       "        vertical-align: middle;\n",
       "    }\n",
       "\n",
       "    .dataframe tbody tr th {\n",
       "        vertical-align: top;\n",
       "    }\n",
       "\n",
       "    .dataframe thead th {\n",
       "        text-align: right;\n",
       "    }\n",
       "</style>\n",
       "<table border=\"1\" class=\"dataframe\">\n",
       "  <thead>\n",
       "    <tr style=\"text-align: right;\">\n",
       "      <th></th>\n",
       "      <th>B</th>\n",
       "      <th>C</th>\n",
       "      <th>D</th>\n",
       "      <th>E</th>\n",
       "    </tr>\n",
       "  </thead>\n",
       "  <tbody>\n",
       "    <tr>\n",
       "      <th>0</th>\n",
       "      <td>0.992326</td>\n",
       "      <td>0.029421</td>\n",
       "      <td>0.405688</td>\n",
       "      <td>0.591369</td>\n",
       "    </tr>\n",
       "    <tr>\n",
       "      <th>1</th>\n",
       "      <td>0.937942</td>\n",
       "      <td>0.159810</td>\n",
       "      <td>0.810685</td>\n",
       "      <td>0.054391</td>\n",
       "    </tr>\n",
       "    <tr>\n",
       "      <th>2</th>\n",
       "      <td>0.616511</td>\n",
       "      <td>0.396288</td>\n",
       "      <td>0.438617</td>\n",
       "      <td>0.898269</td>\n",
       "    </tr>\n",
       "  </tbody>\n",
       "</table>\n",
       "</div>"
      ],
      "text/plain": [
       "          B         C         D         E\n",
       "0  0.992326  0.029421  0.405688  0.591369\n",
       "1  0.937942  0.159810  0.810685  0.054391\n",
       "2  0.616511  0.396288  0.438617  0.898269"
      ]
     },
     "execution_count": 148,
     "metadata": {},
     "output_type": "execute_result"
    }
   ],
   "source": [
    "newDf.head(3)"
   ]
  },
  {
   "cell_type": "code",
   "execution_count": 149,
   "id": "a79acb5b",
   "metadata": {},
   "outputs": [
    {
     "data": {
      "text/html": [
       "<div>\n",
       "<style scoped>\n",
       "    .dataframe tbody tr th:only-of-type {\n",
       "        vertical-align: middle;\n",
       "    }\n",
       "\n",
       "    .dataframe tbody tr th {\n",
       "        vertical-align: top;\n",
       "    }\n",
       "\n",
       "    .dataframe thead th {\n",
       "        text-align: right;\n",
       "    }\n",
       "</style>\n",
       "<table border=\"1\" class=\"dataframe\">\n",
       "  <thead>\n",
       "    <tr style=\"text-align: right;\">\n",
       "      <th></th>\n",
       "      <th>C</th>\n",
       "      <th>D</th>\n",
       "    </tr>\n",
       "  </thead>\n",
       "  <tbody>\n",
       "    <tr>\n",
       "      <th>0</th>\n",
       "      <td>0.029421</td>\n",
       "      <td>0.405688</td>\n",
       "    </tr>\n",
       "    <tr>\n",
       "      <th>1</th>\n",
       "      <td>0.159810</td>\n",
       "      <td>0.810685</td>\n",
       "    </tr>\n",
       "    <tr>\n",
       "      <th>2</th>\n",
       "      <td>0.396288</td>\n",
       "      <td>0.438617</td>\n",
       "    </tr>\n",
       "    <tr>\n",
       "      <th>3</th>\n",
       "      <td>0.438421</td>\n",
       "      <td>0.608056</td>\n",
       "    </tr>\n",
       "    <tr>\n",
       "      <th>4</th>\n",
       "      <td>0.748688</td>\n",
       "      <td>0.414415</td>\n",
       "    </tr>\n",
       "    <tr>\n",
       "      <th>...</th>\n",
       "      <td>...</td>\n",
       "      <td>...</td>\n",
       "    </tr>\n",
       "    <tr>\n",
       "      <th>325</th>\n",
       "      <td>0.510583</td>\n",
       "      <td>0.102239</td>\n",
       "    </tr>\n",
       "    <tr>\n",
       "      <th>326</th>\n",
       "      <td>0.922017</td>\n",
       "      <td>0.109421</td>\n",
       "    </tr>\n",
       "    <tr>\n",
       "      <th>327</th>\n",
       "      <td>0.872122</td>\n",
       "      <td>0.080016</td>\n",
       "    </tr>\n",
       "    <tr>\n",
       "      <th>328</th>\n",
       "      <td>0.886492</td>\n",
       "      <td>0.942696</td>\n",
       "    </tr>\n",
       "    <tr>\n",
       "      <th>329</th>\n",
       "      <td>0.133443</td>\n",
       "      <td>0.873607</td>\n",
       "    </tr>\n",
       "  </tbody>\n",
       "</table>\n",
       "<p>330 rows × 2 columns</p>\n",
       "</div>"
      ],
      "text/plain": [
       "            C         D\n",
       "0    0.029421  0.405688\n",
       "1    0.159810  0.810685\n",
       "2    0.396288  0.438617\n",
       "3    0.438421  0.608056\n",
       "4    0.748688  0.414415\n",
       "..        ...       ...\n",
       "325  0.510583  0.102239\n",
       "326  0.922017  0.109421\n",
       "327  0.872122  0.080016\n",
       "328  0.886492  0.942696\n",
       "329  0.133443  0.873607\n",
       "\n",
       "[330 rows x 2 columns]"
      ]
     },
     "execution_count": 149,
     "metadata": {},
     "output_type": "execute_result"
    }
   ],
   "source": [
    "newDf.loc[:,[\"C\",\"D\"]]"
   ]
  },
  {
   "cell_type": "code",
   "execution_count": 150,
   "id": "c9ea4f63",
   "metadata": {},
   "outputs": [
    {
     "data": {
      "text/html": [
       "<div>\n",
       "<style scoped>\n",
       "    .dataframe tbody tr th:only-of-type {\n",
       "        vertical-align: middle;\n",
       "    }\n",
       "\n",
       "    .dataframe tbody tr th {\n",
       "        vertical-align: top;\n",
       "    }\n",
       "\n",
       "    .dataframe thead th {\n",
       "        text-align: right;\n",
       "    }\n",
       "</style>\n",
       "<table border=\"1\" class=\"dataframe\">\n",
       "  <thead>\n",
       "    <tr style=\"text-align: right;\">\n",
       "      <th></th>\n",
       "      <th>B</th>\n",
       "      <th>C</th>\n",
       "      <th>D</th>\n",
       "      <th>E</th>\n",
       "    </tr>\n",
       "  </thead>\n",
       "  <tbody>\n",
       "    <tr>\n",
       "      <th>1</th>\n",
       "      <td>0.937942</td>\n",
       "      <td>0.159810</td>\n",
       "      <td>0.810685</td>\n",
       "      <td>0.054391</td>\n",
       "    </tr>\n",
       "    <tr>\n",
       "      <th>2</th>\n",
       "      <td>0.616511</td>\n",
       "      <td>0.396288</td>\n",
       "      <td>0.438617</td>\n",
       "      <td>0.898269</td>\n",
       "    </tr>\n",
       "  </tbody>\n",
       "</table>\n",
       "</div>"
      ],
      "text/plain": [
       "          B         C         D         E\n",
       "1  0.937942  0.159810  0.810685  0.054391\n",
       "2  0.616511  0.396288  0.438617  0.898269"
      ]
     },
     "execution_count": 150,
     "metadata": {},
     "output_type": "execute_result"
    }
   ],
   "source": [
    "newDf.loc[[1,2],:]"
   ]
  },
  {
   "cell_type": "code",
   "execution_count": 151,
   "id": "bb39e71e",
   "metadata": {},
   "outputs": [
    {
     "data": {
      "text/html": [
       "<div>\n",
       "<style scoped>\n",
       "    .dataframe tbody tr th:only-of-type {\n",
       "        vertical-align: middle;\n",
       "    }\n",
       "\n",
       "    .dataframe tbody tr th {\n",
       "        vertical-align: top;\n",
       "    }\n",
       "\n",
       "    .dataframe thead th {\n",
       "        text-align: right;\n",
       "    }\n",
       "</style>\n",
       "<table border=\"1\" class=\"dataframe\">\n",
       "  <thead>\n",
       "    <tr style=\"text-align: right;\">\n",
       "      <th></th>\n",
       "      <th>C</th>\n",
       "      <th>D</th>\n",
       "    </tr>\n",
       "  </thead>\n",
       "  <tbody>\n",
       "    <tr>\n",
       "      <th>0</th>\n",
       "      <td>0.029421</td>\n",
       "      <td>0.405688</td>\n",
       "    </tr>\n",
       "    <tr>\n",
       "      <th>1</th>\n",
       "      <td>0.159810</td>\n",
       "      <td>0.810685</td>\n",
       "    </tr>\n",
       "    <tr>\n",
       "      <th>2</th>\n",
       "      <td>0.396288</td>\n",
       "      <td>0.438617</td>\n",
       "    </tr>\n",
       "    <tr>\n",
       "      <th>3</th>\n",
       "      <td>0.438421</td>\n",
       "      <td>0.608056</td>\n",
       "    </tr>\n",
       "    <tr>\n",
       "      <th>4</th>\n",
       "      <td>0.748688</td>\n",
       "      <td>0.414415</td>\n",
       "    </tr>\n",
       "    <tr>\n",
       "      <th>5</th>\n",
       "      <td>0.585854</td>\n",
       "      <td>0.375922</td>\n",
       "    </tr>\n",
       "  </tbody>\n",
       "</table>\n",
       "</div>"
      ],
      "text/plain": [
       "          C         D\n",
       "0  0.029421  0.405688\n",
       "1  0.159810  0.810685\n",
       "2  0.396288  0.438617\n",
       "3  0.438421  0.608056\n",
       "4  0.748688  0.414415\n",
       "5  0.585854  0.375922"
      ]
     },
     "execution_count": 151,
     "metadata": {},
     "output_type": "execute_result"
    }
   ],
   "source": [
    "newDf.loc[:5,[\"C\",\"D\"]]"
   ]
  },
  {
   "cell_type": "code",
   "execution_count": 152,
   "id": "d9d9ff21",
   "metadata": {},
   "outputs": [
    {
     "data": {
      "text/html": [
       "<div>\n",
       "<style scoped>\n",
       "    .dataframe tbody tr th:only-of-type {\n",
       "        vertical-align: middle;\n",
       "    }\n",
       "\n",
       "    .dataframe tbody tr th {\n",
       "        vertical-align: top;\n",
       "    }\n",
       "\n",
       "    .dataframe thead th {\n",
       "        text-align: right;\n",
       "    }\n",
       "</style>\n",
       "<table border=\"1\" class=\"dataframe\">\n",
       "  <thead>\n",
       "    <tr style=\"text-align: right;\">\n",
       "      <th></th>\n",
       "      <th>B</th>\n",
       "      <th>C</th>\n",
       "      <th>D</th>\n",
       "    </tr>\n",
       "  </thead>\n",
       "  <tbody>\n",
       "    <tr>\n",
       "      <th>1</th>\n",
       "      <td>0.937942</td>\n",
       "      <td>0.159810</td>\n",
       "      <td>0.810685</td>\n",
       "    </tr>\n",
       "    <tr>\n",
       "      <th>2</th>\n",
       "      <td>0.616511</td>\n",
       "      <td>0.396288</td>\n",
       "      <td>0.438617</td>\n",
       "    </tr>\n",
       "  </tbody>\n",
       "</table>\n",
       "</div>"
      ],
      "text/plain": [
       "          B         C         D\n",
       "1  0.937942  0.159810  0.810685\n",
       "2  0.616511  0.396288  0.438617"
      ]
     },
     "execution_count": 152,
     "metadata": {},
     "output_type": "execute_result"
    }
   ],
   "source": [
    "newDf.loc[[1,2],:\"D\"]"
   ]
  },
  {
   "cell_type": "code",
   "execution_count": 153,
   "id": "54ca80c5",
   "metadata": {},
   "outputs": [
    {
     "data": {
      "text/html": [
       "<div>\n",
       "<style scoped>\n",
       "    .dataframe tbody tr th:only-of-type {\n",
       "        vertical-align: middle;\n",
       "    }\n",
       "\n",
       "    .dataframe tbody tr th {\n",
       "        vertical-align: top;\n",
       "    }\n",
       "\n",
       "    .dataframe thead th {\n",
       "        text-align: right;\n",
       "    }\n",
       "</style>\n",
       "<table border=\"1\" class=\"dataframe\">\n",
       "  <thead>\n",
       "    <tr style=\"text-align: right;\">\n",
       "      <th></th>\n",
       "      <th>B</th>\n",
       "      <th>C</th>\n",
       "      <th>D</th>\n",
       "      <th>E</th>\n",
       "    </tr>\n",
       "  </thead>\n",
       "  <tbody>\n",
       "    <tr>\n",
       "      <th>5</th>\n",
       "      <td>0.226901</td>\n",
       "      <td>0.585854</td>\n",
       "      <td>0.375922</td>\n",
       "      <td>0.855481</td>\n",
       "    </tr>\n",
       "    <tr>\n",
       "      <th>6</th>\n",
       "      <td>0.298088</td>\n",
       "      <td>0.808357</td>\n",
       "      <td>0.612956</td>\n",
       "      <td>0.292066</td>\n",
       "    </tr>\n",
       "    <tr>\n",
       "      <th>7</th>\n",
       "      <td>0.185523</td>\n",
       "      <td>0.776844</td>\n",
       "      <td>0.625154</td>\n",
       "      <td>0.281869</td>\n",
       "    </tr>\n",
       "    <tr>\n",
       "      <th>8</th>\n",
       "      <td>0.103625</td>\n",
       "      <td>0.185792</td>\n",
       "      <td>0.370414</td>\n",
       "      <td>0.289675</td>\n",
       "    </tr>\n",
       "    <tr>\n",
       "      <th>9</th>\n",
       "      <td>0.101683</td>\n",
       "      <td>0.787454</td>\n",
       "      <td>0.005102</td>\n",
       "      <td>0.871137</td>\n",
       "    </tr>\n",
       "    <tr>\n",
       "      <th>...</th>\n",
       "      <td>...</td>\n",
       "      <td>...</td>\n",
       "      <td>...</td>\n",
       "      <td>...</td>\n",
       "    </tr>\n",
       "    <tr>\n",
       "      <th>315</th>\n",
       "      <td>0.222196</td>\n",
       "      <td>0.743926</td>\n",
       "      <td>0.424952</td>\n",
       "      <td>0.257754</td>\n",
       "    </tr>\n",
       "    <tr>\n",
       "      <th>321</th>\n",
       "      <td>0.163032</td>\n",
       "      <td>0.590114</td>\n",
       "      <td>0.022772</td>\n",
       "      <td>0.620229</td>\n",
       "    </tr>\n",
       "    <tr>\n",
       "      <th>324</th>\n",
       "      <td>0.017750</td>\n",
       "      <td>0.819989</td>\n",
       "      <td>0.418852</td>\n",
       "      <td>0.466498</td>\n",
       "    </tr>\n",
       "    <tr>\n",
       "      <th>325</th>\n",
       "      <td>0.170877</td>\n",
       "      <td>0.510583</td>\n",
       "      <td>0.102239</td>\n",
       "      <td>0.375501</td>\n",
       "    </tr>\n",
       "    <tr>\n",
       "      <th>329</th>\n",
       "      <td>0.098887</td>\n",
       "      <td>0.133443</td>\n",
       "      <td>0.873607</td>\n",
       "      <td>0.342575</td>\n",
       "    </tr>\n",
       "  </tbody>\n",
       "</table>\n",
       "<p>106 rows × 4 columns</p>\n",
       "</div>"
      ],
      "text/plain": [
       "            B         C         D         E\n",
       "5    0.226901  0.585854  0.375922  0.855481\n",
       "6    0.298088  0.808357  0.612956  0.292066\n",
       "7    0.185523  0.776844  0.625154  0.281869\n",
       "8    0.103625  0.185792  0.370414  0.289675\n",
       "9    0.101683  0.787454  0.005102  0.871137\n",
       "..        ...       ...       ...       ...\n",
       "315  0.222196  0.743926  0.424952  0.257754\n",
       "321  0.163032  0.590114  0.022772  0.620229\n",
       "324  0.017750  0.819989  0.418852  0.466498\n",
       "325  0.170877  0.510583  0.102239  0.375501\n",
       "329  0.098887  0.133443  0.873607  0.342575\n",
       "\n",
       "[106 rows x 4 columns]"
      ]
     },
     "execution_count": 153,
     "metadata": {},
     "output_type": "execute_result"
    }
   ],
   "source": [
    "newDf.loc[(newDf[\"B\"]<0.3)]"
   ]
  },
  {
   "cell_type": "code",
   "execution_count": 154,
   "id": "df74d10b",
   "metadata": {},
   "outputs": [
    {
     "data": {
      "text/html": [
       "<div>\n",
       "<style scoped>\n",
       "    .dataframe tbody tr th:only-of-type {\n",
       "        vertical-align: middle;\n",
       "    }\n",
       "\n",
       "    .dataframe tbody tr th {\n",
       "        vertical-align: top;\n",
       "    }\n",
       "\n",
       "    .dataframe thead th {\n",
       "        text-align: right;\n",
       "    }\n",
       "</style>\n",
       "<table border=\"1\" class=\"dataframe\">\n",
       "  <thead>\n",
       "    <tr style=\"text-align: right;\">\n",
       "      <th></th>\n",
       "      <th>B</th>\n",
       "      <th>C</th>\n",
       "      <th>D</th>\n",
       "      <th>E</th>\n",
       "    </tr>\n",
       "  </thead>\n",
       "  <tbody>\n",
       "    <tr>\n",
       "      <th>5</th>\n",
       "      <td>0.226901</td>\n",
       "      <td>0.585854</td>\n",
       "      <td>0.375922</td>\n",
       "      <td>0.855481</td>\n",
       "    </tr>\n",
       "    <tr>\n",
       "      <th>6</th>\n",
       "      <td>0.298088</td>\n",
       "      <td>0.808357</td>\n",
       "      <td>0.612956</td>\n",
       "      <td>0.292066</td>\n",
       "    </tr>\n",
       "    <tr>\n",
       "      <th>7</th>\n",
       "      <td>0.185523</td>\n",
       "      <td>0.776844</td>\n",
       "      <td>0.625154</td>\n",
       "      <td>0.281869</td>\n",
       "    </tr>\n",
       "    <tr>\n",
       "      <th>8</th>\n",
       "      <td>0.103625</td>\n",
       "      <td>0.185792</td>\n",
       "      <td>0.370414</td>\n",
       "      <td>0.289675</td>\n",
       "    </tr>\n",
       "    <tr>\n",
       "      <th>10</th>\n",
       "      <td>0.286224</td>\n",
       "      <td>0.167519</td>\n",
       "      <td>0.629715</td>\n",
       "      <td>0.656681</td>\n",
       "    </tr>\n",
       "    <tr>\n",
       "      <th>...</th>\n",
       "      <td>...</td>\n",
       "      <td>...</td>\n",
       "      <td>...</td>\n",
       "      <td>...</td>\n",
       "    </tr>\n",
       "    <tr>\n",
       "      <th>312</th>\n",
       "      <td>0.190419</td>\n",
       "      <td>0.790646</td>\n",
       "      <td>0.507998</td>\n",
       "      <td>0.751695</td>\n",
       "    </tr>\n",
       "    <tr>\n",
       "      <th>313</th>\n",
       "      <td>0.118357</td>\n",
       "      <td>0.291732</td>\n",
       "      <td>0.465498</td>\n",
       "      <td>0.652851</td>\n",
       "    </tr>\n",
       "    <tr>\n",
       "      <th>315</th>\n",
       "      <td>0.222196</td>\n",
       "      <td>0.743926</td>\n",
       "      <td>0.424952</td>\n",
       "      <td>0.257754</td>\n",
       "    </tr>\n",
       "    <tr>\n",
       "      <th>324</th>\n",
       "      <td>0.017750</td>\n",
       "      <td>0.819989</td>\n",
       "      <td>0.418852</td>\n",
       "      <td>0.466498</td>\n",
       "    </tr>\n",
       "    <tr>\n",
       "      <th>329</th>\n",
       "      <td>0.098887</td>\n",
       "      <td>0.133443</td>\n",
       "      <td>0.873607</td>\n",
       "      <td>0.342575</td>\n",
       "    </tr>\n",
       "  </tbody>\n",
       "</table>\n",
       "<p>79 rows × 4 columns</p>\n",
       "</div>"
      ],
      "text/plain": [
       "            B         C         D         E\n",
       "5    0.226901  0.585854  0.375922  0.855481\n",
       "6    0.298088  0.808357  0.612956  0.292066\n",
       "7    0.185523  0.776844  0.625154  0.281869\n",
       "8    0.103625  0.185792  0.370414  0.289675\n",
       "10   0.286224  0.167519  0.629715  0.656681\n",
       "..        ...       ...       ...       ...\n",
       "312  0.190419  0.790646  0.507998  0.751695\n",
       "313  0.118357  0.291732  0.465498  0.652851\n",
       "315  0.222196  0.743926  0.424952  0.257754\n",
       "324  0.017750  0.819989  0.418852  0.466498\n",
       "329  0.098887  0.133443  0.873607  0.342575\n",
       "\n",
       "[79 rows x 4 columns]"
      ]
     },
     "execution_count": 154,
     "metadata": {},
     "output_type": "execute_result"
    }
   ],
   "source": [
    "newDf.loc[(newDf[\"B\"]<0.3) & (newDf[\"D\"]>0.2)]"
   ]
  },
  {
   "cell_type": "code",
   "execution_count": 155,
   "id": "641f8296",
   "metadata": {},
   "outputs": [
    {
     "data": {
      "text/html": [
       "<div>\n",
       "<style scoped>\n",
       "    .dataframe tbody tr th:only-of-type {\n",
       "        vertical-align: middle;\n",
       "    }\n",
       "\n",
       "    .dataframe tbody tr th {\n",
       "        vertical-align: top;\n",
       "    }\n",
       "\n",
       "    .dataframe thead th {\n",
       "        text-align: right;\n",
       "    }\n",
       "</style>\n",
       "<table border=\"1\" class=\"dataframe\">\n",
       "  <thead>\n",
       "    <tr style=\"text-align: right;\">\n",
       "      <th></th>\n",
       "      <th>B</th>\n",
       "      <th>C</th>\n",
       "      <th>D</th>\n",
       "      <th>E</th>\n",
       "    </tr>\n",
       "  </thead>\n",
       "  <tbody>\n",
       "    <tr>\n",
       "      <th>0</th>\n",
       "      <td>0.992326</td>\n",
       "      <td>0.029421</td>\n",
       "      <td>0.405688</td>\n",
       "      <td>0.591369</td>\n",
       "    </tr>\n",
       "    <tr>\n",
       "      <th>1</th>\n",
       "      <td>0.937942</td>\n",
       "      <td>0.159810</td>\n",
       "      <td>0.810685</td>\n",
       "      <td>0.054391</td>\n",
       "    </tr>\n",
       "    <tr>\n",
       "      <th>2</th>\n",
       "      <td>0.616511</td>\n",
       "      <td>0.396288</td>\n",
       "      <td>0.438617</td>\n",
       "      <td>0.898269</td>\n",
       "    </tr>\n",
       "  </tbody>\n",
       "</table>\n",
       "</div>"
      ],
      "text/plain": [
       "          B         C         D         E\n",
       "0  0.992326  0.029421  0.405688  0.591369\n",
       "1  0.937942  0.159810  0.810685  0.054391\n",
       "2  0.616511  0.396288  0.438617  0.898269"
      ]
     },
     "execution_count": 155,
     "metadata": {},
     "output_type": "execute_result"
    }
   ],
   "source": [
    "newDf.head(3)"
   ]
  },
  {
   "cell_type": "markdown",
   "id": "ff624342",
   "metadata": {},
   "source": [
    "## iloc"
   ]
  },
  {
   "cell_type": "code",
   "execution_count": 156,
   "id": "7576255c",
   "metadata": {},
   "outputs": [
    {
     "data": {
      "text/plain": [
       "0.992325669505626"
      ]
     },
     "execution_count": 156,
     "metadata": {},
     "output_type": "execute_result"
    }
   ],
   "source": [
    "newDf.iloc[0,0]"
   ]
  },
  {
   "cell_type": "code",
   "execution_count": 157,
   "id": "7480b0eb",
   "metadata": {},
   "outputs": [],
   "source": [
    "newDf.iloc[0,0]=555"
   ]
  },
  {
   "cell_type": "code",
   "execution_count": 158,
   "id": "88f438c5",
   "metadata": {},
   "outputs": [
    {
     "data": {
      "text/html": [
       "<div>\n",
       "<style scoped>\n",
       "    .dataframe tbody tr th:only-of-type {\n",
       "        vertical-align: middle;\n",
       "    }\n",
       "\n",
       "    .dataframe tbody tr th {\n",
       "        vertical-align: top;\n",
       "    }\n",
       "\n",
       "    .dataframe thead th {\n",
       "        text-align: right;\n",
       "    }\n",
       "</style>\n",
       "<table border=\"1\" class=\"dataframe\">\n",
       "  <thead>\n",
       "    <tr style=\"text-align: right;\">\n",
       "      <th></th>\n",
       "      <th>B</th>\n",
       "      <th>C</th>\n",
       "      <th>D</th>\n",
       "      <th>E</th>\n",
       "    </tr>\n",
       "  </thead>\n",
       "  <tbody>\n",
       "    <tr>\n",
       "      <th>0</th>\n",
       "      <td>555.000000</td>\n",
       "      <td>0.029421</td>\n",
       "      <td>0.405688</td>\n",
       "      <td>0.591369</td>\n",
       "    </tr>\n",
       "    <tr>\n",
       "      <th>1</th>\n",
       "      <td>0.937942</td>\n",
       "      <td>0.159810</td>\n",
       "      <td>0.810685</td>\n",
       "      <td>0.054391</td>\n",
       "    </tr>\n",
       "    <tr>\n",
       "      <th>2</th>\n",
       "      <td>0.616511</td>\n",
       "      <td>0.396288</td>\n",
       "      <td>0.438617</td>\n",
       "      <td>0.898269</td>\n",
       "    </tr>\n",
       "    <tr>\n",
       "      <th>3</th>\n",
       "      <td>0.528965</td>\n",
       "      <td>0.438421</td>\n",
       "      <td>0.608056</td>\n",
       "      <td>0.621835</td>\n",
       "    </tr>\n",
       "    <tr>\n",
       "      <th>4</th>\n",
       "      <td>0.993836</td>\n",
       "      <td>0.748688</td>\n",
       "      <td>0.414415</td>\n",
       "      <td>0.318291</td>\n",
       "    </tr>\n",
       "  </tbody>\n",
       "</table>\n",
       "</div>"
      ],
      "text/plain": [
       "            B         C         D         E\n",
       "0  555.000000  0.029421  0.405688  0.591369\n",
       "1    0.937942  0.159810  0.810685  0.054391\n",
       "2    0.616511  0.396288  0.438617  0.898269\n",
       "3    0.528965  0.438421  0.608056  0.621835\n",
       "4    0.993836  0.748688  0.414415  0.318291"
      ]
     },
     "execution_count": 158,
     "metadata": {},
     "output_type": "execute_result"
    }
   ],
   "source": [
    "newDf.head()"
   ]
  },
  {
   "cell_type": "code",
   "execution_count": 159,
   "id": "eb0e9ae2",
   "metadata": {},
   "outputs": [
    {
     "data": {
      "text/html": [
       "<div>\n",
       "<style scoped>\n",
       "    .dataframe tbody tr th:only-of-type {\n",
       "        vertical-align: middle;\n",
       "    }\n",
       "\n",
       "    .dataframe tbody tr th {\n",
       "        vertical-align: top;\n",
       "    }\n",
       "\n",
       "    .dataframe thead th {\n",
       "        text-align: right;\n",
       "    }\n",
       "</style>\n",
       "<table border=\"1\" class=\"dataframe\">\n",
       "  <thead>\n",
       "    <tr style=\"text-align: right;\">\n",
       "      <th></th>\n",
       "      <th>C</th>\n",
       "      <th>E</th>\n",
       "    </tr>\n",
       "  </thead>\n",
       "  <tbody>\n",
       "    <tr>\n",
       "      <th>0</th>\n",
       "      <td>0.029421</td>\n",
       "      <td>0.591369</td>\n",
       "    </tr>\n",
       "    <tr>\n",
       "      <th>4</th>\n",
       "      <td>0.748688</td>\n",
       "      <td>0.318291</td>\n",
       "    </tr>\n",
       "  </tbody>\n",
       "</table>\n",
       "</div>"
      ],
      "text/plain": [
       "          C         E\n",
       "0  0.029421  0.591369\n",
       "4  0.748688  0.318291"
      ]
     },
     "execution_count": 159,
     "metadata": {},
     "output_type": "execute_result"
    }
   ],
   "source": [
    "newDf.iloc[[0,4],[1,3]]"
   ]
  },
  {
   "cell_type": "code",
   "execution_count": 160,
   "id": "118e433d",
   "metadata": {},
   "outputs": [
    {
     "data": {
      "text/html": [
       "<div>\n",
       "<style scoped>\n",
       "    .dataframe tbody tr th:only-of-type {\n",
       "        vertical-align: middle;\n",
       "    }\n",
       "\n",
       "    .dataframe tbody tr th {\n",
       "        vertical-align: top;\n",
       "    }\n",
       "\n",
       "    .dataframe thead th {\n",
       "        text-align: right;\n",
       "    }\n",
       "</style>\n",
       "<table border=\"1\" class=\"dataframe\">\n",
       "  <thead>\n",
       "    <tr style=\"text-align: right;\">\n",
       "      <th></th>\n",
       "      <th>B</th>\n",
       "      <th>C</th>\n",
       "      <th>D</th>\n",
       "      <th>E</th>\n",
       "    </tr>\n",
       "  </thead>\n",
       "  <tbody>\n",
       "    <tr>\n",
       "      <th>0</th>\n",
       "      <td>555.000000</td>\n",
       "      <td>0.029421</td>\n",
       "      <td>0.405688</td>\n",
       "      <td>0.591369</td>\n",
       "    </tr>\n",
       "    <tr>\n",
       "      <th>1</th>\n",
       "      <td>0.937942</td>\n",
       "      <td>0.159810</td>\n",
       "      <td>0.810685</td>\n",
       "      <td>0.054391</td>\n",
       "    </tr>\n",
       "    <tr>\n",
       "      <th>2</th>\n",
       "      <td>0.616511</td>\n",
       "      <td>0.396288</td>\n",
       "      <td>0.438617</td>\n",
       "      <td>0.898269</td>\n",
       "    </tr>\n",
       "    <tr>\n",
       "      <th>3</th>\n",
       "      <td>0.528965</td>\n",
       "      <td>0.438421</td>\n",
       "      <td>0.608056</td>\n",
       "      <td>0.621835</td>\n",
       "    </tr>\n",
       "  </tbody>\n",
       "</table>\n",
       "</div>"
      ],
      "text/plain": [
       "            B         C         D         E\n",
       "0  555.000000  0.029421  0.405688  0.591369\n",
       "1    0.937942  0.159810  0.810685  0.054391\n",
       "2    0.616511  0.396288  0.438617  0.898269\n",
       "3    0.528965  0.438421  0.608056  0.621835"
      ]
     },
     "execution_count": 160,
     "metadata": {},
     "output_type": "execute_result"
    }
   ],
   "source": [
    "newDf.head(4)"
   ]
  },
  {
   "cell_type": "code",
   "execution_count": 161,
   "id": "71ed9437",
   "metadata": {},
   "outputs": [
    {
     "data": {
      "text/html": [
       "<div>\n",
       "<style scoped>\n",
       "    .dataframe tbody tr th:only-of-type {\n",
       "        vertical-align: middle;\n",
       "    }\n",
       "\n",
       "    .dataframe tbody tr th {\n",
       "        vertical-align: top;\n",
       "    }\n",
       "\n",
       "    .dataframe thead th {\n",
       "        text-align: right;\n",
       "    }\n",
       "</style>\n",
       "<table border=\"1\" class=\"dataframe\">\n",
       "  <thead>\n",
       "    <tr style=\"text-align: right;\">\n",
       "      <th></th>\n",
       "      <th>B</th>\n",
       "      <th>C</th>\n",
       "      <th>D</th>\n",
       "      <th>E</th>\n",
       "    </tr>\n",
       "  </thead>\n",
       "  <tbody>\n",
       "    <tr>\n",
       "      <th>1</th>\n",
       "      <td>0.937942</td>\n",
       "      <td>0.159810</td>\n",
       "      <td>0.810685</td>\n",
       "      <td>0.054391</td>\n",
       "    </tr>\n",
       "    <tr>\n",
       "      <th>2</th>\n",
       "      <td>0.616511</td>\n",
       "      <td>0.396288</td>\n",
       "      <td>0.438617</td>\n",
       "      <td>0.898269</td>\n",
       "    </tr>\n",
       "    <tr>\n",
       "      <th>3</th>\n",
       "      <td>0.528965</td>\n",
       "      <td>0.438421</td>\n",
       "      <td>0.608056</td>\n",
       "      <td>0.621835</td>\n",
       "    </tr>\n",
       "    <tr>\n",
       "      <th>4</th>\n",
       "      <td>0.993836</td>\n",
       "      <td>0.748688</td>\n",
       "      <td>0.414415</td>\n",
       "      <td>0.318291</td>\n",
       "    </tr>\n",
       "    <tr>\n",
       "      <th>5</th>\n",
       "      <td>0.226901</td>\n",
       "      <td>0.585854</td>\n",
       "      <td>0.375922</td>\n",
       "      <td>0.855481</td>\n",
       "    </tr>\n",
       "  </tbody>\n",
       "</table>\n",
       "</div>"
      ],
      "text/plain": [
       "          B         C         D         E\n",
       "1  0.937942  0.159810  0.810685  0.054391\n",
       "2  0.616511  0.396288  0.438617  0.898269\n",
       "3  0.528965  0.438421  0.608056  0.621835\n",
       "4  0.993836  0.748688  0.414415  0.318291\n",
       "5  0.226901  0.585854  0.375922  0.855481"
      ]
     },
     "execution_count": 161,
     "metadata": {},
     "output_type": "execute_result"
    }
   ],
   "source": [
    "newDf.drop(0).head()"
   ]
  },
  {
   "cell_type": "code",
   "execution_count": 162,
   "id": "005bba18",
   "metadata": {},
   "outputs": [],
   "source": [
    "# newDf.drop(0, axis=1)"
   ]
  },
  {
   "cell_type": "code",
   "execution_count": 163,
   "id": "01ee438f",
   "metadata": {},
   "outputs": [],
   "source": [
    "# newDf.drop(\"B\", axis=1).head()"
   ]
  },
  {
   "cell_type": "code",
   "execution_count": 164,
   "id": "8970efaf",
   "metadata": {},
   "outputs": [
    {
     "data": {
      "text/html": [
       "<div>\n",
       "<style scoped>\n",
       "    .dataframe tbody tr th:only-of-type {\n",
       "        vertical-align: middle;\n",
       "    }\n",
       "\n",
       "    .dataframe tbody tr th {\n",
       "        vertical-align: top;\n",
       "    }\n",
       "\n",
       "    .dataframe thead th {\n",
       "        text-align: right;\n",
       "    }\n",
       "</style>\n",
       "<table border=\"1\" class=\"dataframe\">\n",
       "  <thead>\n",
       "    <tr style=\"text-align: right;\">\n",
       "      <th></th>\n",
       "      <th>B</th>\n",
       "      <th>E</th>\n",
       "    </tr>\n",
       "  </thead>\n",
       "  <tbody>\n",
       "    <tr>\n",
       "      <th>0</th>\n",
       "      <td>555.000000</td>\n",
       "      <td>0.591369</td>\n",
       "    </tr>\n",
       "    <tr>\n",
       "      <th>1</th>\n",
       "      <td>0.937942</td>\n",
       "      <td>0.054391</td>\n",
       "    </tr>\n",
       "    <tr>\n",
       "      <th>2</th>\n",
       "      <td>0.616511</td>\n",
       "      <td>0.898269</td>\n",
       "    </tr>\n",
       "    <tr>\n",
       "      <th>3</th>\n",
       "      <td>0.528965</td>\n",
       "      <td>0.621835</td>\n",
       "    </tr>\n",
       "    <tr>\n",
       "      <th>4</th>\n",
       "      <td>0.993836</td>\n",
       "      <td>0.318291</td>\n",
       "    </tr>\n",
       "  </tbody>\n",
       "</table>\n",
       "</div>"
      ],
      "text/plain": [
       "            B         E\n",
       "0  555.000000  0.591369\n",
       "1    0.937942  0.054391\n",
       "2    0.616511  0.898269\n",
       "3    0.528965  0.621835\n",
       "4    0.993836  0.318291"
      ]
     },
     "execution_count": 164,
     "metadata": {},
     "output_type": "execute_result"
    }
   ],
   "source": [
    "newDf.drop([\"C\", \"D\"], axis=1).head()"
   ]
  },
  {
   "cell_type": "code",
   "execution_count": 165,
   "id": "6f8ebaec",
   "metadata": {},
   "outputs": [
    {
     "data": {
      "text/html": [
       "<div>\n",
       "<style scoped>\n",
       "    .dataframe tbody tr th:only-of-type {\n",
       "        vertical-align: middle;\n",
       "    }\n",
       "\n",
       "    .dataframe tbody tr th {\n",
       "        vertical-align: top;\n",
       "    }\n",
       "\n",
       "    .dataframe thead th {\n",
       "        text-align: right;\n",
       "    }\n",
       "</style>\n",
       "<table border=\"1\" class=\"dataframe\">\n",
       "  <thead>\n",
       "    <tr style=\"text-align: right;\">\n",
       "      <th></th>\n",
       "      <th>B</th>\n",
       "      <th>C</th>\n",
       "      <th>D</th>\n",
       "      <th>E</th>\n",
       "    </tr>\n",
       "  </thead>\n",
       "  <tbody>\n",
       "    <tr>\n",
       "      <th>0</th>\n",
       "      <td>555.000000</td>\n",
       "      <td>0.029421</td>\n",
       "      <td>0.405688</td>\n",
       "      <td>0.591369</td>\n",
       "    </tr>\n",
       "    <tr>\n",
       "      <th>1</th>\n",
       "      <td>0.937942</td>\n",
       "      <td>0.159810</td>\n",
       "      <td>0.810685</td>\n",
       "      <td>0.054391</td>\n",
       "    </tr>\n",
       "    <tr>\n",
       "      <th>2</th>\n",
       "      <td>0.616511</td>\n",
       "      <td>0.396288</td>\n",
       "      <td>0.438617</td>\n",
       "      <td>0.898269</td>\n",
       "    </tr>\n",
       "    <tr>\n",
       "      <th>3</th>\n",
       "      <td>0.528965</td>\n",
       "      <td>0.438421</td>\n",
       "      <td>0.608056</td>\n",
       "      <td>0.621835</td>\n",
       "    </tr>\n",
       "    <tr>\n",
       "      <th>4</th>\n",
       "      <td>0.993836</td>\n",
       "      <td>0.748688</td>\n",
       "      <td>0.414415</td>\n",
       "      <td>0.318291</td>\n",
       "    </tr>\n",
       "  </tbody>\n",
       "</table>\n",
       "</div>"
      ],
      "text/plain": [
       "            B         C         D         E\n",
       "0  555.000000  0.029421  0.405688  0.591369\n",
       "1    0.937942  0.159810  0.810685  0.054391\n",
       "2    0.616511  0.396288  0.438617  0.898269\n",
       "3    0.528965  0.438421  0.608056  0.621835\n",
       "4    0.993836  0.748688  0.414415  0.318291"
      ]
     },
     "execution_count": 165,
     "metadata": {},
     "output_type": "execute_result"
    }
   ],
   "source": [
    "newDf.head()"
   ]
  },
  {
   "cell_type": "code",
   "execution_count": 166,
   "id": "499f3c14",
   "metadata": {},
   "outputs": [],
   "source": [
    "newDf.drop(['B', 'D'], axis=1, inplace=True)"
   ]
  },
  {
   "cell_type": "code",
   "execution_count": 167,
   "id": "d244b30c",
   "metadata": {},
   "outputs": [
    {
     "data": {
      "text/html": [
       "<div>\n",
       "<style scoped>\n",
       "    .dataframe tbody tr th:only-of-type {\n",
       "        vertical-align: middle;\n",
       "    }\n",
       "\n",
       "    .dataframe tbody tr th {\n",
       "        vertical-align: top;\n",
       "    }\n",
       "\n",
       "    .dataframe thead th {\n",
       "        text-align: right;\n",
       "    }\n",
       "</style>\n",
       "<table border=\"1\" class=\"dataframe\">\n",
       "  <thead>\n",
       "    <tr style=\"text-align: right;\">\n",
       "      <th></th>\n",
       "      <th>C</th>\n",
       "      <th>E</th>\n",
       "    </tr>\n",
       "  </thead>\n",
       "  <tbody>\n",
       "    <tr>\n",
       "      <th>0</th>\n",
       "      <td>0.029421</td>\n",
       "      <td>0.591369</td>\n",
       "    </tr>\n",
       "    <tr>\n",
       "      <th>1</th>\n",
       "      <td>0.159810</td>\n",
       "      <td>0.054391</td>\n",
       "    </tr>\n",
       "    <tr>\n",
       "      <th>2</th>\n",
       "      <td>0.396288</td>\n",
       "      <td>0.898269</td>\n",
       "    </tr>\n",
       "    <tr>\n",
       "      <th>3</th>\n",
       "      <td>0.438421</td>\n",
       "      <td>0.621835</td>\n",
       "    </tr>\n",
       "    <tr>\n",
       "      <th>4</th>\n",
       "      <td>0.748688</td>\n",
       "      <td>0.318291</td>\n",
       "    </tr>\n",
       "  </tbody>\n",
       "</table>\n",
       "</div>"
      ],
      "text/plain": [
       "          C         E\n",
       "0  0.029421  0.591369\n",
       "1  0.159810  0.054391\n",
       "2  0.396288  0.898269\n",
       "3  0.438421  0.621835\n",
       "4  0.748688  0.318291"
      ]
     },
     "execution_count": 167,
     "metadata": {},
     "output_type": "execute_result"
    }
   ],
   "source": [
    "newDf.head()"
   ]
  },
  {
   "cell_type": "code",
   "execution_count": 168,
   "id": "19724ab8",
   "metadata": {},
   "outputs": [
    {
     "data": {
      "text/html": [
       "<div>\n",
       "<style scoped>\n",
       "    .dataframe tbody tr th:only-of-type {\n",
       "        vertical-align: middle;\n",
       "    }\n",
       "\n",
       "    .dataframe tbody tr th {\n",
       "        vertical-align: top;\n",
       "    }\n",
       "\n",
       "    .dataframe thead th {\n",
       "        text-align: right;\n",
       "    }\n",
       "</style>\n",
       "<table border=\"1\" class=\"dataframe\">\n",
       "  <thead>\n",
       "    <tr style=\"text-align: right;\">\n",
       "      <th></th>\n",
       "      <th>index</th>\n",
       "      <th>C</th>\n",
       "      <th>E</th>\n",
       "    </tr>\n",
       "  </thead>\n",
       "  <tbody>\n",
       "    <tr>\n",
       "      <th>0</th>\n",
       "      <td>0</td>\n",
       "      <td>0.029421</td>\n",
       "      <td>0.591369</td>\n",
       "    </tr>\n",
       "    <tr>\n",
       "      <th>1</th>\n",
       "      <td>1</td>\n",
       "      <td>0.159810</td>\n",
       "      <td>0.054391</td>\n",
       "    </tr>\n",
       "    <tr>\n",
       "      <th>2</th>\n",
       "      <td>2</td>\n",
       "      <td>0.396288</td>\n",
       "      <td>0.898269</td>\n",
       "    </tr>\n",
       "    <tr>\n",
       "      <th>3</th>\n",
       "      <td>3</td>\n",
       "      <td>0.438421</td>\n",
       "      <td>0.621835</td>\n",
       "    </tr>\n",
       "    <tr>\n",
       "      <th>4</th>\n",
       "      <td>4</td>\n",
       "      <td>0.748688</td>\n",
       "      <td>0.318291</td>\n",
       "    </tr>\n",
       "  </tbody>\n",
       "</table>\n",
       "</div>"
      ],
      "text/plain": [
       "   index         C         E\n",
       "0      0  0.029421  0.591369\n",
       "1      1  0.159810  0.054391\n",
       "2      2  0.396288  0.898269\n",
       "3      3  0.438421  0.621835\n",
       "4      4  0.748688  0.318291"
      ]
     },
     "execution_count": 168,
     "metadata": {},
     "output_type": "execute_result"
    }
   ],
   "source": [
    "newDf.reset_index().head()"
   ]
  },
  {
   "cell_type": "code",
   "execution_count": 163,
   "id": "d3f8806e",
   "metadata": {},
   "outputs": [
    {
     "data": {
      "text/html": [
       "<div>\n",
       "<style scoped>\n",
       "    .dataframe tbody tr th:only-of-type {\n",
       "        vertical-align: middle;\n",
       "    }\n",
       "\n",
       "    .dataframe tbody tr th {\n",
       "        vertical-align: top;\n",
       "    }\n",
       "\n",
       "    .dataframe thead th {\n",
       "        text-align: right;\n",
       "    }\n",
       "</style>\n",
       "<table border=\"1\" class=\"dataframe\">\n",
       "  <thead>\n",
       "    <tr style=\"text-align: right;\">\n",
       "      <th></th>\n",
       "      <th>C</th>\n",
       "      <th>E</th>\n",
       "    </tr>\n",
       "  </thead>\n",
       "  <tbody>\n",
       "    <tr>\n",
       "      <th>0</th>\n",
       "      <td>0.870811</td>\n",
       "      <td>0.034058</td>\n",
       "    </tr>\n",
       "    <tr>\n",
       "      <th>1</th>\n",
       "      <td>0.209813</td>\n",
       "      <td>0.851167</td>\n",
       "    </tr>\n",
       "    <tr>\n",
       "      <th>2</th>\n",
       "      <td>0.781053</td>\n",
       "      <td>0.239450</td>\n",
       "    </tr>\n",
       "    <tr>\n",
       "      <th>3</th>\n",
       "      <td>0.940346</td>\n",
       "      <td>0.008776</td>\n",
       "    </tr>\n",
       "    <tr>\n",
       "      <th>4</th>\n",
       "      <td>0.409709</td>\n",
       "      <td>0.279607</td>\n",
       "    </tr>\n",
       "  </tbody>\n",
       "</table>\n",
       "</div>"
      ],
      "text/plain": [
       "          C         E\n",
       "0  0.870811  0.034058\n",
       "1  0.209813  0.851167\n",
       "2  0.781053  0.239450\n",
       "3  0.940346  0.008776\n",
       "4  0.409709  0.279607"
      ]
     },
     "execution_count": 163,
     "metadata": {},
     "output_type": "execute_result"
    }
   ],
   "source": [
    "newDf.reset_index(drop=True).head()"
   ]
  },
  {
   "cell_type": "code",
   "execution_count": 164,
   "id": "1eb2fb2c",
   "metadata": {},
   "outputs": [
    {
     "data": {
      "text/html": [
       "<div>\n",
       "<style scoped>\n",
       "    .dataframe tbody tr th:only-of-type {\n",
       "        vertical-align: middle;\n",
       "    }\n",
       "\n",
       "    .dataframe tbody tr th {\n",
       "        vertical-align: top;\n",
       "    }\n",
       "\n",
       "    .dataframe thead th {\n",
       "        text-align: right;\n",
       "    }\n",
       "</style>\n",
       "<table border=\"1\" class=\"dataframe\">\n",
       "  <thead>\n",
       "    <tr style=\"text-align: right;\">\n",
       "      <th></th>\n",
       "      <th>C</th>\n",
       "      <th>E</th>\n",
       "    </tr>\n",
       "  </thead>\n",
       "  <tbody>\n",
       "    <tr>\n",
       "      <th>0</th>\n",
       "      <td>0.870811</td>\n",
       "      <td>0.034058</td>\n",
       "    </tr>\n",
       "    <tr>\n",
       "      <th>1</th>\n",
       "      <td>0.209813</td>\n",
       "      <td>0.851167</td>\n",
       "    </tr>\n",
       "    <tr>\n",
       "      <th>2</th>\n",
       "      <td>0.781053</td>\n",
       "      <td>0.239450</td>\n",
       "    </tr>\n",
       "    <tr>\n",
       "      <th>3</th>\n",
       "      <td>0.940346</td>\n",
       "      <td>0.008776</td>\n",
       "    </tr>\n",
       "    <tr>\n",
       "      <th>4</th>\n",
       "      <td>0.409709</td>\n",
       "      <td>0.279607</td>\n",
       "    </tr>\n",
       "  </tbody>\n",
       "</table>\n",
       "</div>"
      ],
      "text/plain": [
       "          C         E\n",
       "0  0.870811  0.034058\n",
       "1  0.209813  0.851167\n",
       "2  0.781053  0.239450\n",
       "3  0.940346  0.008776\n",
       "4  0.409709  0.279607"
      ]
     },
     "execution_count": 164,
     "metadata": {},
     "output_type": "execute_result"
    }
   ],
   "source": [
    "newDf.head()"
   ]
  },
  {
   "cell_type": "code",
   "execution_count": 167,
   "id": "426b76d6",
   "metadata": {},
   "outputs": [],
   "source": [
    "newDf.reset_index(drop=True, inplace=True)"
   ]
  },
  {
   "cell_type": "code",
   "execution_count": 168,
   "id": "478ae7d5",
   "metadata": {},
   "outputs": [
    {
     "data": {
      "text/html": [
       "<div>\n",
       "<style scoped>\n",
       "    .dataframe tbody tr th:only-of-type {\n",
       "        vertical-align: middle;\n",
       "    }\n",
       "\n",
       "    .dataframe tbody tr th {\n",
       "        vertical-align: top;\n",
       "    }\n",
       "\n",
       "    .dataframe thead th {\n",
       "        text-align: right;\n",
       "    }\n",
       "</style>\n",
       "<table border=\"1\" class=\"dataframe\">\n",
       "  <thead>\n",
       "    <tr style=\"text-align: right;\">\n",
       "      <th></th>\n",
       "      <th>C</th>\n",
       "      <th>E</th>\n",
       "    </tr>\n",
       "  </thead>\n",
       "  <tbody>\n",
       "    <tr>\n",
       "      <th>0</th>\n",
       "      <td>0.870811</td>\n",
       "      <td>0.034058</td>\n",
       "    </tr>\n",
       "    <tr>\n",
       "      <th>1</th>\n",
       "      <td>0.209813</td>\n",
       "      <td>0.851167</td>\n",
       "    </tr>\n",
       "    <tr>\n",
       "      <th>2</th>\n",
       "      <td>0.781053</td>\n",
       "      <td>0.239450</td>\n",
       "    </tr>\n",
       "    <tr>\n",
       "      <th>3</th>\n",
       "      <td>0.940346</td>\n",
       "      <td>0.008776</td>\n",
       "    </tr>\n",
       "    <tr>\n",
       "      <th>4</th>\n",
       "      <td>0.409709</td>\n",
       "      <td>0.279607</td>\n",
       "    </tr>\n",
       "  </tbody>\n",
       "</table>\n",
       "</div>"
      ],
      "text/plain": [
       "          C         E\n",
       "0  0.870811  0.034058\n",
       "1  0.209813  0.851167\n",
       "2  0.781053  0.239450\n",
       "3  0.940346  0.008776\n",
       "4  0.409709  0.279607"
      ]
     },
     "execution_count": 168,
     "metadata": {},
     "output_type": "execute_result"
    }
   ],
   "source": [
    "newDf.head()"
   ]
  },
  {
   "cell_type": "markdown",
   "id": "45d17cd2-5567-4474-a2ec-ceb2984670ff",
   "metadata": {},
   "source": [
    "# Groupby\n",
    "The groupby method allows you to group rows of data together and call aggregate functions\n",
    "\n",
    "​\n",
    "​"
   ]
  },
  {
   "cell_type": "code",
   "execution_count": 2,
   "id": "321a8e7b",
   "metadata": {},
   "outputs": [],
   "source": [
    "data = {'Company':['GOOG','GOOG','MSFT','MSFT','FB','FB'],\n",
    "       'Person':['Sam','Charlie','Amy','Vanessa','Carl','Sarah'],\n",
    "       'Sales':[200,120,340,124,243,350]}"
   ]
  },
  {
   "cell_type": "code",
   "execution_count": 15,
   "id": "29c08d6a-6192-425e-b9a3-83801a5fa519",
   "metadata": {},
   "outputs": [],
   "source": [
    "df = pd.DataFrame(data)"
   ]
  },
  {
   "cell_type": "code",
   "execution_count": 16,
   "id": "afa78917-5b28-4d6d-b6f7-d782bce047b7",
   "metadata": {},
   "outputs": [
    {
     "data": {
      "text/html": [
       "<div>\n",
       "<style scoped>\n",
       "    .dataframe tbody tr th:only-of-type {\n",
       "        vertical-align: middle;\n",
       "    }\n",
       "\n",
       "    .dataframe tbody tr th {\n",
       "        vertical-align: top;\n",
       "    }\n",
       "\n",
       "    .dataframe thead th {\n",
       "        text-align: right;\n",
       "    }\n",
       "</style>\n",
       "<table border=\"1\" class=\"dataframe\">\n",
       "  <thead>\n",
       "    <tr style=\"text-align: right;\">\n",
       "      <th></th>\n",
       "      <th>Company</th>\n",
       "      <th>Person</th>\n",
       "      <th>Sales</th>\n",
       "    </tr>\n",
       "  </thead>\n",
       "  <tbody>\n",
       "    <tr>\n",
       "      <th>0</th>\n",
       "      <td>GOOG</td>\n",
       "      <td>Sam</td>\n",
       "      <td>200</td>\n",
       "    </tr>\n",
       "    <tr>\n",
       "      <th>1</th>\n",
       "      <td>GOOG</td>\n",
       "      <td>Charlie</td>\n",
       "      <td>120</td>\n",
       "    </tr>\n",
       "    <tr>\n",
       "      <th>2</th>\n",
       "      <td>MSFT</td>\n",
       "      <td>Amy</td>\n",
       "      <td>340</td>\n",
       "    </tr>\n",
       "    <tr>\n",
       "      <th>3</th>\n",
       "      <td>MSFT</td>\n",
       "      <td>Vanessa</td>\n",
       "      <td>124</td>\n",
       "    </tr>\n",
       "    <tr>\n",
       "      <th>4</th>\n",
       "      <td>FB</td>\n",
       "      <td>Carl</td>\n",
       "      <td>243</td>\n",
       "    </tr>\n",
       "    <tr>\n",
       "      <th>5</th>\n",
       "      <td>FB</td>\n",
       "      <td>Sarah</td>\n",
       "      <td>350</td>\n",
       "    </tr>\n",
       "  </tbody>\n",
       "</table>\n",
       "</div>"
      ],
      "text/plain": [
       "  Company   Person  Sales\n",
       "0    GOOG      Sam    200\n",
       "1    GOOG  Charlie    120\n",
       "2    MSFT      Amy    340\n",
       "3    MSFT  Vanessa    124\n",
       "4      FB     Carl    243\n",
       "5      FB    Sarah    350"
      ]
     },
     "execution_count": 16,
     "metadata": {},
     "output_type": "execute_result"
    }
   ],
   "source": [
    "df"
   ]
  },
  {
   "cell_type": "markdown",
   "id": "c9fa6ecd-3687-49c0-92cc-260f6fa64c8b",
   "metadata": {},
   "source": [
    "### Now you can use the .groupby() method to group rows together based off of a column name.\n",
    "For instance let's group based off of Company. This will create a DataFrameGroupBy object:"
   ]
  },
  {
   "cell_type": "code",
   "execution_count": 6,
   "id": "82a87de3-6f8c-4e78-a337-067df0eacadb",
   "metadata": {},
   "outputs": [
    {
     "data": {
      "text/plain": [
       "<pandas.core.groupby.generic.DataFrameGroupBy object at 0x0000025CA2F7B690>"
      ]
     },
     "execution_count": 6,
     "metadata": {},
     "output_type": "execute_result"
    }
   ],
   "source": [
    "df.groupby('Company')"
   ]
  },
  {
   "cell_type": "markdown",
   "id": "79e87860-497b-4421-b073-57f8c635f9e2",
   "metadata": {},
   "source": [
    "##### You can save this object as a new variable:"
   ]
  },
  {
   "cell_type": "code",
   "execution_count": 7,
   "id": "bc653e03-6843-40cc-9ef7-ada128e011f2",
   "metadata": {},
   "outputs": [
    {
     "data": {
      "text/plain": [
       "pandas.core.groupby.generic.DataFrameGroupBy"
      ]
     },
     "execution_count": 7,
     "metadata": {},
     "output_type": "execute_result"
    }
   ],
   "source": [
    "by_comp = df.groupby(\"Company\")\n",
    "type(by_comp)"
   ]
  },
  {
   "cell_type": "markdown",
   "id": "6722c7d4-1fcb-47bd-a82d-5f417aa06668",
   "metadata": {},
   "source": [
    "#### And then call aggregate methods of the object:"
   ]
  },
  {
   "cell_type": "code",
   "execution_count": null,
   "id": "f82b5e22-49fb-41ff-a9f9-a47d81490804",
   "metadata": {},
   "outputs": [],
   "source": []
  },
  {
   "cell_type": "code",
   "execution_count": 8,
   "id": "f9542a6e-71fd-458c-8c35-56255b20a4f8",
   "metadata": {},
   "outputs": [
    {
     "name": "stderr",
     "output_type": "stream",
     "text": [
      "C:\\Users\\HP\\AppData\\Local\\Temp\\ipykernel_960\\821838057.py:1: FutureWarning: The default value of numeric_only in DataFrameGroupBy.mean is deprecated. In a future version, numeric_only will default to False. Either specify numeric_only or select only columns which should be valid for the function.\n",
      "  by_comp.mean()\n"
     ]
    },
    {
     "data": {
      "text/html": [
       "<div>\n",
       "<style scoped>\n",
       "    .dataframe tbody tr th:only-of-type {\n",
       "        vertical-align: middle;\n",
       "    }\n",
       "\n",
       "    .dataframe tbody tr th {\n",
       "        vertical-align: top;\n",
       "    }\n",
       "\n",
       "    .dataframe thead th {\n",
       "        text-align: right;\n",
       "    }\n",
       "</style>\n",
       "<table border=\"1\" class=\"dataframe\">\n",
       "  <thead>\n",
       "    <tr style=\"text-align: right;\">\n",
       "      <th></th>\n",
       "      <th>Sales</th>\n",
       "    </tr>\n",
       "    <tr>\n",
       "      <th>Company</th>\n",
       "      <th></th>\n",
       "    </tr>\n",
       "  </thead>\n",
       "  <tbody>\n",
       "    <tr>\n",
       "      <th>FB</th>\n",
       "      <td>296.5</td>\n",
       "    </tr>\n",
       "    <tr>\n",
       "      <th>GOOG</th>\n",
       "      <td>160.0</td>\n",
       "    </tr>\n",
       "    <tr>\n",
       "      <th>MSFT</th>\n",
       "      <td>232.0</td>\n",
       "    </tr>\n",
       "  </tbody>\n",
       "</table>\n",
       "</div>"
      ],
      "text/plain": [
       "         Sales\n",
       "Company       \n",
       "FB       296.5\n",
       "GOOG     160.0\n",
       "MSFT     232.0"
      ]
     },
     "execution_count": 8,
     "metadata": {},
     "output_type": "execute_result"
    }
   ],
   "source": [
    "by_comp.mean()"
   ]
  },
  {
   "cell_type": "code",
   "execution_count": 9,
   "id": "43a7e580-2f64-4f58-8dcf-226b9008f9fd",
   "metadata": {},
   "outputs": [
    {
     "name": "stderr",
     "output_type": "stream",
     "text": [
      "C:\\Users\\HP\\AppData\\Local\\Temp\\ipykernel_960\\2058252646.py:1: FutureWarning: The default value of numeric_only in DataFrameGroupBy.mean is deprecated. In a future version, numeric_only will default to False. Either specify numeric_only or select only columns which should be valid for the function.\n",
      "  df.groupby('Company').mean()\n"
     ]
    },
    {
     "data": {
      "text/html": [
       "<div>\n",
       "<style scoped>\n",
       "    .dataframe tbody tr th:only-of-type {\n",
       "        vertical-align: middle;\n",
       "    }\n",
       "\n",
       "    .dataframe tbody tr th {\n",
       "        vertical-align: top;\n",
       "    }\n",
       "\n",
       "    .dataframe thead th {\n",
       "        text-align: right;\n",
       "    }\n",
       "</style>\n",
       "<table border=\"1\" class=\"dataframe\">\n",
       "  <thead>\n",
       "    <tr style=\"text-align: right;\">\n",
       "      <th></th>\n",
       "      <th>Sales</th>\n",
       "    </tr>\n",
       "    <tr>\n",
       "      <th>Company</th>\n",
       "      <th></th>\n",
       "    </tr>\n",
       "  </thead>\n",
       "  <tbody>\n",
       "    <tr>\n",
       "      <th>FB</th>\n",
       "      <td>296.5</td>\n",
       "    </tr>\n",
       "    <tr>\n",
       "      <th>GOOG</th>\n",
       "      <td>160.0</td>\n",
       "    </tr>\n",
       "    <tr>\n",
       "      <th>MSFT</th>\n",
       "      <td>232.0</td>\n",
       "    </tr>\n",
       "  </tbody>\n",
       "</table>\n",
       "</div>"
      ],
      "text/plain": [
       "         Sales\n",
       "Company       \n",
       "FB       296.5\n",
       "GOOG     160.0\n",
       "MSFT     232.0"
      ]
     },
     "execution_count": 9,
     "metadata": {},
     "output_type": "execute_result"
    }
   ],
   "source": [
    "df.groupby('Company').mean()"
   ]
  },
  {
   "cell_type": "code",
   "execution_count": 10,
   "id": "83b303f9-625c-4829-abc8-6e320b414fda",
   "metadata": {},
   "outputs": [
    {
     "name": "stderr",
     "output_type": "stream",
     "text": [
      "C:\\Users\\HP\\AppData\\Local\\Temp\\ipykernel_960\\3391457442.py:1: FutureWarning: The default value of numeric_only in DataFrameGroupBy.std is deprecated. In a future version, numeric_only will default to False. Either specify numeric_only or select only columns which should be valid for the function.\n",
      "  by_comp.std()\n"
     ]
    },
    {
     "data": {
      "text/html": [
       "<div>\n",
       "<style scoped>\n",
       "    .dataframe tbody tr th:only-of-type {\n",
       "        vertical-align: middle;\n",
       "    }\n",
       "\n",
       "    .dataframe tbody tr th {\n",
       "        vertical-align: top;\n",
       "    }\n",
       "\n",
       "    .dataframe thead th {\n",
       "        text-align: right;\n",
       "    }\n",
       "</style>\n",
       "<table border=\"1\" class=\"dataframe\">\n",
       "  <thead>\n",
       "    <tr style=\"text-align: right;\">\n",
       "      <th></th>\n",
       "      <th>Sales</th>\n",
       "    </tr>\n",
       "    <tr>\n",
       "      <th>Company</th>\n",
       "      <th></th>\n",
       "    </tr>\n",
       "  </thead>\n",
       "  <tbody>\n",
       "    <tr>\n",
       "      <th>FB</th>\n",
       "      <td>75.660426</td>\n",
       "    </tr>\n",
       "    <tr>\n",
       "      <th>GOOG</th>\n",
       "      <td>56.568542</td>\n",
       "    </tr>\n",
       "    <tr>\n",
       "      <th>MSFT</th>\n",
       "      <td>152.735065</td>\n",
       "    </tr>\n",
       "  </tbody>\n",
       "</table>\n",
       "</div>"
      ],
      "text/plain": [
       "              Sales\n",
       "Company            \n",
       "FB        75.660426\n",
       "GOOG      56.568542\n",
       "MSFT     152.735065"
      ]
     },
     "execution_count": 10,
     "metadata": {},
     "output_type": "execute_result"
    }
   ],
   "source": [
    "by_comp.std()"
   ]
  },
  {
   "cell_type": "code",
   "execution_count": 11,
   "id": "099a0ec6-2d70-4c7b-b6d3-78408d22b86d",
   "metadata": {},
   "outputs": [
    {
     "data": {
      "text/html": [
       "<div>\n",
       "<style scoped>\n",
       "    .dataframe tbody tr th:only-of-type {\n",
       "        vertical-align: middle;\n",
       "    }\n",
       "\n",
       "    .dataframe tbody tr th {\n",
       "        vertical-align: top;\n",
       "    }\n",
       "\n",
       "    .dataframe thead th {\n",
       "        text-align: right;\n",
       "    }\n",
       "</style>\n",
       "<table border=\"1\" class=\"dataframe\">\n",
       "  <thead>\n",
       "    <tr style=\"text-align: right;\">\n",
       "      <th></th>\n",
       "      <th>Person</th>\n",
       "      <th>Sales</th>\n",
       "    </tr>\n",
       "    <tr>\n",
       "      <th>Company</th>\n",
       "      <th></th>\n",
       "      <th></th>\n",
       "    </tr>\n",
       "  </thead>\n",
       "  <tbody>\n",
       "    <tr>\n",
       "      <th>FB</th>\n",
       "      <td>Carl</td>\n",
       "      <td>243</td>\n",
       "    </tr>\n",
       "    <tr>\n",
       "      <th>GOOG</th>\n",
       "      <td>Charlie</td>\n",
       "      <td>120</td>\n",
       "    </tr>\n",
       "    <tr>\n",
       "      <th>MSFT</th>\n",
       "      <td>Amy</td>\n",
       "      <td>124</td>\n",
       "    </tr>\n",
       "  </tbody>\n",
       "</table>\n",
       "</div>"
      ],
      "text/plain": [
       "          Person  Sales\n",
       "Company                \n",
       "FB          Carl    243\n",
       "GOOG     Charlie    120\n",
       "MSFT         Amy    124"
      ]
     },
     "execution_count": 11,
     "metadata": {},
     "output_type": "execute_result"
    }
   ],
   "source": [
    "by_comp.min()"
   ]
  },
  {
   "cell_type": "code",
   "execution_count": 12,
   "id": "de064240-1551-44b2-a5e2-6aa59b59cfed",
   "metadata": {},
   "outputs": [
    {
     "data": {
      "text/html": [
       "<div>\n",
       "<style scoped>\n",
       "    .dataframe tbody tr th:only-of-type {\n",
       "        vertical-align: middle;\n",
       "    }\n",
       "\n",
       "    .dataframe tbody tr th {\n",
       "        vertical-align: top;\n",
       "    }\n",
       "\n",
       "    .dataframe thead th {\n",
       "        text-align: right;\n",
       "    }\n",
       "</style>\n",
       "<table border=\"1\" class=\"dataframe\">\n",
       "  <thead>\n",
       "    <tr style=\"text-align: right;\">\n",
       "      <th></th>\n",
       "      <th>Person</th>\n",
       "      <th>Sales</th>\n",
       "    </tr>\n",
       "    <tr>\n",
       "      <th>Company</th>\n",
       "      <th></th>\n",
       "      <th></th>\n",
       "    </tr>\n",
       "  </thead>\n",
       "  <tbody>\n",
       "    <tr>\n",
       "      <th>FB</th>\n",
       "      <td>Sarah</td>\n",
       "      <td>350</td>\n",
       "    </tr>\n",
       "    <tr>\n",
       "      <th>GOOG</th>\n",
       "      <td>Sam</td>\n",
       "      <td>200</td>\n",
       "    </tr>\n",
       "    <tr>\n",
       "      <th>MSFT</th>\n",
       "      <td>Vanessa</td>\n",
       "      <td>340</td>\n",
       "    </tr>\n",
       "  </tbody>\n",
       "</table>\n",
       "</div>"
      ],
      "text/plain": [
       "          Person  Sales\n",
       "Company                \n",
       "FB         Sarah    350\n",
       "GOOG         Sam    200\n",
       "MSFT     Vanessa    340"
      ]
     },
     "execution_count": 12,
     "metadata": {},
     "output_type": "execute_result"
    }
   ],
   "source": [
    "by_comp.max()"
   ]
  },
  {
   "cell_type": "code",
   "execution_count": 13,
   "id": "0f2eaad7-ee3b-4664-80cf-3cdbd81a2d94",
   "metadata": {},
   "outputs": [
    {
     "data": {
      "text/html": [
       "<div>\n",
       "<style scoped>\n",
       "    .dataframe tbody tr th:only-of-type {\n",
       "        vertical-align: middle;\n",
       "    }\n",
       "\n",
       "    .dataframe tbody tr th {\n",
       "        vertical-align: top;\n",
       "    }\n",
       "\n",
       "    .dataframe thead th {\n",
       "        text-align: right;\n",
       "    }\n",
       "</style>\n",
       "<table border=\"1\" class=\"dataframe\">\n",
       "  <thead>\n",
       "    <tr style=\"text-align: right;\">\n",
       "      <th></th>\n",
       "      <th>Person</th>\n",
       "      <th>Sales</th>\n",
       "    </tr>\n",
       "    <tr>\n",
       "      <th>Company</th>\n",
       "      <th></th>\n",
       "      <th></th>\n",
       "    </tr>\n",
       "  </thead>\n",
       "  <tbody>\n",
       "    <tr>\n",
       "      <th>FB</th>\n",
       "      <td>2</td>\n",
       "      <td>2</td>\n",
       "    </tr>\n",
       "    <tr>\n",
       "      <th>GOOG</th>\n",
       "      <td>2</td>\n",
       "      <td>2</td>\n",
       "    </tr>\n",
       "    <tr>\n",
       "      <th>MSFT</th>\n",
       "      <td>2</td>\n",
       "      <td>2</td>\n",
       "    </tr>\n",
       "  </tbody>\n",
       "</table>\n",
       "</div>"
      ],
      "text/plain": [
       "         Person  Sales\n",
       "Company               \n",
       "FB            2      2\n",
       "GOOG          2      2\n",
       "MSFT          2      2"
      ]
     },
     "execution_count": 13,
     "metadata": {},
     "output_type": "execute_result"
    }
   ],
   "source": [
    "by_comp.count()"
   ]
  },
  {
   "cell_type": "code",
   "execution_count": 14,
   "id": "67f5bea3-09bd-45d4-8d41-7a5f1a4c18e8",
   "metadata": {},
   "outputs": [
    {
     "data": {
      "text/html": [
       "<div>\n",
       "<style scoped>\n",
       "    .dataframe tbody tr th:only-of-type {\n",
       "        vertical-align: middle;\n",
       "    }\n",
       "\n",
       "    .dataframe tbody tr th {\n",
       "        vertical-align: top;\n",
       "    }\n",
       "\n",
       "    .dataframe thead tr th {\n",
       "        text-align: left;\n",
       "    }\n",
       "\n",
       "    .dataframe thead tr:last-of-type th {\n",
       "        text-align: right;\n",
       "    }\n",
       "</style>\n",
       "<table border=\"1\" class=\"dataframe\">\n",
       "  <thead>\n",
       "    <tr>\n",
       "      <th></th>\n",
       "      <th colspan=\"8\" halign=\"left\">Sales</th>\n",
       "    </tr>\n",
       "    <tr>\n",
       "      <th></th>\n",
       "      <th>count</th>\n",
       "      <th>mean</th>\n",
       "      <th>std</th>\n",
       "      <th>min</th>\n",
       "      <th>25%</th>\n",
       "      <th>50%</th>\n",
       "      <th>75%</th>\n",
       "      <th>max</th>\n",
       "    </tr>\n",
       "    <tr>\n",
       "      <th>Company</th>\n",
       "      <th></th>\n",
       "      <th></th>\n",
       "      <th></th>\n",
       "      <th></th>\n",
       "      <th></th>\n",
       "      <th></th>\n",
       "      <th></th>\n",
       "      <th></th>\n",
       "    </tr>\n",
       "  </thead>\n",
       "  <tbody>\n",
       "    <tr>\n",
       "      <th>FB</th>\n",
       "      <td>2.0</td>\n",
       "      <td>296.5</td>\n",
       "      <td>75.660426</td>\n",
       "      <td>243.0</td>\n",
       "      <td>269.75</td>\n",
       "      <td>296.5</td>\n",
       "      <td>323.25</td>\n",
       "      <td>350.0</td>\n",
       "    </tr>\n",
       "    <tr>\n",
       "      <th>GOOG</th>\n",
       "      <td>2.0</td>\n",
       "      <td>160.0</td>\n",
       "      <td>56.568542</td>\n",
       "      <td>120.0</td>\n",
       "      <td>140.00</td>\n",
       "      <td>160.0</td>\n",
       "      <td>180.00</td>\n",
       "      <td>200.0</td>\n",
       "    </tr>\n",
       "    <tr>\n",
       "      <th>MSFT</th>\n",
       "      <td>2.0</td>\n",
       "      <td>232.0</td>\n",
       "      <td>152.735065</td>\n",
       "      <td>124.0</td>\n",
       "      <td>178.00</td>\n",
       "      <td>232.0</td>\n",
       "      <td>286.00</td>\n",
       "      <td>340.0</td>\n",
       "    </tr>\n",
       "  </tbody>\n",
       "</table>\n",
       "</div>"
      ],
      "text/plain": [
       "        Sales                                                        \n",
       "        count   mean         std    min     25%    50%     75%    max\n",
       "Company                                                              \n",
       "FB        2.0  296.5   75.660426  243.0  269.75  296.5  323.25  350.0\n",
       "GOOG      2.0  160.0   56.568542  120.0  140.00  160.0  180.00  200.0\n",
       "MSFT      2.0  232.0  152.735065  124.0  178.00  232.0  286.00  340.0"
      ]
     },
     "execution_count": 14,
     "metadata": {},
     "output_type": "execute_result"
    }
   ],
   "source": [
    "by_comp.describe()"
   ]
  },
  {
   "cell_type": "code",
   "execution_count": null,
   "id": "a0b84fbe-c58a-48e5-a8fd-833a4c7695e4",
   "metadata": {},
   "outputs": [],
   "source": []
  },
  {
   "cell_type": "code",
   "execution_count": null,
   "id": "9ce06497",
   "metadata": {},
   "outputs": [],
   "source": []
  }
 ],
 "metadata": {
  "kernelspec": {
   "display_name": "Python [conda env:base] *",
   "language": "python",
   "name": "conda-base-py"
  },
  "language_info": {
   "codemirror_mode": {
    "name": "ipython",
    "version": 3
   },
   "file_extension": ".py",
   "mimetype": "text/x-python",
   "name": "python",
   "nbconvert_exporter": "python",
   "pygments_lexer": "ipython3",
   "version": "3.12.4"
  }
 },
 "nbformat": 4,
 "nbformat_minor": 5
}
